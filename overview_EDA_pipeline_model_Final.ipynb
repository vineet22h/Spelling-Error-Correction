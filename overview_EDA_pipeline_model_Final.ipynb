{
 "cells": [
  {
   "cell_type": "markdown",
   "metadata": {},
   "source": [
    "><strong>Problem Overview:</strong> Spelling error correction is the task of automatically correcting spelling errors in text; e.g. [I followed his advcie -> I followed his advice]. It can be used to not only help language learners improve their writing erros, but also alert native speakers to accidental mistakes or typos.<br>\n",
    "The aim of the task is to produce a correctly spelled sentence given a incorrectly spelled sentence.\n",
    "\n",
    "><strong>Business Problem: </strong> By building the automated spelling error correction. We can create automated tools for writing English scientific texts, Filtering out sentences that need spelling improvements, evaluating articles, etc. These all mentioned tasks are done manually so, by automating this process we can save both time and money for the company.\n",
    "\n",
    "><strong>ML formulation: </strong>Building a model using techniques like Encoder-Decoder architecture, Bidirectional LSTM with attention mechanism, etc. can be used.\n",
    "\n",
    "><strong>Performance metric: </strong>BLEU Score<br>\n",
    "Bilingual Evaluation Understudy(BLEU) is a metric for comparing machine translated sentence to one or more reference setences. The metric ranges on scale of 0 to 1, in an attempt to measure the adequacy and fluency of the MT output. the more overlap there is with their human reference translations and thus, the better the translation.<br>\n",
    "The BLEU is programming task to compare n-grams of the translated sentences with the reference sentence and count the number of matches. The more the matches the better the performance."
   ]
  },
  {
   "cell_type": "code",
   "execution_count": 1,
   "metadata": {},
   "outputs": [],
   "source": [
    "import os\n",
    "import re\n",
    "import numpy as np\n",
    "import pandas as pd\n",
    "import warnings\n",
    "import matplotlib.pyplot as plt\n",
    "import seaborn as sns\n",
    "import tensorflow as tf\n",
    "\n",
    "from tqdm import tqdm\n",
    "from sklearn.model_selection import train_test_split\n",
    "from tensorflow.keras.layers.experimental.preprocessing import TextVectorization\n",
    "from tensorflow.keras.layers import Embedding, LSTM, Dense\n",
    "from tensorflow.keras.layers import *\n",
    "from tensorflow.keras.callbacks import*\n",
    "from nltk.translate.bleu_score import sentence_bleu\n",
    "\n",
    "warnings.filterwarnings('ignore')"
   ]
  },
  {
   "cell_type": "markdown",
   "metadata": {},
   "source": [
    "# EDA"
   ]
  },
  {
   "cell_type": "markdown",
   "metadata": {},
   "source": [
    "<strong>Preprocessing data: </strong>Text files which we need to combine to introduce spelling errors in the dataset. So, that we can train model for spelling error correction."
   ]
  },
  {
   "cell_type": "code",
   "execution_count": 2,
   "metadata": {},
   "outputs": [
    {
     "data": {
      "text/plain": [
       "['nietzsche.txt',\n",
       " 'pride_and_prejudice.txt',\n",
       " 'shakespeare.txt',\n",
       " 'war_and_peace.txt',\n",
       " 'wonderland.txt']"
      ]
     },
     "execution_count": 2,
     "metadata": {},
     "output_type": "execute_result"
    }
   ],
   "source": [
    "text_files = os.listdir('data')\n",
    "text_files"
   ]
  },
  {
   "cell_type": "code",
   "execution_count": 3,
   "metadata": {},
   "outputs": [],
   "source": [
    "REMOVE_CHARS = '[#$%\"\\+@<=>!&,-.?:;()*\\[\\]\\'^_`{|}~/\\d\\t\\r\\x0b\\x0c]'\n",
    "train_text = ''\n",
    "for filename in text_files[:-1]:\n",
    "    file = open('data/'+filename).read().split()\n",
    "    train_text += ' '.join([re.sub(REMOVE_CHARS, '', token) for token in file])+' '"
   ]
  },
  {
   "cell_type": "code",
   "execution_count": 4,
   "metadata": {},
   "outputs": [
    {
     "name": "stdout",
     "output_type": "stream",
     "text": [
      "Size of unigram train data: 36821\n",
      "Size of bigram train data: 983848\n",
      "Size of trigram train data: 983847\n"
     ]
    }
   ],
   "source": [
    "from nltk import ngrams\n",
    "\n",
    "unigram_train_data = set([token for token in train_text.split()])\n",
    "unigram_train_data = list(filter(None, set(unigram_train_data)))\n",
    "\n",
    "bigram_train_data = list(ngrams(train_text.split(), 2))\n",
    "bigram_train_data = [' '.join(x) for x in bigram_train_data]\n",
    "\n",
    "trigram_train_data = list(ngrams(train_text.split(), 3))\n",
    "trigram_train_data = [' '.join(x) for x in trigram_train_data]\n",
    "\n",
    "print('Size of unigram train data:', len(unigram_train_data))\n",
    "print('Size of bigram train data:', len(bigram_train_data))\n",
    "print('Size of trigram train data:', len(trigram_train_data))"
   ]
  },
  {
   "cell_type": "code",
   "execution_count": 5,
   "metadata": {},
   "outputs": [],
   "source": [
    "file = open('data/'+text_files[-1]).read().split()\n",
    "test_text = ' '.join([re.sub(REMOVE_CHARS, '', token) for token in file])"
   ]
  },
  {
   "cell_type": "code",
   "execution_count": 6,
   "metadata": {},
   "outputs": [
    {
     "name": "stdout",
     "output_type": "stream",
     "text": [
      "Size of unigram test data: 3152\n",
      "Size of bigram test data: 26387\n",
      "Size of trigram test data: 26386\n"
     ]
    }
   ],
   "source": [
    "from nltk import ngrams\n",
    "\n",
    "unigram_test_data = set([token for token in test_text.split()])\n",
    "unigram_test_data = list(filter(None, set(unigram_test_data)))\n",
    "\n",
    "bigram_test_data = list(ngrams(test_text.split(), 2))\n",
    "bigram_test_data = [' '.join(x) for x in bigram_test_data]\n",
    "\n",
    "trigram_test_data = list(ngrams(test_text.split(), 3))\n",
    "trigram_test_data = [' '.join(x) for x in trigram_test_data]\n",
    "\n",
    "print('Size of unigram test data:', len(unigram_test_data))\n",
    "print('Size of bigram test data:', len(bigram_test_data))\n",
    "print('Size of trigram test data:', len(trigram_test_data))"
   ]
  },
  {
   "cell_type": "code",
   "execution_count": 7,
   "metadata": {},
   "outputs": [],
   "source": [
    "unigram_length = []\n",
    "for i in unigram_train_data:\n",
    "    unigram_length.append(len(i))\n",
    "    \n",
    "bigram_length = []\n",
    "for i in bigram_train_data:\n",
    "    bigram_length.append(len(i))\n",
    "\n",
    "trigram_length = []\n",
    "for i in trigram_train_data:\n",
    "    trigram_length.append(len(i))"
   ]
  },
  {
   "cell_type": "code",
   "execution_count": 8,
   "metadata": {},
   "outputs": [
    {
     "name": "stdout",
     "output_type": "stream",
     "text": [
      "0 1.0 3.0 5.0\n",
      "10 5.0 6.0 11.0\n",
      "20 6.0 7.0 12.0\n",
      "30 6.0 8.0 13.0\n",
      "40 7.0 9.0 14.0\n",
      "50 8.0 9.0 15.0\n",
      "60 8.0 10.0 16.0\n",
      "70 9.0 11.0 17.0\n",
      "80 10.0 12.0 18.0\n",
      "90 12.0 14.0 21.0\n",
      "100 27.0 35.0 47.0\n",
      "90 12.0 14.0 21.0\n",
      "91 12.0 14.0 21.0\n",
      "92 12.0 15.0 21.0\n",
      "93 12.0 15.0 22.0\n",
      "94 12.0 15.0 22.0\n",
      "95 13.0 16.0 22.0\n",
      "96 13.0 16.0 23.0\n",
      "97 14.0 17.0 24.0\n",
      "98 14.0 18.0 25.0\n",
      "99 16.0 19.0 26.0\n",
      "100 27.0 35.0 47.0\n",
      "99.1 16.0 20.0 27.0\n",
      "99.2 16.0 20.0 27.0\n",
      "99.3 16.0 20.0 27.0\n",
      "99.4 17.0 20.0 28.0\n",
      "99.5 17.0 21.0 28.0\n",
      "99.6 17.0 21.0 28.0\n",
      "99.7 18.0 22.0 29.0\n",
      "99.8 19.0 22.0 30.0\n",
      "99.9 20.0 24.0 32.0\n",
      "100 27.0 35.0 47.0\n"
     ]
    }
   ],
   "source": [
    "for i in range(0,101,10):\n",
    "    print(i,np.percentile(unigram_length, i), np.percentile(bigram_length, i), np.percentile(trigram_length, i))\n",
    "for i in range(90,101):\n",
    "    print(i,np.percentile(unigram_length, i), np.percentile(bigram_length, i), np.percentile(trigram_length, i))\n",
    "for i in [99.1,99.2,99.3,99.4,99.5,99.6,99.7,99.8,99.9,100]:\n",
    "    print(i,np.percentile(unigram_length, i), np.percentile(bigram_length, i), np.percentile(trigram_length, i))"
   ]
  },
  {
   "cell_type": "code",
   "execution_count": 9,
   "metadata": {},
   "outputs": [
    {
     "data": {
      "image/png": "[encoded data removed]",
      "text/plain": [
       "<Figure size 1080x576 with 1 Axes>"
      ]
     },
     "metadata": {
      "needs_background": "light"
     },
     "output_type": "display_data"
    }
   ],
   "source": [
    "plt.figure(figsize = (15,8))\n",
    "ax = sns.kdeplot(data = unigram_length, color='green', cumulative = True, label = 'unigram')\n",
    "sns.kdeplot(data = bigram_length, color='yellow', cumulative = True, ax = ax, label = 'bigram')\n",
    "sns.kdeplot(data = trigram_length, color='orange', cumulative = True, ax = ax, label = 'trigram')\n",
    "plt.xlabel('token length', fontdict = {'fontsize':15})\n",
    "plt.title('PDF for token length', fontdict = {'fontsize': 23})\n",
    "ax.legend()\n",
    "plt.xlim(0, 50)\n",
    "ax.spines['right'].set_visible(False)\n",
    "ax.spines['top'].set_visible(False)"
   ]
  },
  {
   "cell_type": "markdown",
   "metadata": {},
   "source": [
    "> <strong> Aim :</strong> Plot for determining the distribution token length of unigram, bigram, and trigram dataset.\n",
    "\n",
    "> <strong>Conclusion : </strong><br>\n",
    "1.&nbsp;99.9% of unigram token have length less than 20 characters.<br>\n",
    "2.&nbsp;99.9% of biigram token have length less than 24 characters.<br>\n",
    "3.&nbsp;99.9% of trigram token have length less than 32 characters."
   ]
  },
  {
   "cell_type": "code",
   "execution_count": 10,
   "metadata": {},
   "outputs": [],
   "source": [
    "def add_speling_errors(token, error_rate, VOCAB):\n",
    "    \"\"\"Add some artificial spelling mistakes.\"\"\"\n",
    "    assert(0.0 <= error_rate < 1.0)\n",
    "    if len(token) < 3:\n",
    "        return token\n",
    "    rand = np.random.rand()\n",
    "    # Here are 4 different ways spelling mistakes can occur,\n",
    "    # each of which has equal chance.\n",
    "    prob = error_rate / 4.0\n",
    "    if rand < prob:\n",
    "        # Replace a character with a random character.\n",
    "        random_char_index = np.random.randint(len(token))\n",
    "        token = token[:random_char_index] + np.random.choice(VOCAB) \\\n",
    "                + token[random_char_index + 1:]\n",
    "    elif prob < rand < prob * 2:\n",
    "        # Delete a character.\n",
    "        random_char_index = np.random.randint(len(token))\n",
    "        token = token[:random_char_index] + token[random_char_index + 1:]\n",
    "    elif prob * 2 < rand < prob * 3:\n",
    "        # Add a random character.\n",
    "        random_char_index = np.random.randint(len(token))\n",
    "        token = token[:random_char_index] + np.random.choice(VOCAB) \\\n",
    "                + token[random_char_index:]\n",
    "    elif prob * 3 < rand < prob * 4:\n",
    "        # Transpose 2 characters.\n",
    "        random_char_index = np.random.randint(len(token) - 1)\n",
    "        token = token[:random_char_index]  + token[random_char_index + 1] \\\n",
    "                + token[random_char_index] + token[random_char_index + 2:]\n",
    "    else:\n",
    "        # No spelling errors.\n",
    "        pass\n",
    "    return token"
   ]
  },
  {
   "cell_type": "code",
   "execution_count": 2,
   "metadata": {},
   "outputs": [],
   "source": [
    "UNIGRAM_VOCAB = ['a', 'b', 'c', 'd', 'e', 'f', 'g', 'h', 'i', 'j', 'k', 'l', 'm', 'n', 'o', 'p', 'q', 'r', 's', 't', 'u', 'v', 'w', 'x', 'y', 'z', \\\n",
    "                 'A', 'B', 'C', 'D', 'E', 'F', 'G', 'H', 'I', 'J', 'K', 'L', 'M', 'N', 'O', 'P', 'Q', 'R', 'S', 'T', 'U', 'V', 'W', 'X', 'Y', 'Z', \\\n",
    "                 '<SOW>', '<EOW>']\n",
    "\n",
    "NGRAM_VOCAB = ['a', 'b', 'c', 'd', 'e', 'f', 'g', 'h', 'i', 'j', 'k', 'l', 'm', 'n', 'o', 'p', 'q', 'r', 's', 't', 'u', 'v', 'w', 'x', 'y', 'z', \\\n",
    "               'A', 'B', 'C', 'D', 'E', 'F', 'G', 'H', 'I', 'J', 'K', 'L', 'M', 'N', 'O', 'P', 'Q', 'R', 'S', 'T', 'U', 'V', 'W', 'X', 'Y', 'Z', \\\n",
    "               ' ', '<SOW>', '<EOW>']"
   ]
  },
  {
   "cell_type": "code",
   "execution_count": 12,
   "metadata": {},
   "outputs": [
    {
     "data": {
      "text/html": [
       "<div>\n",
       "<style scoped>\n",
       "    .dataframe tbody tr th:only-of-type {\n",
       "        vertical-align: middle;\n",
       "    }\n",
       "\n",
       "    .dataframe tbody tr th {\n",
       "        vertical-align: top;\n",
       "    }\n",
       "\n",
       "    .dataframe thead th {\n",
       "        text-align: right;\n",
       "    }\n",
       "</style>\n",
       "<table border=\"1\" class=\"dataframe\">\n",
       "  <thead>\n",
       "    <tr style=\"text-align: right;\">\n",
       "      <th></th>\n",
       "      <th>output</th>\n",
       "      <th>input</th>\n",
       "    </tr>\n",
       "  </thead>\n",
       "  <tbody>\n",
       "    <tr>\n",
       "      <th>0</th>\n",
       "      <td>magistrates</td>\n",
       "      <td>magistratse</td>\n",
       "    </tr>\n",
       "    <tr>\n",
       "      <th>1</th>\n",
       "      <td>Cookshops</td>\n",
       "      <td>Cookshops</td>\n",
       "    </tr>\n",
       "    <tr>\n",
       "      <th>2</th>\n",
       "      <td>aristocratic</td>\n",
       "      <td>arstocratic</td>\n",
       "    </tr>\n",
       "    <tr>\n",
       "      <th>3</th>\n",
       "      <td>graced</td>\n",
       "      <td>graced</td>\n",
       "    </tr>\n",
       "    <tr>\n",
       "      <th>4</th>\n",
       "      <td>wagging</td>\n",
       "      <td>wagigng</td>\n",
       "    </tr>\n",
       "  </tbody>\n",
       "</table>\n",
       "</div>"
      ],
      "text/plain": [
       "         output        input\n",
       "0   magistrates  magistratse\n",
       "1     Cookshops    Cookshops\n",
       "2  aristocratic  arstocratic\n",
       "3        graced       graced\n",
       "4       wagging      wagigng"
      ]
     },
     "execution_count": 12,
     "metadata": {},
     "output_type": "execute_result"
    }
   ],
   "source": [
    "unigram_maxlen = 20\n",
    "unigram_train = []\n",
    "for token in unigram_train_data:\n",
    "    if len(token) < unigram_maxlen:\n",
    "        point = [token, add_speling_errors(token, 0.5, UNIGRAM_VOCAB)]\n",
    "        unigram_train.append(point)\n",
    "unigram_train = pd.DataFrame(unigram_train, columns = ['output', 'input'])\n",
    "unigram_train.head()"
   ]
  },
  {
   "cell_type": "code",
   "execution_count": 13,
   "metadata": {},
   "outputs": [
    {
     "data": {
      "text/html": [
       "<div>\n",
       "<style scoped>\n",
       "    .dataframe tbody tr th:only-of-type {\n",
       "        vertical-align: middle;\n",
       "    }\n",
       "\n",
       "    .dataframe tbody tr th {\n",
       "        vertical-align: top;\n",
       "    }\n",
       "\n",
       "    .dataframe thead th {\n",
       "        text-align: right;\n",
       "    }\n",
       "</style>\n",
       "<table border=\"1\" class=\"dataframe\">\n",
       "  <thead>\n",
       "    <tr style=\"text-align: right;\">\n",
       "      <th></th>\n",
       "      <th>output</th>\n",
       "      <th>input</th>\n",
       "    </tr>\n",
       "  </thead>\n",
       "  <tbody>\n",
       "    <tr>\n",
       "      <th>0</th>\n",
       "      <td>PREFACE SUPPOSING</td>\n",
       "      <td>PREFACE SUPPOSING</td>\n",
       "    </tr>\n",
       "    <tr>\n",
       "      <th>1</th>\n",
       "      <td>SUPPOSING that</td>\n",
       "      <td>SUPPOSINGt hat</td>\n",
       "    </tr>\n",
       "    <tr>\n",
       "      <th>2</th>\n",
       "      <td>that Truth</td>\n",
       "      <td>that TruEh</td>\n",
       "    </tr>\n",
       "    <tr>\n",
       "      <th>3</th>\n",
       "      <td>Truth is</td>\n",
       "      <td>Truth is</td>\n",
       "    </tr>\n",
       "    <tr>\n",
       "      <th>4</th>\n",
       "      <td>is a</td>\n",
       "      <td>si a</td>\n",
       "    </tr>\n",
       "  </tbody>\n",
       "</table>\n",
       "</div>"
      ],
      "text/plain": [
       "              output              input\n",
       "0  PREFACE SUPPOSING  PREFACE SUPPOSING\n",
       "1     SUPPOSING that     SUPPOSINGt hat\n",
       "2         that Truth         that TruEh\n",
       "3           Truth is           Truth is\n",
       "4               is a               si a"
      ]
     },
     "execution_count": 13,
     "metadata": {},
     "output_type": "execute_result"
    }
   ],
   "source": [
    "bigram_maxlen = 24\n",
    "bigram_train = []\n",
    "for token in bigram_train_data:\n",
    "    if len(token) < bigram_maxlen:\n",
    "        point = [token, add_speling_errors(token, 0.5, NGRAM_VOCAB)]\n",
    "        bigram_train.append(point)\n",
    "bigram_train = pd.DataFrame(bigram_train, columns = ['output', 'input'])\n",
    "bigram_train.head()"
   ]
  },
  {
   "cell_type": "code",
   "execution_count": 14,
   "metadata": {},
   "outputs": [
    {
     "data": {
      "text/html": [
       "<div>\n",
       "<style scoped>\n",
       "    .dataframe tbody tr th:only-of-type {\n",
       "        vertical-align: middle;\n",
       "    }\n",
       "\n",
       "    .dataframe tbody tr th {\n",
       "        vertical-align: top;\n",
       "    }\n",
       "\n",
       "    .dataframe thead th {\n",
       "        text-align: right;\n",
       "    }\n",
       "</style>\n",
       "<table border=\"1\" class=\"dataframe\">\n",
       "  <thead>\n",
       "    <tr style=\"text-align: right;\">\n",
       "      <th></th>\n",
       "      <th>output</th>\n",
       "      <th>input</th>\n",
       "    </tr>\n",
       "  </thead>\n",
       "  <tbody>\n",
       "    <tr>\n",
       "      <th>0</th>\n",
       "      <td>PREFACE SUPPOSING that</td>\n",
       "      <td>PREFACE SUPPOSIN that</td>\n",
       "    </tr>\n",
       "    <tr>\n",
       "      <th>1</th>\n",
       "      <td>SUPPOSING that Truth</td>\n",
       "      <td>SUPPOSsING that Truth</td>\n",
       "    </tr>\n",
       "    <tr>\n",
       "      <th>2</th>\n",
       "      <td>that Truth is</td>\n",
       "      <td>that Truth is</td>\n",
       "    </tr>\n",
       "    <tr>\n",
       "      <th>3</th>\n",
       "      <td>Truth is a</td>\n",
       "      <td>Truth si a</td>\n",
       "    </tr>\n",
       "    <tr>\n",
       "      <th>4</th>\n",
       "      <td>is a womanwhat</td>\n",
       "      <td>is a womanwhat</td>\n",
       "    </tr>\n",
       "  </tbody>\n",
       "</table>\n",
       "</div>"
      ],
      "text/plain": [
       "                   output                  input\n",
       "0  PREFACE SUPPOSING that  PREFACE SUPPOSIN that\n",
       "1    SUPPOSING that Truth  SUPPOSsING that Truth\n",
       "2           that Truth is          that Truth is\n",
       "3              Truth is a             Truth si a\n",
       "4          is a womanwhat         is a womanwhat"
      ]
     },
     "execution_count": 14,
     "metadata": {},
     "output_type": "execute_result"
    }
   ],
   "source": [
    "trigram_maxlen = 32\n",
    "trigram_train = []\n",
    "for token in trigram_train_data:\n",
    "    if len(token) < trigram_maxlen:\n",
    "        point = [token, add_speling_errors(token, 0.5, NGRAM_VOCAB)]\n",
    "        trigram_train.append(point)\n",
    "trigram_train = pd.DataFrame(trigram_train, columns = ['output', 'input'])\n",
    "trigram_train.head()"
   ]
  },
  {
   "cell_type": "code",
   "execution_count": 15,
   "metadata": {},
   "outputs": [],
   "source": [
    "unigram_train['enc_inp'] = unigram_train['input'].astype(str).apply(lambda x: '<SOW> '+' '.join(list(x))+' <EOW>')\n",
    "unigram_train['dec_inp'] = unigram_train['output'].astype(str).apply(lambda x: '<SOW> '+' '.join(list(x)))\n",
    "unigram_train['dec_out'] = unigram_train['output'].astype(str).apply(lambda x: ' '.join(list(x))+' <EOW>')\n",
    "\n",
    "bigram_train['enc_inp'] = bigram_train['input'].astype(str).apply(lambda x: '<SOW>*'+'*'.join(list(x))+'*<EOW>')\n",
    "bigram_train['dec_inp'] = bigram_train['output'].astype(str).apply(lambda x: '<SOW>*'+'*'.join(list(x)))\n",
    "bigram_train['dec_out'] = bigram_train['output'].astype(str).apply(lambda x: '*'.join(list(x))+'*<EOW>')\n",
    "\n",
    "trigram_train['enc_inp'] = trigram_train['input'].astype(str).apply(lambda x: '<SOW>*'+'*'.join(list(x))+'*<EOW>')\n",
    "trigram_train['dec_inp'] = trigram_train['output'].astype(str).apply(lambda x: '<SOW>*'+'*'.join(list(x)))\n",
    "trigram_train['dec_out'] = trigram_train['output'].astype(str).apply(lambda x: '*'.join(list(x))+'*<EOW>')"
   ]
  },
  {
   "cell_type": "code",
   "execution_count": 16,
   "metadata": {},
   "outputs": [],
   "source": [
    "unigram_train, unigram_val = train_test_split(unigram_train, test_size = 0.1, random_state = 0)\n",
    "bigram_train, bigram_val = train_test_split(bigram_train, test_size = 0.1, random_state = 0)\n",
    "trigram_train, trigram_val = train_test_split(trigram_train, test_size = 0.1, random_state = 0)"
   ]
  },
  {
   "cell_type": "code",
   "execution_count": 17,
   "metadata": {},
   "outputs": [
    {
     "data": {
      "text/html": [
       "<div>\n",
       "<style scoped>\n",
       "    .dataframe tbody tr th:only-of-type {\n",
       "        vertical-align: middle;\n",
       "    }\n",
       "\n",
       "    .dataframe tbody tr th {\n",
       "        vertical-align: top;\n",
       "    }\n",
       "\n",
       "    .dataframe thead th {\n",
       "        text-align: right;\n",
       "    }\n",
       "</style>\n",
       "<table border=\"1\" class=\"dataframe\">\n",
       "  <thead>\n",
       "    <tr style=\"text-align: right;\">\n",
       "      <th></th>\n",
       "      <th>output</th>\n",
       "      <th>input</th>\n",
       "    </tr>\n",
       "  </thead>\n",
       "  <tbody>\n",
       "    <tr>\n",
       "      <th>0</th>\n",
       "      <td>slatesll</td>\n",
       "      <td>slatesll</td>\n",
       "    </tr>\n",
       "    <tr>\n",
       "      <th>1</th>\n",
       "      <td>rumbling</td>\n",
       "      <td>rmubling</td>\n",
       "    </tr>\n",
       "    <tr>\n",
       "      <th>2</th>\n",
       "      <td>chance</td>\n",
       "      <td>chacne</td>\n",
       "    </tr>\n",
       "    <tr>\n",
       "      <th>3</th>\n",
       "      <td>bright</td>\n",
       "      <td>brnight</td>\n",
       "    </tr>\n",
       "    <tr>\n",
       "      <th>4</th>\n",
       "      <td>ridiculous</td>\n",
       "      <td>ridiculous</td>\n",
       "    </tr>\n",
       "  </tbody>\n",
       "</table>\n",
       "</div>"
      ],
      "text/plain": [
       "       output       input\n",
       "0    slatesll    slatesll\n",
       "1    rumbling    rmubling\n",
       "2      chance      chacne\n",
       "3      bright     brnight\n",
       "4  ridiculous  ridiculous"
      ]
     },
     "execution_count": 17,
     "metadata": {},
     "output_type": "execute_result"
    }
   ],
   "source": [
    "unigram_test = []\n",
    "for token in unigram_test_data:\n",
    "    if len(token) < unigram_maxlen:\n",
    "        point = [token, add_speling_errors(token, 0.5, UNIGRAM_VOCAB)]\n",
    "        unigram_test.append(point)\n",
    "unigram_test = pd.DataFrame(unigram_test, columns = ['output', 'input'])\n",
    "unigram_test.head()"
   ]
  },
  {
   "cell_type": "code",
   "execution_count": 18,
   "metadata": {},
   "outputs": [
    {
     "data": {
      "text/html": [
       "<div>\n",
       "<style scoped>\n",
       "    .dataframe tbody tr th:only-of-type {\n",
       "        vertical-align: middle;\n",
       "    }\n",
       "\n",
       "    .dataframe tbody tr th {\n",
       "        vertical-align: top;\n",
       "    }\n",
       "\n",
       "    .dataframe thead th {\n",
       "        text-align: right;\n",
       "    }\n",
       "</style>\n",
       "<table border=\"1\" class=\"dataframe\">\n",
       "  <thead>\n",
       "    <tr style=\"text-align: right;\">\n",
       "      <th></th>\n",
       "      <th>output</th>\n",
       "      <th>input</th>\n",
       "    </tr>\n",
       "  </thead>\n",
       "  <tbody>\n",
       "    <tr>\n",
       "      <th>0</th>\n",
       "      <td>ï»¿ALICES ADVENTURES</td>\n",
       "      <td>ï»¿ALIECS ADVENTURES</td>\n",
       "    </tr>\n",
       "    <tr>\n",
       "      <th>1</th>\n",
       "      <td>ADVENTURES IN</td>\n",
       "      <td>ADVENTURES IN</td>\n",
       "    </tr>\n",
       "    <tr>\n",
       "      <th>2</th>\n",
       "      <td>IN WONDERLAND</td>\n",
       "      <td>IN WONDEtLAND</td>\n",
       "    </tr>\n",
       "    <tr>\n",
       "      <th>3</th>\n",
       "      <td>WONDERLAND Lewis</td>\n",
       "      <td>WONDERLAND Lewis</td>\n",
       "    </tr>\n",
       "    <tr>\n",
       "      <th>4</th>\n",
       "      <td>Lewis Carroll</td>\n",
       "      <td>Lewis Carrlol</td>\n",
       "    </tr>\n",
       "  </tbody>\n",
       "</table>\n",
       "</div>"
      ],
      "text/plain": [
       "                 output                 input\n",
       "0  ï»¿ALICES ADVENTURES  ï»¿ALIECS ADVENTURES\n",
       "1         ADVENTURES IN         ADVENTURES IN\n",
       "2         IN WONDERLAND         IN WONDEtLAND\n",
       "3      WONDERLAND Lewis      WONDERLAND Lewis\n",
       "4         Lewis Carroll         Lewis Carrlol"
      ]
     },
     "execution_count": 18,
     "metadata": {},
     "output_type": "execute_result"
    }
   ],
   "source": [
    "bigram_test = []\n",
    "for token in bigram_test_data:\n",
    "    if len(token) < bigram_maxlen:\n",
    "        point = [token, add_speling_errors(token, 0.5, NGRAM_VOCAB)]\n",
    "        bigram_test.append(point)\n",
    "bigram_test = pd.DataFrame(bigram_test, columns = ['output', 'input'])\n",
    "bigram_test.head()"
   ]
  },
  {
   "cell_type": "code",
   "execution_count": 19,
   "metadata": {},
   "outputs": [
    {
     "data": {
      "text/html": [
       "<div>\n",
       "<style scoped>\n",
       "    .dataframe tbody tr th:only-of-type {\n",
       "        vertical-align: middle;\n",
       "    }\n",
       "\n",
       "    .dataframe tbody tr th {\n",
       "        vertical-align: top;\n",
       "    }\n",
       "\n",
       "    .dataframe thead th {\n",
       "        text-align: right;\n",
       "    }\n",
       "</style>\n",
       "<table border=\"1\" class=\"dataframe\">\n",
       "  <thead>\n",
       "    <tr style=\"text-align: right;\">\n",
       "      <th></th>\n",
       "      <th>output</th>\n",
       "      <th>input</th>\n",
       "    </tr>\n",
       "  </thead>\n",
       "  <tbody>\n",
       "    <tr>\n",
       "      <th>0</th>\n",
       "      <td>IN WONDERLAND Lewis</td>\n",
       "      <td>IN WONDERoLAND Lewis</td>\n",
       "    </tr>\n",
       "    <tr>\n",
       "      <th>1</th>\n",
       "      <td>Lewis Carroll THE</td>\n",
       "      <td>Lewis Carroll THE</td>\n",
       "    </tr>\n",
       "    <tr>\n",
       "      <th>2</th>\n",
       "      <td>EDITION CHAPTER I</td>\n",
       "      <td>EDITION CHATPER I</td>\n",
       "    </tr>\n",
       "    <tr>\n",
       "      <th>3</th>\n",
       "      <td>CHAPTER I Down</td>\n",
       "      <td>CHAPTRE I Down</td>\n",
       "    </tr>\n",
       "    <tr>\n",
       "      <th>4</th>\n",
       "      <td>I Down the</td>\n",
       "      <td>I Down the</td>\n",
       "    </tr>\n",
       "  </tbody>\n",
       "</table>\n",
       "</div>"
      ],
      "text/plain": [
       "                output                 input\n",
       "0  IN WONDERLAND Lewis  IN WONDERoLAND Lewis\n",
       "1    Lewis Carroll THE     Lewis Carroll THE\n",
       "2    EDITION CHAPTER I     EDITION CHATPER I\n",
       "3       CHAPTER I Down        CHAPTRE I Down\n",
       "4           I Down the            I Down the"
      ]
     },
     "execution_count": 19,
     "metadata": {},
     "output_type": "execute_result"
    }
   ],
   "source": [
    "trigram_test = []\n",
    "for token in trigram_test_data:\n",
    "    if len(token) < unigram_maxlen:\n",
    "        point = [token, add_speling_errors(token, 0.5, NGRAM_VOCAB)]\n",
    "        trigram_test.append(point)\n",
    "trigram_test = pd.DataFrame(trigram_test, columns = ['output', 'input'])\n",
    "trigram_test.head()"
   ]
  },
  {
   "cell_type": "code",
   "execution_count": 100,
   "metadata": {},
   "outputs": [],
   "source": [
    "unigram_train.to_csv('unigram_train.csv')\n",
    "unigram_test.to_csv('unigram_test.csv')\n",
    "unigram_val.to_csv('unigram_val.csv')\n",
    "\n",
    "bigram_train.to_csv('bigram_train.csv')\n",
    "bigram_test.to_csv('bigram_test.csv')\n",
    "bigram_val.to_csv('bigram_val.csv')\n",
    "\n",
    "trigram_train.to_csv('trigram_train.csv')\n",
    "trigram_test.to_csv('trigram_test.csv')\n",
    "trigram_val.to_csv('trigram_val.csv')"
   ]
  },
  {
   "cell_type": "code",
   "execution_count": 20,
   "metadata": {},
   "outputs": [
    {
     "name": "stdout",
     "output_type": "stream",
     "text": [
      "Shape of unigram train set : (33101, 5)\n",
      "Shape of unigram test set : (3150, 2)\n",
      "Shape of unigram validation set : (3678, 5)\n",
      "\n",
      "Shape of bigram train set : (884533, 5)\n",
      "Shape of bigram test set : (26377, 2)\n",
      "Shape of bigram validation set : (98282, 5)\n",
      "\n",
      "Shape of trigram train set : (884550, 5)\n",
      "Shape of trigram test set : (24586, 2)\n",
      "Shape of trigram validation set : (98284, 5)\n"
     ]
    }
   ],
   "source": [
    "print('Shape of unigram train set :',unigram_train.shape)\n",
    "print('Shape of unigram test set :',unigram_test.shape)\n",
    "print('Shape of unigram validation set :', unigram_val.shape)\n",
    "\n",
    "print('\\nShape of bigram train set :',bigram_train.shape)\n",
    "print('Shape of bigram test set :',bigram_test.shape)\n",
    "print('Shape of bigram validation set :', bigram_val.shape)\n",
    "\n",
    "print('\\nShape of trigram train set :',trigram_train.shape)\n",
    "print('Shape of trigram test set :',trigram_test.shape)\n",
    "print('Shape of trigram validation set :', trigram_val.shape)"
   ]
  },
  {
   "cell_type": "code",
   "execution_count": 21,
   "metadata": {},
   "outputs": [
    {
     "name": "stdout",
     "output_type": "stream",
     "text": [
      "output     0\n",
      "input      0\n",
      "enc_inp    0\n",
      "dec_inp    0\n",
      "dec_out    0\n",
      "dtype: int64 output     0\n",
      "input      0\n",
      "enc_inp    0\n",
      "dec_inp    0\n",
      "dec_out    0\n",
      "dtype: int64 output    0\n",
      "input     0\n",
      "dtype: int64\n",
      "output     0\n",
      "input      0\n",
      "enc_inp    0\n",
      "dec_inp    0\n",
      "dec_out    0\n",
      "dtype: int64 output     0\n",
      "input      0\n",
      "enc_inp    0\n",
      "dec_inp    0\n",
      "dec_out    0\n",
      "dtype: int64 output    0\n",
      "input     0\n",
      "dtype: int64\n",
      "output     0\n",
      "input      0\n",
      "enc_inp    0\n",
      "dec_inp    0\n",
      "dec_out    0\n",
      "dtype: int64 output     0\n",
      "input      0\n",
      "enc_inp    0\n",
      "dec_inp    0\n",
      "dec_out    0\n",
      "dtype: int64 output    0\n",
      "input     0\n",
      "dtype: int64\n"
     ]
    }
   ],
   "source": [
    "print(unigram_train.isnull().sum(), unigram_val.isnull().sum(), unigram_test.isnull().sum())\n",
    "print(bigram_train.isnull().sum(), bigram_val.isnull().sum(), bigram_test.isnull().sum())\n",
    "print(trigram_train.isnull().sum(), trigram_val.isnull().sum(), trigram_test.isnull().sum())"
   ]
  },
  {
   "cell_type": "markdown",
   "metadata": {},
   "source": [
    "# Modeling"
   ]
  },
  {
   "cell_type": "code",
   "execution_count": 14,
   "metadata": {},
   "outputs": [],
   "source": [
    "unigram_train = pd.read_csv('unigram_train.csv', index_col = 0)\n",
    "unigram_test = pd.read_csv('unigram_test.csv', index_col = 0)\n",
    "unigram_val = pd.read_csv('unigram_val.csv', index_col = 0)\n",
    "\n",
    "bigram_train = pd.read_csv('bigram_train.csv', index_col = 0)\n",
    "bigram_test = pd.read_csv('bigram_test.csv', index_col = 0)\n",
    "bigram_val = pd.read_csv('bigram_val.csv', index_col = 0)\n",
    "\n",
    "trigram_train = pd.read_csv('trigram_train.csv', index_col = 0)\n",
    "trigram_test = pd.read_csv('trigram_test.csv', index_col = 0)\n",
    "trigram_val = pd.read_csv('trigram_val.csv', index_col = 0)"
   ]
  },
  {
   "cell_type": "code",
   "execution_count": 16,
   "metadata": {},
   "outputs": [],
   "source": [
    "def split_on_star(input_data):\n",
    "    return tf.strings.split(input_data, sep = '*')"
   ]
  },
  {
   "cell_type": "code",
   "execution_count": 15,
   "metadata": {},
   "outputs": [],
   "source": [
    "batch_size = 128"
   ]
  },
  {
   "cell_type": "code",
   "execution_count": 11,
   "metadata": {},
   "outputs": [],
   "source": [
    "unigram_maxlen = 20\n",
    "bigram_maxlen = 24\n",
    "trigram_maxlen = 32"
   ]
  },
  {
   "cell_type": "code",
   "execution_count": 17,
   "metadata": {},
   "outputs": [
    {
     "data": {
      "text/plain": [
       "((array([[54, 26, 23, ...,  0,  0,  0],\n",
       "         [54, 42, 51, ...,  0,  0,  0],\n",
       "         [54, 35,  7, ...,  0,  0,  0],\n",
       "         ...,\n",
       "         [54, 10, 27, ...,  0,  0,  0],\n",
       "         [54, 15,  7, ...,  0,  0,  0],\n",
       "         [54,  7, 14, ...,  0,  0,  0]], dtype=int64),\n",
       "  array([[54, 26, 23, ...,  0,  0,  0],\n",
       "         [54, 42, 33, ...,  0,  0,  0],\n",
       "         [54, 35,  7, ...,  0,  0,  0],\n",
       "         ...,\n",
       "         [54, 10, 27, ...,  0,  0,  0],\n",
       "         [54, 15,  7, ...,  0,  0,  0],\n",
       "         [54,  7, 14, ...,  0,  0,  0]], dtype=int64)),\n",
       " array([[26, 23, 22, ...,  0,  0,  0],\n",
       "        [42, 33, 51, ...,  0,  0,  0],\n",
       "        [35,  7, 25, ...,  0,  0,  0],\n",
       "        ...,\n",
       "        [10, 27,  6, ...,  0,  0,  0],\n",
       "        [15,  7, 14, ...,  0,  0,  0],\n",
       "        [ 7, 14, 24, ...,  0,  0,  0]], dtype=int64))"
      ]
     },
     "execution_count": 17,
     "metadata": {},
     "output_type": "execute_result"
    }
   ],
   "source": [
    "unigram_vec = TextVectorization(output_sequence_length= unigram_maxlen+2, standardize = None, split='whitespace', max_tokens = len(UNIGRAM_VOCAB)+2, output_mode='int')\n",
    "unigram_vec.adapt(UNIGRAM_VOCAB)\n",
    "\n",
    "bigram_vec = TextVectorization(output_sequence_length= bigram_maxlen+2, standardize = None, split = split_on_star, max_tokens = len(NGRAM_VOCAB)+2, output_mode='int')\n",
    "bigram_vec.adapt(NGRAM_VOCAB)\n",
    "\n",
    "trigram_vec = TextVectorization(output_sequence_length= trigram_maxlen+2, standardize = None, split = split_on_star, max_tokens = len(NGRAM_VOCAB)+2, output_mode='int')\n",
    "trigram_vec.adapt(NGRAM_VOCAB)\n",
    "\n",
    "unigram_index_to_word = {idx: word for idx, word in enumerate(unigram_vec.get_vocabulary())}\n",
    "unigram_word_to_index = {word: idx for idx, word in enumerate(unigram_vec.get_vocabulary())}\n",
    "\n",
    "bigram_index_to_word = {idx: word for idx, word in enumerate(bigram_vec.get_vocabulary())}\n",
    "bigram_word_to_index = {word: idx for idx, word in enumerate(bigram_vec.get_vocabulary())}\n",
    "\n",
    "trigram_index_to_word = {idx: word for idx, word in enumerate(trigram_vec.get_vocabulary())}\n",
    "trigram_word_to_index = {word: idx for idx, word in enumerate(trigram_vec.get_vocabulary())}\n",
    "\n",
    "def unigram_mapping(x):\n",
    "    enc_inp = unigram_vec(x[:, 2])\n",
    "    dec_inp = unigram_vec(x[:, 3])\n",
    "    dec_out = unigram_vec(x[:, 4])\n",
    "    return (enc_inp, dec_inp), dec_out\n",
    "\n",
    "def bigram_mapping(x):\n",
    "    enc_inp = bigram_vec(x[:, 2])\n",
    "    dec_inp = bigram_vec(x[:, 3])\n",
    "    dec_out = bigram_vec(x[:, 4])\n",
    "    return (enc_inp, dec_inp), dec_out\n",
    "\n",
    "def trigram_mapping(x):\n",
    "    enc_inp = trigram_vec(x[:, 2])\n",
    "    dec_inp = trigram_vec(x[:, 3])\n",
    "    dec_out = trigram_vec(x[:, 4])\n",
    "    return (enc_inp, dec_inp), dec_out\n",
    "\n",
    "unigram_train_dataset = tf.data.Dataset.from_tensor_slices(unigram_train.values).repeat().batch(batch_size).map(unigram_mapping).prefetch(1)\n",
    "unigram_val_dataset = tf.data.Dataset.from_tensor_slices(unigram_val.values).repeat().batch(batch_size).map(unigram_mapping).prefetch(1)\n",
    "\n",
    "bigram_train_dataset = tf.data.Dataset.from_tensor_slices(bigram_train.values).repeat().batch(batch_size).map(bigram_mapping).prefetch(1)\n",
    "bigram_val_dataset = tf.data.Dataset.from_tensor_slices(bigram_val.values).repeat().batch(batch_size).map(bigram_mapping).prefetch(1)\n",
    "\n",
    "trigram_train_dataset = tf.data.Dataset.from_tensor_slices(trigram_train.values).repeat().batch(batch_size).map(trigram_mapping).prefetch(1)\n",
    "trigram_val_dataset = tf.data.Dataset.from_tensor_slices(trigram_val.values).repeat().batch(batch_size).map(trigram_mapping).prefetch(1)\n",
    "\n",
    "a = unigram_train_dataset.as_numpy_iterator()\n",
    "next(a)"
   ]
  },
  {
   "cell_type": "markdown",
   "metadata": {},
   "source": [
    "<h2>1. Seq2Seq</h2>"
   ]
  },
  {
   "cell_type": "code",
   "execution_count": 18,
   "metadata": {},
   "outputs": [],
   "source": [
    "class Encoder(tf.keras.Model):\n",
    "    def __init__(self,inp_vocab_size,embedding_size,lstm_size,input_length):\n",
    "        super().__init__()\n",
    "        self.lstm_size = lstm_size\n",
    "        #Initialize Embedding layer\n",
    "        self.enc_embed = Embedding(input_dim = inp_vocab_size, output_dim = embedding_size, input_length= input_length)\n",
    "        #Intialize Encoder LSTM layer\n",
    "        self.enc_lstm = LSTM(lstm_size, return_sequences = True, return_state = True, dropout = 0.4)\n",
    "\n",
    "    def call(self,input_sequence,states):\n",
    "        embedding = self.enc_embed(input_sequence)\n",
    "        output_state, enc_h, enc_c = self.enc_lstm(embedding, initial_state = states)\n",
    "        return output_state, enc_h, enc_c\n",
    "    \n",
    "    def initialize_states(self,batch_size):\n",
    "        return [tf.zeros((batch_size, self.lstm_size)), tf.zeros((batch_size, self.lstm_size))]\n",
    "\n",
    "class Decoder(tf.keras.Model):\n",
    "    def __init__(self,out_vocab_size,embedding_size,lstm_size,input_length):\n",
    "        super().__init__()\n",
    "        #Initialize Embedding layer\n",
    "        self.dec_embed = Embedding(input_dim = out_vocab_size, output_dim = embedding_size, input_length = input_length)\n",
    "        #Intialize Decoder LSTM layer\n",
    "        self.dec_lstm = LSTM(lstm_size, return_sequences = True, return_state = True, dropout = 0.4)\n",
    "    \n",
    "    def call(self,input_sequence, initial_states):\n",
    "        embedding = self.dec_embed(input_sequence)\n",
    "        output_state, dec_h, dec_c = self.dec_lstm(embedding, initial_state = initial_states)\n",
    "        return output_state, dec_h, dec_c\n",
    "\n",
    "class Encoder_decoder(tf.keras.Model): \n",
    "    def __init__(self,*params):\n",
    "        super().__init__()\n",
    "        #Create encoder object\n",
    "        self.encoder = Encoder(inp_vocab_size = params[0], embedding_size = params[2], lstm_size = params[3], input_length = params[4])\n",
    "        #Create decoder object\n",
    "        self.decoder = Decoder(out_vocab_size = params[1], embedding_size = params[2], lstm_size = params[3], input_length = params[5])\n",
    "        #Intialize Dense layer(out_vocab_size) with activation='softmax'\n",
    "        self.dense = Dense(params[1], activation='softmax')\n",
    "    \n",
    "    def call(self, params, training = True):\n",
    "        enc_inp, dec_inp = params[0], params[1]\n",
    "        # print(enc_inp, dec_inp)\n",
    "        initial_state = self.encoder.initialize_states(batch_size)\n",
    "        output_state, enc_h, enc_c = self.encoder(enc_inp, initial_state)\n",
    "        output, _, _ = self.decoder(dec_inp ,[enc_h, enc_c])\n",
    "        output = Dropout(0.5)(output)\n",
    "        return self.dense(output)\n",
    "\n",
    "class pred_Encoder_decoder(tf.keras.Model): \n",
    "    def __init__(self,*params):\n",
    "        super().__init__()\n",
    "        #Create encoder object\n",
    "        self.encoder = Encoder(inp_vocab_size = params[0], embedding_size = params[2], lstm_size = params[3], input_length = params[4])\n",
    "        #Create decoder object\n",
    "        self.decoder = Decoder(out_vocab_size = params[1], embedding_size = params[2], lstm_size = params[3], input_length = params[5])\n",
    "        #Intialize Dense layer(out_vocab_size) with activation='softmax'\n",
    "        self.dense = Dense(params[1], activation='softmax')\n",
    "        self.word_to_index = params[6]\n",
    "    \n",
    "    def call(self, params):\n",
    "        enc_inp = params[0]\n",
    "        initial_state = self.encoder.initialize_states(1)\n",
    "        output_state, enc_h, enc_c = self.encoder(enc_inp, initial_state)\n",
    "        pred = tf.expand_dims([self.word_to_index['<SOW>']], 0)\n",
    "        dec_h = enc_h\n",
    "        dec_c = enc_c\n",
    "        all_pred = []\n",
    "        for t in range(max_len):  \n",
    "            pred, dec_h,dec_c = self.decoder(pred, [dec_h, dec_c])\n",
    "            pred = self.dense(pred)\n",
    "            pred = tf.argmax(pred, axis = -1)\n",
    "            all_pred.append(pred)\n",
    "        return all_pred"
   ]
  },
  {
   "cell_type": "code",
   "execution_count": 19,
   "metadata": {},
   "outputs": [],
   "source": [
    "def predict(seq, vectorizer, index_to_word, gram ='uni'):\n",
    "    if gram == 'uni':\n",
    "        seq = ' '.join(list(seq))\n",
    "        seq = '<SOW> '+seq+' <EOW>'\n",
    "    else:\n",
    "        seq = '*'.join(list(seq))\n",
    "        seq = '<SOW>*'+seq+'*<EOW>'\n",
    "    seq = vectorizer([seq])\n",
    "    pred = pred_model.predict(tf.expand_dims(seq, 0))\n",
    "    output = []\n",
    "    for i in pred:\n",
    "        word = index_to_word[i[0][0]]\n",
    "        if word == '<EOW>':\n",
    "            break\n",
    "        output.append(word)\n",
    "    return ''.join(output)"
   ]
  },
  {
   "cell_type": "markdown",
   "metadata": {},
   "source": [
    "<h3>1.1 UniGram </h3>"
   ]
  },
  {
   "cell_type": "code",
   "execution_count": 67,
   "metadata": {},
   "outputs": [],
   "source": [
    "vocab_size = len(vec.get_vocabulary())\n",
    "embedding_dim = 100\n",
    "lstm_size = 256\n",
    "max_len = 22"
   ]
  },
  {
   "cell_type": "code",
   "execution_count": 20,
   "metadata": {},
   "outputs": [
    {
     "name": "stdout",
     "output_type": "stream",
     "text": [
      "Epoch 1/50\n",
      "258/258 [==============================] - ETA: 0s - loss: 1.3088\n",
      "Epoch 00001: val_loss improved from inf to 1.08792, saving model to seq2seq.h5\n",
      "258/258 [==============================] - 4s 14ms/step - loss: 1.3088 - val_loss: 1.0879\n",
      "Epoch 2/50\n",
      "258/258 [==============================] - ETA: 0s - loss: 1.0246\n",
      "Epoch 00002: val_loss improved from 1.08792 to 0.93814, saving model to seq2seq.h5\n",
      "258/258 [==============================] - 3s 12ms/step - loss: 1.0246 - val_loss: 0.9381\n",
      "Epoch 3/50\n",
      "256/258 [============================>.] - ETA: 0s - loss: 0.9280\n",
      "Epoch 00003: val_loss improved from 0.93814 to 0.84624, saving model to seq2seq.h5\n",
      "258/258 [==============================] - 3s 12ms/step - loss: 0.9278 - val_loss: 0.8462\n",
      "Epoch 4/50\n",
      "256/258 [============================>.] - ETA: 0s - loss: 0.8515\n",
      "Epoch 00004: val_loss improved from 0.84624 to 0.78058, saving model to seq2seq.h5\n",
      "258/258 [==============================] - 3s 12ms/step - loss: 0.8513 - val_loss: 0.7806\n",
      "Epoch 5/50\n",
      "256/258 [============================>.] - ETA: 0s - loss: 0.8017\n",
      "Epoch 00005: val_loss improved from 0.78058 to 0.72511, saving model to seq2seq.h5\n",
      "258/258 [==============================] - 3s 12ms/step - loss: 0.8014 - val_loss: 0.7251\n",
      "Epoch 6/50\n",
      "256/258 [============================>.] - ETA: 0s - loss: 0.7480\n",
      "Epoch 00006: val_loss improved from 0.72511 to 0.66346, saving model to seq2seq.h5\n",
      "258/258 [==============================] - 3s 12ms/step - loss: 0.7478 - val_loss: 0.6635\n",
      "Epoch 7/50\n",
      "258/258 [==============================] - ETA: 0s - loss: 0.6937\n",
      "Epoch 00007: val_loss improved from 0.66346 to 0.60634, saving model to seq2seq.h5\n",
      "258/258 [==============================] - 3s 12ms/step - loss: 0.6937 - val_loss: 0.6063\n",
      "Epoch 8/50\n",
      "256/258 [============================>.] - ETA: 0s - loss: 0.6483\n",
      "Epoch 00008: val_loss improved from 0.60634 to 0.55700, saving model to seq2seq.h5\n",
      "258/258 [==============================] - 3s 12ms/step - loss: 0.6483 - val_loss: 0.5570\n",
      "Epoch 9/50\n",
      "256/258 [============================>.] - ETA: 0s - loss: 0.5939\n",
      "Epoch 00009: val_loss improved from 0.55700 to 0.49638, saving model to seq2seq.h5\n",
      "258/258 [==============================] - 3s 12ms/step - loss: 0.5939 - val_loss: 0.4964\n",
      "Epoch 10/50\n",
      "256/258 [============================>.] - ETA: 0s - loss: 0.5503\n",
      "Epoch 00010: val_loss improved from 0.49638 to 0.45429, saving model to seq2seq.h5\n",
      "258/258 [==============================] - 3s 12ms/step - loss: 0.5504 - val_loss: 0.4543\n",
      "Epoch 11/50\n",
      "256/258 [============================>.] - ETA: 0s - loss: 0.5132\n",
      "Epoch 00011: val_loss improved from 0.45429 to 0.41674, saving model to seq2seq.h5\n",
      "258/258 [==============================] - 3s 12ms/step - loss: 0.5132 - val_loss: 0.4167\n",
      "Epoch 12/50\n",
      "256/258 [============================>.] - ETA: 0s - loss: 0.4749\n",
      "Epoch 00012: val_loss improved from 0.41674 to 0.38192, saving model to seq2seq.h5\n",
      "258/258 [==============================] - 3s 12ms/step - loss: 0.4748 - val_loss: 0.3819\n",
      "Epoch 13/50\n",
      "256/258 [============================>.] - ETA: 0s - loss: 0.4376\n",
      "Epoch 00013: val_loss improved from 0.38192 to 0.34618, saving model to seq2seq.h5\n",
      "258/258 [==============================] - 3s 13ms/step - loss: 0.4374 - val_loss: 0.3462\n",
      "Epoch 14/50\n",
      "257/258 [============================>.] - ETA: 0s - loss: 0.3941\n",
      "Epoch 00014: val_loss improved from 0.34618 to 0.29948, saving model to seq2seq.h5\n",
      "258/258 [==============================] - 3s 13ms/step - loss: 0.3941 - val_loss: 0.2995\n",
      "Epoch 15/50\n",
      "254/258 [============================>.] - ETA: 0s - loss: 0.3567\n",
      "Epoch 00015: val_loss improved from 0.29948 to 0.27217, saving model to seq2seq.h5\n",
      "258/258 [==============================] - 3s 13ms/step - loss: 0.3562 - val_loss: 0.2722\n",
      "Epoch 16/50\n",
      "255/258 [============================>.] - ETA: 0s - loss: 0.3254\n",
      "Epoch 00016: val_loss improved from 0.27217 to 0.24162, saving model to seq2seq.h5\n",
      "258/258 [==============================] - 3s 13ms/step - loss: 0.3251 - val_loss: 0.2416\n",
      "Epoch 17/50\n",
      "257/258 [============================>.] - ETA: 0s - loss: 0.2975\n",
      "Epoch 00017: val_loss improved from 0.24162 to 0.22571, saving model to seq2seq.h5\n",
      "258/258 [==============================] - 4s 14ms/step - loss: 0.2975 - val_loss: 0.2257\n",
      "Epoch 18/50\n",
      "257/258 [============================>.] - ETA: 0s - loss: 0.2744\n",
      "Epoch 00018: val_loss improved from 0.22571 to 0.20805, saving model to seq2seq.h5\n",
      "258/258 [==============================] - 3s 13ms/step - loss: 0.2743 - val_loss: 0.2080\n",
      "Epoch 19/50\n",
      "257/258 [============================>.] - ETA: 0s - loss: 0.2558\n",
      "Epoch 00019: val_loss improved from 0.20805 to 0.19446, saving model to seq2seq.h5\n",
      "258/258 [==============================] - 3s 13ms/step - loss: 0.2557 - val_loss: 0.1945\n",
      "Epoch 20/50\n",
      "256/258 [============================>.] - ETA: 0s - loss: 0.2387\n",
      "Epoch 00020: val_loss improved from 0.19446 to 0.18305, saving model to seq2seq.h5\n",
      "258/258 [==============================] - 3s 13ms/step - loss: 0.2386 - val_loss: 0.1831\n",
      "Epoch 21/50\n",
      "258/258 [==============================] - ETA: 0s - loss: 0.2249- ETA: 0s - loss: \n",
      "Epoch 00021: val_loss improved from 0.18305 to 0.17706, saving model to seq2seq.h5\n",
      "258/258 [==============================] - 3s 13ms/step - loss: 0.2249 - val_loss: 0.1771\n",
      "Epoch 22/50\n",
      "258/258 [==============================] - ETA: 0s - loss: 0.2133\n",
      "Epoch 00022: val_loss improved from 0.17706 to 0.17050, saving model to seq2seq.h5\n",
      "258/258 [==============================] - 3s 13ms/step - loss: 0.2133 - val_loss: 0.1705\n",
      "Epoch 23/50\n",
      "258/258 [==============================] - ETA: 0s - loss: 0.2013\n",
      "Epoch 00023: val_loss improved from 0.17050 to 0.16339, saving model to seq2seq.h5\n",
      "258/258 [==============================] - 3s 13ms/step - loss: 0.2013 - val_loss: 0.1634\n",
      "Epoch 24/50\n",
      "256/258 [============================>.] - ETA: 0s - loss: 0.1915\n",
      "Epoch 00024: val_loss improved from 0.16339 to 0.16087, saving model to seq2seq.h5\n",
      "258/258 [==============================] - 3s 13ms/step - loss: 0.1916 - val_loss: 0.1609\n",
      "Epoch 25/50\n",
      "254/258 [============================>.] - ETA: 0s - loss: 0.1833\n",
      "Epoch 00025: val_loss improved from 0.16087 to 0.15730, saving model to seq2seq.h5\n",
      "258/258 [==============================] - 3s 13ms/step - loss: 0.1834 - val_loss: 0.1573\n",
      "Epoch 26/50\n",
      "256/258 [============================>.] - ETA: 0s - loss: 0.1759\n",
      "Epoch 00026: val_loss improved from 0.15730 to 0.15314, saving model to seq2seq.h5\n",
      "258/258 [==============================] - 3s 13ms/step - loss: 0.1760 - val_loss: 0.1531\n",
      "Epoch 27/50\n",
      "257/258 [============================>.] - ETA: 0s - loss: 0.1687\n",
      "Epoch 00027: val_loss improved from 0.15314 to 0.15206, saving model to seq2seq.h5\n",
      "258/258 [==============================] - 3s 13ms/step - loss: 0.1687 - val_loss: 0.1521\n",
      "Epoch 28/50\n",
      "256/258 [============================>.] - ETA: 0s - loss: 0.1625\n",
      "Epoch 00028: val_loss improved from 0.15206 to 0.14619, saving model to seq2seq.h5\n",
      "258/258 [==============================] - 4s 14ms/step - loss: 0.1625 - val_loss: 0.1462\n",
      "Epoch 29/50\n",
      "257/258 [============================>.] - ETA: 0s - loss: 0.1574\n",
      "Epoch 00029: val_loss did not improve from 0.14619\n",
      "258/258 [==============================] - 4s 14ms/step - loss: 0.1574 - val_loss: 0.1487\n",
      "Epoch 30/50\n",
      "256/258 [============================>.] - ETA: 0s - loss: 0.1516\n",
      "Epoch 00030: val_loss improved from 0.14619 to 0.14454, saving model to seq2seq.h5\n",
      "258/258 [==============================] - 3s 13ms/step - loss: 0.1516 - val_loss: 0.1445\n",
      "Epoch 31/50\n",
      "255/258 [============================>.] - ETA: 0s - loss: 0.1473\n",
      "Epoch 00031: val_loss improved from 0.14454 to 0.14326, saving model to seq2seq.h5\n",
      "258/258 [==============================] - 3s 13ms/step - loss: 0.1472 - val_loss: 0.1433\n",
      "Epoch 32/50\n",
      "254/258 [============================>.] - ETA: 0s - loss: 0.1416\n",
      "Epoch 00032: val_loss improved from 0.14326 to 0.14313, saving model to seq2seq.h5\n",
      "258/258 [==============================] - 3s 13ms/step - loss: 0.1415 - val_loss: 0.1431\n",
      "Epoch 33/50\n",
      "257/258 [============================>.] - ETA: 0s - loss: 0.1382\n",
      "Epoch 00033: val_loss improved from 0.14313 to 0.14277, saving model to seq2seq.h5\n",
      "258/258 [==============================] - 3s 13ms/step - loss: 0.1382 - val_loss: 0.1428\n"
     ]
    },
    {
     "name": "stdout",
     "output_type": "stream",
     "text": [
      "Epoch 34/50\n",
      "255/258 [============================>.] - ETA: 0s - loss: 0.1346\n",
      "Epoch 00034: val_loss improved from 0.14277 to 0.14092, saving model to seq2seq.h5\n",
      "258/258 [==============================] - 3s 13ms/step - loss: 0.1344 - val_loss: 0.1409\n",
      "Epoch 35/50\n",
      "255/258 [============================>.] - ETA: 0s - loss: 0.1295\n",
      "Epoch 00035: val_loss did not improve from 0.14092\n",
      "258/258 [==============================] - 4s 14ms/step - loss: 0.1295 - val_loss: 0.1442\n",
      "Epoch 36/50\n",
      "257/258 [============================>.] - ETA: 0s - loss: 0.1263\n",
      "Epoch 00036: val_loss did not improve from 0.14092\n",
      "258/258 [==============================] - 3s 13ms/step - loss: 0.1263 - val_loss: 0.1426\n",
      "Epoch 37/50\n",
      "256/258 [============================>.] - ETA: 0s - loss: 0.1225\n",
      "Epoch 00037: val_loss did not improve from 0.14092\n",
      "\n",
      "Epoch 00037: ReduceLROnPlateau reducing learning rate to 0.00010000000474974513.\n",
      "258/258 [==============================] - 3s 13ms/step - loss: 0.1224 - val_loss: 0.1424\n",
      "Epoch 38/50\n",
      "256/258 [============================>.] - ETA: 0s - loss: 0.1081\n",
      "Epoch 00038: val_loss improved from 0.14092 to 0.13504, saving model to seq2seq.h5\n",
      "258/258 [==============================] - 3s 13ms/step - loss: 0.1080 - val_loss: 0.1350\n",
      "Epoch 39/50\n",
      "256/258 [============================>.] - ETA: 0s - loss: 0.1037\n",
      "Epoch 00039: val_loss improved from 0.13504 to 0.13468, saving model to seq2seq.h5\n",
      "258/258 [==============================] - 3s 13ms/step - loss: 0.1036 - val_loss: 0.1347\n",
      "Epoch 40/50\n",
      "256/258 [============================>.] - ETA: 0s - loss: 0.1014\n",
      "Epoch 00040: val_loss improved from 0.13468 to 0.13464, saving model to seq2seq.h5\n",
      "258/258 [==============================] - 3s 13ms/step - loss: 0.1014 - val_loss: 0.1346\n",
      "Epoch 41/50\n",
      "254/258 [============================>.] - ETA: 0s - loss: 0.1003\n",
      "Epoch 00041: val_loss did not improve from 0.13464\n",
      "258/258 [==============================] - 3s 13ms/step - loss: 0.1003 - val_loss: 0.1348\n",
      "Epoch 42/50\n",
      "255/258 [============================>.] - ETA: 0s - loss: 0.0993\n",
      "Epoch 00042: val_loss did not improve from 0.13464\n",
      "\n",
      "Epoch 00042: ReduceLROnPlateau reducing learning rate to 1.0000000474974514e-05.\n",
      "258/258 [==============================] - 3s 13ms/step - loss: 0.0994 - val_loss: 0.1352\n",
      "Epoch 43/50\n",
      "257/258 [============================>.] - ETA: 0s - loss: 0.0974\n",
      "Epoch 00043: val_loss improved from 0.13464 to 0.13452, saving model to seq2seq.h5\n",
      "258/258 [==============================] - 3s 13ms/step - loss: 0.0974 - val_loss: 0.1345\n",
      "Epoch 44/50\n",
      "255/258 [============================>.] - ETA: 0s - loss: 0.0964- E\n",
      "Epoch 00044: val_loss improved from 0.13452 to 0.13444, saving model to seq2seq.h5\n",
      "258/258 [==============================] - 3s 13ms/step - loss: 0.0964 - val_loss: 0.1344\n",
      "Epoch 45/50\n",
      "257/258 [============================>.] - ETA: 0s - loss: 0.0964\n",
      "Epoch 00045: val_loss improved from 0.13444 to 0.13437, saving model to seq2seq.h5\n",
      "258/258 [==============================] - 3s 13ms/step - loss: 0.0964 - val_loss: 0.1344\n",
      "Epoch 46/50\n",
      "257/258 [============================>.] - ETA: 0s - loss: 0.0966\n",
      "Epoch 00046: val_loss improved from 0.13437 to 0.13429, saving model to seq2seq.h5\n",
      "258/258 [==============================] - 3s 13ms/step - loss: 0.0965 - val_loss: 0.1343\n",
      "Epoch 47/50\n",
      "258/258 [==============================] - ETA: 0s - loss: 0.0956\n",
      "Epoch 00047: val_loss did not improve from 0.13429\n",
      "258/258 [==============================] - 3s 13ms/step - loss: 0.0956 - val_loss: 0.1344\n",
      "Epoch 48/50\n",
      "256/258 [============================>.] - ETA: 0s - loss: 0.0966\n",
      "Epoch 00048: val_loss did not improve from 0.13429\n",
      "\n",
      "Epoch 00048: ReduceLROnPlateau reducing learning rate to 1.0000000656873453e-06.\n",
      "258/258 [==============================] - 4s 14ms/step - loss: 0.0966 - val_loss: 0.1344\n",
      "Epoch 49/50\n",
      "255/258 [============================>.] - ETA: 0s - loss: 0.0958\n",
      "Epoch 00049: val_loss did not improve from 0.13429\n",
      "258/258 [==============================] - 4s 14ms/step - loss: 0.0958 - val_loss: 0.1344\n",
      "Epoch 50/50\n",
      "254/258 [============================>.] - ETA: 0s - loss: 0.0957\n",
      "Epoch 00050: val_loss did not improve from 0.13429\n",
      "258/258 [==============================] - 3s 13ms/step - loss: 0.0956 - val_loss: 0.1344\n"
     ]
    },
    {
     "data": {
      "text/plain": [
       "<tensorflow.python.keras.callbacks.History at 0x298c84fd9c8>"
      ]
     },
     "execution_count": 20,
     "metadata": {},
     "output_type": "execute_result"
    }
   ],
   "source": [
    "model = Encoder_decoder(vocab_size, vocab_size, embedding_dim, lstm_size, max_len, max_len)\n",
    "model.compile(optimizer = 'Adam',loss = 'sparse_categorical_crossentropy')\n",
    "\n",
    "callbacks = [ModelCheckpoint('seq2seq.h5', save_best_only= True, verbose = 1),\n",
    "             EarlyStopping(patience = 5, verbose = 1), \n",
    "             ReduceLROnPlateau(patience = 3, verbose = 1)]\n",
    "\n",
    "model.fit(x = unigram_train_dataset, \n",
    "          steps_per_epoch = unigram_train.shape[0]//batch_size,\n",
    "          validation_data = unigram_val_dataset,\n",
    "          validation_steps = unigram_val.shape[0]//batch_size,\n",
    "          epochs = 50,\n",
    "          verbose = 1,\n",
    "          callbacks = callbacks)"
   ]
  },
  {
   "cell_type": "code",
   "execution_count": 70,
   "metadata": {},
   "outputs": [],
   "source": [
    "pred_model = pred_Encoder_decoder(vocab_size, vocab_size, embedding_dim, lstm_size, max_len, max_len)\n",
    "pred_model.compile(optimizer = 'Adam', loss = 'sparse_categorical_crossentropy')\n",
    "pred_model.build(input_shape=(None, 1, max_len))\n",
    "pred_model.load_weights('seq2seq.h5')"
   ]
  },
  {
   "cell_type": "code",
   "execution_count": 71,
   "metadata": {},
   "outputs": [
    {
     "name": "stdout",
     "output_type": "stream",
     "text": [
      "input :  qitted\n",
      "predicted output :  quitted\n",
      "actual output : quitted\n"
     ]
    }
   ],
   "source": [
    "sentence = unigram_train['input'].values[5]\n",
    "print('input : ', sentence)\n",
    "result = predict(sentence, unigram_vec, unigram_index_to_word, gram = 'uni')\n",
    "print('predicted output : ',result)\n",
    "print('actual output :', unigram_train['output'].values[5])"
   ]
  },
  {
   "cell_type": "code",
   "execution_count": 72,
   "metadata": {},
   "outputs": [
    {
     "name": "stdout",
     "output_type": "stream",
     "text": [
      "input :  fortissiemus\n",
      "predicted output :  fortissimeus\n",
      "actual output : fortissimus\n"
     ]
    }
   ],
   "source": [
    "sentence = unigram_train['input'].values[11]\n",
    "print('input : ', sentence)\n",
    "result = predict(sentence, unigram_vec, unigram_index_to_word, gram = 'uni')\n",
    "print('predicted output : ',result)\n",
    "print('actual output :', unigram_train['output'].values[11])"
   ]
  },
  {
   "cell_type": "code",
   "execution_count": 73,
   "metadata": {},
   "outputs": [
    {
     "name": "stdout",
     "output_type": "stream",
     "text": [
      "input :  numbeGr\n",
      "predicted output :  number\n",
      "actual output : number\n"
     ]
    }
   ],
   "source": [
    "sentence = unigram_train['input'].values[14]\n",
    "print('input : ', sentence)\n",
    "result = predict(sentence, unigram_vec, unigram_index_to_word, gram = 'uni')\n",
    "print('predicted output : ',result)\n",
    "print('actual output :', unigram_train['output'].values[14])"
   ]
  },
  {
   "cell_type": "code",
   "execution_count": 27,
   "metadata": {},
   "outputs": [
    {
     "name": "stderr",
     "output_type": "stream",
     "text": [
      "100%|██████████████████████████████████████████████████████████████████████████████| 3678/3678 [03:16<00:00, 18.73it/s]\n",
      "100%|████████████████████████████████████████████████████████████████████████████| 33101/33101 [29:07<00:00, 18.94it/s]\n",
      "100%|██████████████████████████████████████████████████████████████████████████████| 3150/3150 [02:46<00:00, 18.89it/s]"
     ]
    },
    {
     "name": "stdout",
     "output_type": "stream",
     "text": [
      "BLEU Score on train:  0.8349934632437717\n",
      "BLEU Score on val:  0.7469809366693739\n",
      "BLEU Score on test:  0.6843990465288321\n"
     ]
    },
    {
     "name": "stderr",
     "output_type": "stream",
     "text": [
      "\n"
     ]
    }
   ],
   "source": [
    "val_bleu = 0\n",
    "for i in tqdm(range(val.shape[0])):\n",
    "    inp = unigram_val['input'].values[i]\n",
    "    out = unigram_val['output'].values[i]\n",
    "    pred = predict(inp, unigram_vec, unigram_index_to_word, gram = 'uni')\n",
    "    val_bleu += sentence_bleu([out], pred)\n",
    "\n",
    "train_bleu = 0\n",
    "for i in tqdm(range(train.shape[0])):\n",
    "    inp = unigram_train['input'].values[i];\n",
    "    out = unigram_train['output'].values[i]\n",
    "    pred = predict(inp, unigram_vec, unigram_index_to_word, gram = 'uni')\n",
    "    train_bleu += sentence_bleu([out], pred)\n",
    "\n",
    "test_bleu = 0\n",
    "for i in tqdm(range(test.shape[0])):\n",
    "    inp = unigram_test['input'].values[i]\n",
    "    out = unigram_test['output'].values[i]\n",
    "    pred = predict(inp, unigram_vec, unigram_index_to_word, gram = 'uni')\n",
    "    test_bleu += sentence_bleu([out], pred)\n",
    "    \n",
    "print('BLEU Score on train: ',train_bleu/unigram_train.shape[0])\n",
    "print('BLEU Score on val: ',val_bleu/unigram_val.shape[0])\n",
    "print('BLEU Score on test: ',test_bleu/unigram_test.shape[0])"
   ]
  },
  {
   "cell_type": "markdown",
   "metadata": {},
   "source": [
    "<h3>1.2 BiGram </h3>"
   ]
  },
  {
   "cell_type": "code",
   "execution_count": 20,
   "metadata": {},
   "outputs": [],
   "source": [
    "vocab_size = len(bigram_vec.get_vocabulary())\n",
    "embedding_dim = 100\n",
    "lstm_size = 256\n",
    "max_len = 26"
   ]
  },
  {
   "cell_type": "code",
   "execution_count": 28,
   "metadata": {},
   "outputs": [
    {
     "name": "stdout",
     "output_type": "stream",
     "text": [
      "Epoch 1/50\n",
      "6910/6910 [==============================] - ETA: 0s - loss: 0.5047\n",
      "Epoch 00001: val_loss improved from inf to 0.11996, saving model to seq2seq_bigram.h5\n",
      "6910/6910 [==============================] - 96s 14ms/step - loss: 0.5047 - val_loss: 0.1200\n",
      "Epoch 2/50\n",
      "6907/6910 [============================>.] - ETA: 0s - loss: 0.1247\n",
      "Epoch 00002: val_loss improved from 0.11996 to 0.06599, saving model to seq2seq_bigram.h5\n",
      "6910/6910 [==============================] - 100s 14ms/step - loss: 0.1246 - val_loss: 0.0660\n",
      "Epoch 3/50\n",
      "6907/6910 [============================>.] - ETA: 0s - loss: 0.0858\n",
      "Epoch 00003: val_loss improved from 0.06599 to 0.05437, saving model to seq2seq_bigram.h5\n",
      "6910/6910 [==============================] - 104s 15ms/step - loss: 0.0858 - val_loss: 0.0544\n",
      "Epoch 4/50\n",
      "6907/6910 [============================>.] - ETA: 0s - loss: 0.0722\n",
      "Epoch 00004: val_loss improved from 0.05437 to 0.04924, saving model to seq2seq_bigram.h5\n",
      "6910/6910 [==============================] - 104s 15ms/step - loss: 0.0722 - val_loss: 0.0492\n",
      "Epoch 5/50\n",
      "6908/6910 [============================>.] - ETA: 0s - loss: 0.0649\n",
      "Epoch 00005: val_loss improved from 0.04924 to 0.04526, saving model to seq2seq_bigram.h5\n",
      "6910/6910 [==============================] - 105s 15ms/step - loss: 0.0649 - val_loss: 0.0453\n",
      "Epoch 6/50\n",
      "6908/6910 [============================>.] - ETA: 0s - loss: 0.0601\n",
      "Epoch 00006: val_loss improved from 0.04526 to 0.04325, saving model to seq2seq_bigram.h5\n",
      "6910/6910 [==============================] - 106s 15ms/step - loss: 0.0601 - val_loss: 0.0432\n",
      "Epoch 7/50\n",
      "6907/6910 [============================>.] - ETA: 0s - loss: 0.0566\n",
      "Epoch 00007: val_loss improved from 0.04325 to 0.04161, saving model to seq2seq_bigram.h5\n",
      "6910/6910 [==============================] - 105s 15ms/step - loss: 0.0566 - val_loss: 0.0416\n",
      "Epoch 8/50\n",
      "6910/6910 [==============================] - ETA: 0s - loss: 0.0539\n",
      "Epoch 00008: val_loss improved from 0.04161 to 0.04037, saving model to seq2seq_bigram.h5\n",
      "6910/6910 [==============================] - 106s 15ms/step - loss: 0.0539 - val_loss: 0.0404\n",
      "Epoch 9/50\n",
      "6907/6910 [============================>.] - ETA: 0s - loss: 0.0517\n",
      "Epoch 00009: val_loss improved from 0.04037 to 0.03965, saving model to seq2seq_bigram.h5\n",
      "6910/6910 [==============================] - 105s 15ms/step - loss: 0.0517 - val_loss: 0.0396\n",
      "Epoch 10/50\n",
      "6910/6910 [==============================] - ETA: 0s - loss: 0.0499\n",
      "Epoch 00010: val_loss improved from 0.03965 to 0.03907, saving model to seq2seq_bigram.h5\n",
      "6910/6910 [==============================] - 104s 15ms/step - loss: 0.0499 - val_loss: 0.0391\n",
      "Epoch 11/50\n",
      "6909/6910 [============================>.] - ETA: 0s - loss: 0.0484\n",
      "Epoch 00011: val_loss improved from 0.03907 to 0.03830, saving model to seq2seq_bigram.h5\n",
      "6910/6910 [==============================] - 103s 15ms/step - loss: 0.0484 - val_loss: 0.0383\n",
      "Epoch 12/50\n",
      "6908/6910 [============================>.] - ETA: 0s - loss: 0.0471\n",
      "Epoch 00012: val_loss improved from 0.03830 to 0.03783, saving model to seq2seq_bigram.h5\n",
      "6910/6910 [==============================] - 105s 15ms/step - loss: 0.0471 - val_loss: 0.0378\n",
      "Epoch 13/50\n",
      "6909/6910 [============================>.] - ETA: 0s - loss: 0.0459\n",
      "Epoch 00013: val_loss improved from 0.03783 to 0.03727, saving model to seq2seq_bigram.h5\n",
      "6910/6910 [==============================] - 106s 15ms/step - loss: 0.0459 - val_loss: 0.0373\n",
      "Epoch 14/50\n",
      "6908/6910 [============================>.] - ETA: 0s - loss: 0.0450\n",
      "Epoch 00014: val_loss improved from 0.03727 to 0.03696, saving model to seq2seq_bigram.h5\n",
      "6910/6910 [==============================] - 105s 15ms/step - loss: 0.0450 - val_loss: 0.0370\n",
      "Epoch 15/50\n",
      "6910/6910 [==============================] - ETA: 0s - loss: 0.0440\n",
      "Epoch 00015: val_loss improved from 0.03696 to 0.03681, saving model to seq2seq_bigram.h5\n",
      "6910/6910 [==============================] - 109s 16ms/step - loss: 0.0440 - val_loss: 0.0368\n",
      "Epoch 16/50\n",
      "6910/6910 [==============================] - ETA: 0s - loss: 0.0433\n",
      "Epoch 00016: val_loss improved from 0.03681 to 0.03646, saving model to seq2seq_bigram.h5\n",
      "6910/6910 [==============================] - 109s 16ms/step - loss: 0.0433 - val_loss: 0.0365\n",
      "Epoch 17/50\n",
      "6909/6910 [============================>.] - ETA: 0s - loss: 0.0425\n",
      "Epoch 00017: val_loss improved from 0.03646 to 0.03598, saving model to seq2seq_bigram.h5\n",
      "6910/6910 [==============================] - 109s 16ms/step - loss: 0.0425 - val_loss: 0.0360\n",
      "Epoch 18/50\n",
      "6907/6910 [============================>.] - ETA: 0s - loss: 0.0418\n",
      "Epoch 00018: val_loss improved from 0.03598 to 0.03585, saving model to seq2seq_bigram.h5\n",
      "6910/6910 [==============================] - 109s 16ms/step - loss: 0.0418 - val_loss: 0.0359\n",
      "Epoch 19/50\n",
      "6910/6910 [==============================] - ETA: 0s - loss: 0.0412\n",
      "Epoch 00019: val_loss improved from 0.03585 to 0.03570, saving model to seq2seq_bigram.h5\n",
      "6910/6910 [==============================] - 113s 16ms/step - loss: 0.0412 - val_loss: 0.0357\n",
      "Epoch 20/50\n",
      "6910/6910 [==============================] - ETA: 0s - loss: 0.0406\n",
      "Epoch 00020: val_loss improved from 0.03570 to 0.03565, saving model to seq2seq_bigram.h5\n",
      "6910/6910 [==============================] - 112s 16ms/step - loss: 0.0406 - val_loss: 0.0356\n",
      "Epoch 21/50\n",
      "6908/6910 [============================>.] - ETA: 0s - loss: 0.0402\n",
      "Epoch 00021: val_loss improved from 0.03565 to 0.03554, saving model to seq2seq_bigram.h5\n",
      "6910/6910 [==============================] - 111s 16ms/step - loss: 0.0402 - val_loss: 0.0355\n",
      "Epoch 22/50\n",
      "6909/6910 [============================>.] - ETA: 0s - loss: 0.0396\n",
      "Epoch 00022: val_loss improved from 0.03554 to 0.03531, saving model to seq2seq_bigram.h5\n",
      "6910/6910 [==============================] - 109s 16ms/step - loss: 0.0396 - val_loss: 0.0353\n",
      "Epoch 23/50\n",
      "6908/6910 [============================>.] - ETA: 0s - loss: 0.0391\n",
      "Epoch 00023: val_loss improved from 0.03531 to 0.03517, saving model to seq2seq_bigram.h5\n",
      "6910/6910 [==============================] - 107s 15ms/step - loss: 0.0391 - val_loss: 0.0352\n",
      "Epoch 24/50\n",
      "6908/6910 [============================>.] - ETA: 0s - loss: 0.0387\n",
      "Epoch 00024: val_loss improved from 0.03517 to 0.03482, saving model to seq2seq_bigram.h5\n",
      "6910/6910 [==============================] - 109s 16ms/step - loss: 0.0387 - val_loss: 0.0348\n",
      "Epoch 25/50\n",
      "6910/6910 [==============================] - ETA: 0s - loss: 0.0383\n",
      "Epoch 00025: val_loss improved from 0.03482 to 0.03456, saving model to seq2seq_bigram.h5\n",
      "6910/6910 [==============================] - 108s 16ms/step - loss: 0.0383 - val_loss: 0.0346\n",
      "Epoch 26/50\n",
      "6909/6910 [============================>.] - ETA: 0s - loss: 0.0379\n",
      "Epoch 00026: val_loss did not improve from 0.03456\n",
      "6910/6910 [==============================] - 109s 16ms/step - loss: 0.0379 - val_loss: 0.0348\n",
      "Epoch 27/50\n",
      "6910/6910 [==============================] - ETA: 0s - loss: 0.0375\n",
      "Epoch 00027: val_loss improved from 0.03456 to 0.03456, saving model to seq2seq_bigram.h5\n",
      "6910/6910 [==============================] - 109s 16ms/step - loss: 0.0375 - val_loss: 0.0346\n",
      "Epoch 28/50\n",
      "6909/6910 [============================>.] - ETA: 0s - loss: 0.0372\n",
      "Epoch 00028: val_loss improved from 0.03456 to 0.03445, saving model to seq2seq_bigram.h5\n",
      "6910/6910 [==============================] - 109s 16ms/step - loss: 0.0372 - val_loss: 0.0345\n",
      "Epoch 29/50\n",
      "6908/6910 [============================>.] - ETA: 0s - loss: 0.0368\n",
      "Epoch 00029: val_loss did not improve from 0.03445\n",
      "6910/6910 [==============================] - 109s 16ms/step - loss: 0.0368 - val_loss: 0.0346\n",
      "Epoch 30/50\n",
      "6909/6910 [============================>.] - ETA: 0s - loss: 0.0366\n",
      "Epoch 00030: val_loss did not improve from 0.03445\n",
      "6910/6910 [==============================] - 110s 16ms/step - loss: 0.0366 - val_loss: 0.0346\n",
      "Epoch 31/50\n",
      "6909/6910 [============================>.] - ETA: 0s - loss: 0.0362\n",
      "Epoch 00031: val_loss did not improve from 0.03445\n",
      "\n",
      "Epoch 00031: ReduceLROnPlateau reducing learning rate to 0.00010000000474974513.\n",
      "6910/6910 [==============================] - 108s 16ms/step - loss: 0.0362 - val_loss: 0.0346\n",
      "Epoch 32/50\n",
      "6907/6910 [============================>.] - ETA: 0s - loss: 0.0308\n",
      "Epoch 00032: val_loss improved from 0.03445 to 0.03222, saving model to seq2seq_bigram.h5\n",
      "6910/6910 [==============================] - 108s 16ms/step - loss: 0.0308 - val_loss: 0.0322\n"
     ]
    },
    {
     "name": "stdout",
     "output_type": "stream",
     "text": [
      "Epoch 33/50\n",
      "6910/6910 [==============================] - ETA: 0s - loss: 0.0292\n",
      "Epoch 00033: val_loss improved from 0.03222 to 0.03200, saving model to seq2seq_bigram.h5\n",
      "6910/6910 [==============================] - 109s 16ms/step - loss: 0.0292 - val_loss: 0.0320\n",
      "Epoch 34/50\n",
      "6908/6910 [============================>.] - ETA: 0s - loss: 0.0286\n",
      "Epoch 00034: val_loss improved from 0.03200 to 0.03186, saving model to seq2seq_bigram.h5\n",
      "6910/6910 [==============================] - 110s 16ms/step - loss: 0.0286 - val_loss: 0.0319\n",
      "Epoch 35/50\n",
      "6907/6910 [============================>.] - ETA: 0s - loss: 0.0282\n",
      "Epoch 00035: val_loss improved from 0.03186 to 0.03174, saving model to seq2seq_bigram.h5\n",
      "6910/6910 [==============================] - 108s 16ms/step - loss: 0.0282 - val_loss: 0.0317\n",
      "Epoch 36/50\n",
      "6908/6910 [============================>.] - ETA: 0s - loss: 0.0279\n",
      "Epoch 00036: val_loss improved from 0.03174 to 0.03169, saving model to seq2seq_bigram.h5\n",
      "6910/6910 [==============================] - 108s 16ms/step - loss: 0.0279 - val_loss: 0.0317\n",
      "Epoch 37/50\n",
      "6907/6910 [============================>.] - ETA: 0s - loss: 0.0276\n",
      "Epoch 00037: val_loss did not improve from 0.03169\n",
      "6910/6910 [==============================] - 108s 16ms/step - loss: 0.0276 - val_loss: 0.0317\n",
      "Epoch 38/50\n",
      "6909/6910 [============================>.] - ETA: 0s - loss: 0.0274\n",
      "Epoch 00038: val_loss improved from 0.03169 to 0.03168, saving model to seq2seq_bigram.h5\n",
      "\n",
      "Epoch 00038: ReduceLROnPlateau reducing learning rate to 1.0000000474974514e-05.\n",
      "6910/6910 [==============================] - 108s 16ms/step - loss: 0.0274 - val_loss: 0.0317\n",
      "Epoch 39/50\n",
      "6907/6910 [============================>.] - ETA: 0s - loss: 0.0267\n",
      "Epoch 00039: val_loss improved from 0.03168 to 0.03158, saving model to seq2seq_bigram.h5\n",
      "6910/6910 [==============================] - 109s 16ms/step - loss: 0.0267 - val_loss: 0.0316\n",
      "Epoch 40/50\n",
      "6908/6910 [============================>.] - ETA: 0s - loss: 0.0266\n",
      "Epoch 00040: val_loss improved from 0.03158 to 0.03155, saving model to seq2seq_bigram.h5\n",
      "6910/6910 [==============================] - 107s 15ms/step - loss: 0.0266 - val_loss: 0.0316\n",
      "Epoch 41/50\n",
      "6908/6910 [============================>.] - ETA: 0s - loss: 0.0265\n",
      "Epoch 00041: val_loss improved from 0.03155 to 0.03152, saving model to seq2seq_bigram.h5\n",
      "6910/6910 [==============================] - 110s 16ms/step - loss: 0.0265 - val_loss: 0.0315\n",
      "Epoch 42/50\n",
      "6909/6910 [============================>.] - ETA: 0s - loss: 0.0265\n",
      "Epoch 00042: val_loss did not improve from 0.03152\n",
      "\n",
      "Epoch 00042: ReduceLROnPlateau reducing learning rate to 1.0000000656873453e-06.\n",
      "6910/6910 [==============================] - 109s 16ms/step - loss: 0.0265 - val_loss: 0.0315\n",
      "Epoch 43/50\n",
      "6909/6910 [============================>.] - ETA: 0s - loss: 0.0264\n",
      "Epoch 00043: val_loss improved from 0.03152 to 0.03151, saving model to seq2seq_bigram.h5\n",
      "6910/6910 [==============================] - 105s 15ms/step - loss: 0.0264 - val_loss: 0.0315\n",
      "Epoch 44/50\n",
      "6908/6910 [============================>.] - ETA: 0s - loss: 0.0263\n",
      "Epoch 00044: val_loss improved from 0.03151 to 0.03151, saving model to seq2seq_bigram.h5\n",
      "6910/6910 [==============================] - 111s 16ms/step - loss: 0.0263 - val_loss: 0.0315\n",
      "Epoch 45/50\n",
      "6910/6910 [==============================] - ETA: 0s - loss: 0.0264\n",
      "Epoch 00045: val_loss improved from 0.03151 to 0.03150, saving model to seq2seq_bigram.h5\n",
      "\n",
      "Epoch 00045: ReduceLROnPlateau reducing learning rate to 1.0000001111620805e-07.\n",
      "6910/6910 [==============================] - 112s 16ms/step - loss: 0.0264 - val_loss: 0.0315\n",
      "Epoch 46/50\n",
      "6907/6910 [============================>.] - ETA: 0s - loss: 0.0263\n",
      "Epoch 00046: val_loss improved from 0.03150 to 0.03149, saving model to seq2seq_bigram.h5\n",
      "6910/6910 [==============================] - 107s 15ms/step - loss: 0.0263 - val_loss: 0.0315\n",
      "Epoch 47/50\n",
      "6908/6910 [============================>.] - ETA: 0s - loss: 0.0263\n",
      "Epoch 00047: val_loss improved from 0.03149 to 0.03149, saving model to seq2seq_bigram.h5\n",
      "6910/6910 [==============================] - 106s 15ms/step - loss: 0.0263 - val_loss: 0.0315\n",
      "Epoch 48/50\n",
      "6908/6910 [============================>.] - ETA: 0s - loss: 0.0264- ETA\n",
      "Epoch 00048: val_loss improved from 0.03149 to 0.03149, saving model to seq2seq_bigram.h5\n",
      "\n",
      "Epoch 00048: ReduceLROnPlateau reducing learning rate to 1.000000082740371e-08.\n",
      "6910/6910 [==============================] - 105s 15ms/step - loss: 0.0264 - val_loss: 0.0315\n",
      "Epoch 49/50\n",
      "6910/6910 [==============================] - ETA: 0s - loss: 0.0264\n",
      "Epoch 00049: val_loss improved from 0.03149 to 0.03149, saving model to seq2seq_bigram.h5\n",
      "6910/6910 [==============================] - 107s 15ms/step - loss: 0.0264 - val_loss: 0.0315\n",
      "Epoch 50/50\n",
      "6910/6910 [==============================] - ETA: 0s - loss: 0.0263\n",
      "Epoch 00050: val_loss improved from 0.03149 to 0.03149, saving model to seq2seq_bigram.h5\n",
      "6910/6910 [==============================] - 108s 16ms/step - loss: 0.0263 - val_loss: 0.0315\n"
     ]
    },
    {
     "data": {
      "text/plain": [
       "<tensorflow.python.keras.callbacks.History at 0x224068e7048>"
      ]
     },
     "execution_count": 28,
     "metadata": {},
     "output_type": "execute_result"
    }
   ],
   "source": [
    "model = Encoder_decoder(vocab_size, vocab_size, embedding_dim, lstm_size, max_len, max_len)\n",
    "model.compile(optimizer = 'Adam',loss = 'sparse_categorical_crossentropy')\n",
    "\n",
    "callbacks = [ModelCheckpoint('seq2seq_bigram.h5', save_best_only= True, verbose = 1),\n",
    "             EarlyStopping(patience = 5, verbose = 1), \n",
    "             ReduceLROnPlateau(patience = 3, verbose = 1)]\n",
    "\n",
    "model.fit(x = bigram_train_dataset, \n",
    "          steps_per_epoch = bigram_train.shape[0]//batch_size,\n",
    "          validation_data = bigram_val_dataset,\n",
    "          validation_steps = bigram_val.shape[0]//batch_size,\n",
    "          epochs = 50,\n",
    "          verbose = 1,\n",
    "          callbacks = callbacks)"
   ]
  },
  {
   "cell_type": "code",
   "execution_count": 21,
   "metadata": {},
   "outputs": [],
   "source": [
    "pred_model = pred_Encoder_decoder(vocab_size, vocab_size, embedding_dim, lstm_size, max_len, max_len, bigram_word_to_index)\n",
    "pred_model.compile(optimizer = 'Adam', loss = 'sparse_categorical_crossentropy')\n",
    "pred_model.build(input_shape=(None, 1, max_len))\n",
    "pred_model.load_weights('seq2seq_bigram.h5')"
   ]
  },
  {
   "cell_type": "code",
   "execution_count": 42,
   "metadata": {},
   "outputs": [
    {
     "name": "stdout",
     "output_type": "stream",
     "text": [
      "input :  no Lne\n",
      "predicted output :  no one\n",
      "actual output : no one\n"
     ]
    }
   ],
   "source": [
    "sentence = bigram_train['input'].values[4]\n",
    "print('input : ', sentence)\n",
    "result = predict(sentence, bigram_vec, bigram_index_to_word, gram = 'bi')\n",
    "print('predicted output : ',result)\n",
    "print('actual output :', bigram_train['output'].values[4])"
   ]
  },
  {
   "cell_type": "code",
   "execution_count": 45,
   "metadata": {},
   "outputs": [
    {
     "name": "stdout",
     "output_type": "stream",
     "text": [
      "input :  for themseves\n",
      "predicted output :  for themselves\n",
      "actual output : for themselves\n"
     ]
    }
   ],
   "source": [
    "sentence = bigram_train['input'].values[6]\n",
    "print('input : ', sentence)\n",
    "result = predict(sentence, bigram_vec, bigram_index_to_word, gram = 'bi')\n",
    "print('predicted output : ',result)\n",
    "print('actual output :', bigram_train['output'].values[6])"
   ]
  },
  {
   "cell_type": "code",
   "execution_count": 46,
   "metadata": {},
   "outputs": [
    {
     "name": "stdout",
     "output_type": "stream",
     "text": [
      "input :  detil of\n",
      "predicted output :  detail of\n",
      "actual output : detail of\n"
     ]
    }
   ],
   "source": [
    "sentence = bigram_train['input'].values[7]\n",
    "print('input : ', sentence)\n",
    "result = predict(sentence, bigram_vec, bigram_index_to_word, gram = 'bi')\n",
    "print('predicted output : ',result)\n",
    "print('actual output :', bigram_train['output'].values[7])"
   ]
  },
  {
   "cell_type": "code",
   "execution_count": 25,
   "metadata": {},
   "outputs": [
    {
     "data": {
      "text/plain": [
       "0.9467181213926804"
      ]
     },
     "execution_count": 25,
     "metadata": {},
     "output_type": "execute_result"
    },
    {
     "name": "stderr",
     "output_type": "stream",
     "text": [
      "\r",
      "  3%|██▍                                                                     | 30534/884533 [30:10<13:29:26, 17.58it/s]"
     ]
    }
   ],
   "source": [
    "val_bleu/bigram_val.shape[0]"
   ]
  },
  {
   "cell_type": "code",
   "execution_count": 22,
   "metadata": {},
   "outputs": [
    {
     "name": "stderr",
     "output_type": "stream",
     "text": [
      "100%|██████████████████████████████████████████████████████████████████████████| 98282/98282 [1:34:58<00:00, 17.25it/s]\n",
      "  3%|██▍                                                                     | 30394/884533 [29:43<14:21:38, 16.52it/s]Exception ignored in: <function WeakKeyDictionary.__init__.<locals>.remove at 0x000002854C787828>\n",
      "Traceback (most recent call last):\n",
      "  File \"C:\\Users\\Vineet Mukesh Haswan\\anaconda3\\lib\\weakref.py\", line 358, in remove\n",
      "    def remove(k, selfref=ref(self)):\n",
      "KeyboardInterrupt\n",
      "  3%|██▍                                                                     | 30534/884533 [29:51<13:29:26, 17.58it/s]"
     ]
    },
    {
     "ename": "KeyboardInterrupt",
     "evalue": "",
     "output_type": "error",
     "traceback": [
      "\u001b[1;31m---------------------------------------------------------------------------\u001b[0m",
      "\u001b[1;31mKeyboardInterrupt\u001b[0m                         Traceback (most recent call last)",
      "\u001b[1;32m<ipython-input-22-8a985075c849>\u001b[0m in \u001b[0;36m<module>\u001b[1;34m\u001b[0m\n\u001b[0;32m     10\u001b[0m     \u001b[0minp\u001b[0m \u001b[1;33m=\u001b[0m \u001b[0mbigram_train\u001b[0m\u001b[1;33m[\u001b[0m\u001b[1;34m'input'\u001b[0m\u001b[1;33m]\u001b[0m\u001b[1;33m.\u001b[0m\u001b[0mvalues\u001b[0m\u001b[1;33m[\u001b[0m\u001b[0mi\u001b[0m\u001b[1;33m]\u001b[0m\u001b[1;33m;\u001b[0m\u001b[1;33m\u001b[0m\u001b[1;33m\u001b[0m\u001b[0m\n\u001b[0;32m     11\u001b[0m     \u001b[0mout\u001b[0m \u001b[1;33m=\u001b[0m \u001b[0mbigram_train\u001b[0m\u001b[1;33m[\u001b[0m\u001b[1;34m'output'\u001b[0m\u001b[1;33m]\u001b[0m\u001b[1;33m.\u001b[0m\u001b[0mvalues\u001b[0m\u001b[1;33m[\u001b[0m\u001b[0mi\u001b[0m\u001b[1;33m]\u001b[0m\u001b[1;33m\u001b[0m\u001b[1;33m\u001b[0m\u001b[0m\n\u001b[1;32m---> 12\u001b[1;33m     \u001b[0mpred\u001b[0m \u001b[1;33m=\u001b[0m \u001b[0mpredict\u001b[0m\u001b[1;33m(\u001b[0m\u001b[0minp\u001b[0m\u001b[1;33m,\u001b[0m \u001b[0mbigram_vec\u001b[0m\u001b[1;33m,\u001b[0m \u001b[0mbigram_index_to_word\u001b[0m\u001b[1;33m,\u001b[0m \u001b[0mgram\u001b[0m \u001b[1;33m=\u001b[0m \u001b[1;34m'bi'\u001b[0m\u001b[1;33m)\u001b[0m\u001b[1;33m\u001b[0m\u001b[1;33m\u001b[0m\u001b[0m\n\u001b[0m\u001b[0;32m     13\u001b[0m     \u001b[0mtrain_bleu\u001b[0m \u001b[1;33m+=\u001b[0m \u001b[0msentence_bleu\u001b[0m\u001b[1;33m(\u001b[0m\u001b[1;33m[\u001b[0m\u001b[0mout\u001b[0m\u001b[1;33m]\u001b[0m\u001b[1;33m,\u001b[0m \u001b[0mpred\u001b[0m\u001b[1;33m)\u001b[0m\u001b[1;33m\u001b[0m\u001b[1;33m\u001b[0m\u001b[0m\n\u001b[0;32m     14\u001b[0m \u001b[1;33m\u001b[0m\u001b[0m\n",
      "\u001b[1;32m<ipython-input-19-6b49e0175639>\u001b[0m in \u001b[0;36mpredict\u001b[1;34m(seq, vectorizer, index_to_word, gram)\u001b[0m\n\u001b[0;32m      7\u001b[0m         \u001b[0mseq\u001b[0m \u001b[1;33m=\u001b[0m \u001b[1;34m'<SOW>*'\u001b[0m\u001b[1;33m+\u001b[0m\u001b[0mseq\u001b[0m\u001b[1;33m+\u001b[0m\u001b[1;34m'*<EOW>'\u001b[0m\u001b[1;33m\u001b[0m\u001b[1;33m\u001b[0m\u001b[0m\n\u001b[0;32m      8\u001b[0m     \u001b[0mseq\u001b[0m \u001b[1;33m=\u001b[0m \u001b[0mvectorizer\u001b[0m\u001b[1;33m(\u001b[0m\u001b[1;33m[\u001b[0m\u001b[0mseq\u001b[0m\u001b[1;33m]\u001b[0m\u001b[1;33m)\u001b[0m\u001b[1;33m\u001b[0m\u001b[1;33m\u001b[0m\u001b[0m\n\u001b[1;32m----> 9\u001b[1;33m     \u001b[0mpred\u001b[0m \u001b[1;33m=\u001b[0m \u001b[0mpred_model\u001b[0m\u001b[1;33m.\u001b[0m\u001b[0mpredict\u001b[0m\u001b[1;33m(\u001b[0m\u001b[0mtf\u001b[0m\u001b[1;33m.\u001b[0m\u001b[0mexpand_dims\u001b[0m\u001b[1;33m(\u001b[0m\u001b[0mseq\u001b[0m\u001b[1;33m,\u001b[0m \u001b[1;36m0\u001b[0m\u001b[1;33m)\u001b[0m\u001b[1;33m)\u001b[0m\u001b[1;33m\u001b[0m\u001b[1;33m\u001b[0m\u001b[0m\n\u001b[0m\u001b[0;32m     10\u001b[0m     \u001b[0moutput\u001b[0m \u001b[1;33m=\u001b[0m \u001b[1;33m[\u001b[0m\u001b[1;33m]\u001b[0m\u001b[1;33m\u001b[0m\u001b[1;33m\u001b[0m\u001b[0m\n\u001b[0;32m     11\u001b[0m     \u001b[1;32mfor\u001b[0m \u001b[0mi\u001b[0m \u001b[1;32min\u001b[0m \u001b[0mpred\u001b[0m\u001b[1;33m:\u001b[0m\u001b[1;33m\u001b[0m\u001b[1;33m\u001b[0m\u001b[0m\n",
      "\u001b[1;32m~\\anaconda3\\lib\\site-packages\\tensorflow\\python\\keras\\engine\\training.py\u001b[0m in \u001b[0;36m_method_wrapper\u001b[1;34m(self, *args, **kwargs)\u001b[0m\n\u001b[0;32m    128\u001b[0m       raise ValueError('{} is not supported in multi-worker mode.'.format(\n\u001b[0;32m    129\u001b[0m           method.__name__))\n\u001b[1;32m--> 130\u001b[1;33m     \u001b[1;32mreturn\u001b[0m \u001b[0mmethod\u001b[0m\u001b[1;33m(\u001b[0m\u001b[0mself\u001b[0m\u001b[1;33m,\u001b[0m \u001b[1;33m*\u001b[0m\u001b[0margs\u001b[0m\u001b[1;33m,\u001b[0m \u001b[1;33m**\u001b[0m\u001b[0mkwargs\u001b[0m\u001b[1;33m)\u001b[0m\u001b[1;33m\u001b[0m\u001b[1;33m\u001b[0m\u001b[0m\n\u001b[0m\u001b[0;32m    131\u001b[0m \u001b[1;33m\u001b[0m\u001b[0m\n\u001b[0;32m    132\u001b[0m   return tf_decorator.make_decorator(\n",
      "\u001b[1;32m~\\anaconda3\\lib\\site-packages\\tensorflow\\python\\keras\\engine\\training.py\u001b[0m in \u001b[0;36mpredict\u001b[1;34m(self, x, batch_size, verbose, steps, callbacks, max_queue_size, workers, use_multiprocessing)\u001b[0m\n\u001b[0;32m   1597\u001b[0m           \u001b[1;32mfor\u001b[0m \u001b[0mstep\u001b[0m \u001b[1;32min\u001b[0m \u001b[0mdata_handler\u001b[0m\u001b[1;33m.\u001b[0m\u001b[0msteps\u001b[0m\u001b[1;33m(\u001b[0m\u001b[1;33m)\u001b[0m\u001b[1;33m:\u001b[0m\u001b[1;33m\u001b[0m\u001b[1;33m\u001b[0m\u001b[0m\n\u001b[0;32m   1598\u001b[0m             \u001b[0mcallbacks\u001b[0m\u001b[1;33m.\u001b[0m\u001b[0mon_predict_batch_begin\u001b[0m\u001b[1;33m(\u001b[0m\u001b[0mstep\u001b[0m\u001b[1;33m)\u001b[0m\u001b[1;33m\u001b[0m\u001b[1;33m\u001b[0m\u001b[0m\n\u001b[1;32m-> 1599\u001b[1;33m             \u001b[0mtmp_batch_outputs\u001b[0m \u001b[1;33m=\u001b[0m \u001b[0mpredict_function\u001b[0m\u001b[1;33m(\u001b[0m\u001b[0miterator\u001b[0m\u001b[1;33m)\u001b[0m\u001b[1;33m\u001b[0m\u001b[1;33m\u001b[0m\u001b[0m\n\u001b[0m\u001b[0;32m   1600\u001b[0m             \u001b[1;32mif\u001b[0m \u001b[0mdata_handler\u001b[0m\u001b[1;33m.\u001b[0m\u001b[0mshould_sync\u001b[0m\u001b[1;33m:\u001b[0m\u001b[1;33m\u001b[0m\u001b[1;33m\u001b[0m\u001b[0m\n\u001b[0;32m   1601\u001b[0m               \u001b[0mcontext\u001b[0m\u001b[1;33m.\u001b[0m\u001b[0masync_wait\u001b[0m\u001b[1;33m(\u001b[0m\u001b[1;33m)\u001b[0m\u001b[1;33m\u001b[0m\u001b[1;33m\u001b[0m\u001b[0m\n",
      "\u001b[1;32m~\\anaconda3\\lib\\site-packages\\tensorflow\\python\\eager\\def_function.py\u001b[0m in \u001b[0;36m__call__\u001b[1;34m(self, *args, **kwds)\u001b[0m\n\u001b[0;32m    778\u001b[0m       \u001b[1;32melse\u001b[0m\u001b[1;33m:\u001b[0m\u001b[1;33m\u001b[0m\u001b[1;33m\u001b[0m\u001b[0m\n\u001b[0;32m    779\u001b[0m         \u001b[0mcompiler\u001b[0m \u001b[1;33m=\u001b[0m \u001b[1;34m\"nonXla\"\u001b[0m\u001b[1;33m\u001b[0m\u001b[1;33m\u001b[0m\u001b[0m\n\u001b[1;32m--> 780\u001b[1;33m         \u001b[0mresult\u001b[0m \u001b[1;33m=\u001b[0m \u001b[0mself\u001b[0m\u001b[1;33m.\u001b[0m\u001b[0m_call\u001b[0m\u001b[1;33m(\u001b[0m\u001b[1;33m*\u001b[0m\u001b[0margs\u001b[0m\u001b[1;33m,\u001b[0m \u001b[1;33m**\u001b[0m\u001b[0mkwds\u001b[0m\u001b[1;33m)\u001b[0m\u001b[1;33m\u001b[0m\u001b[1;33m\u001b[0m\u001b[0m\n\u001b[0m\u001b[0;32m    781\u001b[0m \u001b[1;33m\u001b[0m\u001b[0m\n\u001b[0;32m    782\u001b[0m       \u001b[0mnew_tracing_count\u001b[0m \u001b[1;33m=\u001b[0m \u001b[0mself\u001b[0m\u001b[1;33m.\u001b[0m\u001b[0m_get_tracing_count\u001b[0m\u001b[1;33m(\u001b[0m\u001b[1;33m)\u001b[0m\u001b[1;33m\u001b[0m\u001b[1;33m\u001b[0m\u001b[0m\n",
      "\u001b[1;32m~\\anaconda3\\lib\\site-packages\\tensorflow\\python\\eager\\def_function.py\u001b[0m in \u001b[0;36m_call\u001b[1;34m(self, *args, **kwds)\u001b[0m\n\u001b[0;32m    812\u001b[0m       \u001b[1;31m# In this case we have not created variables on the first call. So we can\u001b[0m\u001b[1;33m\u001b[0m\u001b[1;33m\u001b[0m\u001b[1;33m\u001b[0m\u001b[0m\n\u001b[0;32m    813\u001b[0m       \u001b[1;31m# run the first trace but we should fail if variables are created.\u001b[0m\u001b[1;33m\u001b[0m\u001b[1;33m\u001b[0m\u001b[1;33m\u001b[0m\u001b[0m\n\u001b[1;32m--> 814\u001b[1;33m       \u001b[0mresults\u001b[0m \u001b[1;33m=\u001b[0m \u001b[0mself\u001b[0m\u001b[1;33m.\u001b[0m\u001b[0m_stateful_fn\u001b[0m\u001b[1;33m(\u001b[0m\u001b[1;33m*\u001b[0m\u001b[0margs\u001b[0m\u001b[1;33m,\u001b[0m \u001b[1;33m**\u001b[0m\u001b[0mkwds\u001b[0m\u001b[1;33m)\u001b[0m\u001b[1;33m\u001b[0m\u001b[1;33m\u001b[0m\u001b[0m\n\u001b[0m\u001b[0;32m    815\u001b[0m       \u001b[1;32mif\u001b[0m \u001b[0mself\u001b[0m\u001b[1;33m.\u001b[0m\u001b[0m_created_variables\u001b[0m\u001b[1;33m:\u001b[0m\u001b[1;33m\u001b[0m\u001b[1;33m\u001b[0m\u001b[0m\n\u001b[0;32m    816\u001b[0m         raise ValueError(\"Creating variables on a non-first call to a function\"\n",
      "\u001b[1;32m~\\anaconda3\\lib\\site-packages\\tensorflow\\python\\eager\\function.py\u001b[0m in \u001b[0;36m__call__\u001b[1;34m(self, *args, **kwargs)\u001b[0m\n\u001b[0;32m   2827\u001b[0m     \u001b[1;32mwith\u001b[0m \u001b[0mself\u001b[0m\u001b[1;33m.\u001b[0m\u001b[0m_lock\u001b[0m\u001b[1;33m:\u001b[0m\u001b[1;33m\u001b[0m\u001b[1;33m\u001b[0m\u001b[0m\n\u001b[0;32m   2828\u001b[0m       \u001b[0mgraph_function\u001b[0m\u001b[1;33m,\u001b[0m \u001b[0margs\u001b[0m\u001b[1;33m,\u001b[0m \u001b[0mkwargs\u001b[0m \u001b[1;33m=\u001b[0m \u001b[0mself\u001b[0m\u001b[1;33m.\u001b[0m\u001b[0m_maybe_define_function\u001b[0m\u001b[1;33m(\u001b[0m\u001b[0margs\u001b[0m\u001b[1;33m,\u001b[0m \u001b[0mkwargs\u001b[0m\u001b[1;33m)\u001b[0m\u001b[1;33m\u001b[0m\u001b[1;33m\u001b[0m\u001b[0m\n\u001b[1;32m-> 2829\u001b[1;33m     \u001b[1;32mreturn\u001b[0m \u001b[0mgraph_function\u001b[0m\u001b[1;33m.\u001b[0m\u001b[0m_filtered_call\u001b[0m\u001b[1;33m(\u001b[0m\u001b[0margs\u001b[0m\u001b[1;33m,\u001b[0m \u001b[0mkwargs\u001b[0m\u001b[1;33m)\u001b[0m  \u001b[1;31m# pylint: disable=protected-access\u001b[0m\u001b[1;33m\u001b[0m\u001b[1;33m\u001b[0m\u001b[0m\n\u001b[0m\u001b[0;32m   2830\u001b[0m \u001b[1;33m\u001b[0m\u001b[0m\n\u001b[0;32m   2831\u001b[0m   \u001b[1;33m@\u001b[0m\u001b[0mproperty\u001b[0m\u001b[1;33m\u001b[0m\u001b[1;33m\u001b[0m\u001b[0m\n",
      "\u001b[1;32m~\\anaconda3\\lib\\site-packages\\tensorflow\\python\\eager\\function.py\u001b[0m in \u001b[0;36m_filtered_call\u001b[1;34m(self, args, kwargs, cancellation_manager)\u001b[0m\n\u001b[0;32m   1846\u001b[0m                            resource_variable_ops.BaseResourceVariable))],\n\u001b[0;32m   1847\u001b[0m         \u001b[0mcaptured_inputs\u001b[0m\u001b[1;33m=\u001b[0m\u001b[0mself\u001b[0m\u001b[1;33m.\u001b[0m\u001b[0mcaptured_inputs\u001b[0m\u001b[1;33m,\u001b[0m\u001b[1;33m\u001b[0m\u001b[1;33m\u001b[0m\u001b[0m\n\u001b[1;32m-> 1848\u001b[1;33m         cancellation_manager=cancellation_manager)\n\u001b[0m\u001b[0;32m   1849\u001b[0m \u001b[1;33m\u001b[0m\u001b[0m\n\u001b[0;32m   1850\u001b[0m   \u001b[1;32mdef\u001b[0m \u001b[0m_call_flat\u001b[0m\u001b[1;33m(\u001b[0m\u001b[0mself\u001b[0m\u001b[1;33m,\u001b[0m \u001b[0margs\u001b[0m\u001b[1;33m,\u001b[0m \u001b[0mcaptured_inputs\u001b[0m\u001b[1;33m,\u001b[0m \u001b[0mcancellation_manager\u001b[0m\u001b[1;33m=\u001b[0m\u001b[1;32mNone\u001b[0m\u001b[1;33m)\u001b[0m\u001b[1;33m:\u001b[0m\u001b[1;33m\u001b[0m\u001b[1;33m\u001b[0m\u001b[0m\n",
      "\u001b[1;32m~\\anaconda3\\lib\\site-packages\\tensorflow\\python\\eager\\function.py\u001b[0m in \u001b[0;36m_call_flat\u001b[1;34m(self, args, captured_inputs, cancellation_manager)\u001b[0m\n\u001b[0;32m   1922\u001b[0m       \u001b[1;31m# No tape is watching; skip to running the function.\u001b[0m\u001b[1;33m\u001b[0m\u001b[1;33m\u001b[0m\u001b[1;33m\u001b[0m\u001b[0m\n\u001b[0;32m   1923\u001b[0m       return self._build_call_outputs(self._inference_function.call(\n\u001b[1;32m-> 1924\u001b[1;33m           ctx, args, cancellation_manager=cancellation_manager))\n\u001b[0m\u001b[0;32m   1925\u001b[0m     forward_backward = self._select_forward_and_backward_functions(\n\u001b[0;32m   1926\u001b[0m         \u001b[0margs\u001b[0m\u001b[1;33m,\u001b[0m\u001b[1;33m\u001b[0m\u001b[1;33m\u001b[0m\u001b[0m\n",
      "\u001b[1;32m~\\anaconda3\\lib\\site-packages\\tensorflow\\python\\eager\\function.py\u001b[0m in \u001b[0;36mcall\u001b[1;34m(self, ctx, args, cancellation_manager)\u001b[0m\n\u001b[0;32m    548\u001b[0m               \u001b[0minputs\u001b[0m\u001b[1;33m=\u001b[0m\u001b[0margs\u001b[0m\u001b[1;33m,\u001b[0m\u001b[1;33m\u001b[0m\u001b[1;33m\u001b[0m\u001b[0m\n\u001b[0;32m    549\u001b[0m               \u001b[0mattrs\u001b[0m\u001b[1;33m=\u001b[0m\u001b[0mattrs\u001b[0m\u001b[1;33m,\u001b[0m\u001b[1;33m\u001b[0m\u001b[1;33m\u001b[0m\u001b[0m\n\u001b[1;32m--> 550\u001b[1;33m               ctx=ctx)\n\u001b[0m\u001b[0;32m    551\u001b[0m         \u001b[1;32melse\u001b[0m\u001b[1;33m:\u001b[0m\u001b[1;33m\u001b[0m\u001b[1;33m\u001b[0m\u001b[0m\n\u001b[0;32m    552\u001b[0m           outputs = execute.execute_with_cancellation(\n",
      "\u001b[1;32m~\\anaconda3\\lib\\site-packages\\tensorflow\\python\\eager\\execute.py\u001b[0m in \u001b[0;36mquick_execute\u001b[1;34m(op_name, num_outputs, inputs, attrs, ctx, name)\u001b[0m\n\u001b[0;32m     58\u001b[0m     \u001b[0mctx\u001b[0m\u001b[1;33m.\u001b[0m\u001b[0mensure_initialized\u001b[0m\u001b[1;33m(\u001b[0m\u001b[1;33m)\u001b[0m\u001b[1;33m\u001b[0m\u001b[1;33m\u001b[0m\u001b[0m\n\u001b[0;32m     59\u001b[0m     tensors = pywrap_tfe.TFE_Py_Execute(ctx._handle, device_name, op_name,\n\u001b[1;32m---> 60\u001b[1;33m                                         inputs, attrs, num_outputs)\n\u001b[0m\u001b[0;32m     61\u001b[0m   \u001b[1;32mexcept\u001b[0m \u001b[0mcore\u001b[0m\u001b[1;33m.\u001b[0m\u001b[0m_NotOkStatusException\u001b[0m \u001b[1;32mas\u001b[0m \u001b[0me\u001b[0m\u001b[1;33m:\u001b[0m\u001b[1;33m\u001b[0m\u001b[1;33m\u001b[0m\u001b[0m\n\u001b[0;32m     62\u001b[0m     \u001b[1;32mif\u001b[0m \u001b[0mname\u001b[0m \u001b[1;32mis\u001b[0m \u001b[1;32mnot\u001b[0m \u001b[1;32mNone\u001b[0m\u001b[1;33m:\u001b[0m\u001b[1;33m\u001b[0m\u001b[1;33m\u001b[0m\u001b[0m\n",
      "\u001b[1;31mKeyboardInterrupt\u001b[0m: "
     ]
    }
   ],
   "source": [
    "val_bleu = 0\n",
    "for i in tqdm(range(bigram_val.shape[0])):\n",
    "    inp = bigram_val['input'].values[i]\n",
    "    out = bigram_val['output'].values[i]\n",
    "    pred = predict(inp, bigram_vec, bigram_index_to_word, gram = 'bi')\n",
    "    val_bleu += sentence_bleu([out], pred)\n",
    "\n",
    "train_bleu = 0\n",
    "for i in tqdm(range(bigram_train.shape[0])):\n",
    "    inp = bigram_train['input'].values[i];\n",
    "    out = bigram_train['output'].values[i]\n",
    "    pred = predict(inp, bigram_vec, bigram_index_to_word, gram = 'bi')\n",
    "    train_bleu += sentence_bleu([out], pred)\n",
    "\n",
    "test_bleu = 0\n",
    "for i in tqdm(range(bigram_test.shape[0])):\n",
    "    inp = bigram_test['input'].values[i]\n",
    "    out = bigram_test['output'].values[i]\n",
    "    pred = predict(inp, bigram_vec, bigram_index_to_word, gram = 'bi')\n",
    "    test_bleu += sentence_bleu([out], pred)\n",
    "    \n",
    "print('BLEU Score on train: ',train_bleu/bigram_train.shape[0])\n",
    "print('BLEU Score on val: ',val_bleu/bigram_val.shape[0])\n",
    "print('BLEU Score on test: ',test_bleu/bigram_test.shape[0])"
   ]
  },
  {
   "cell_type": "code",
   "execution_count": null,
   "metadata": {},
   "outputs": [],
   "source": []
  },
  {
   "cell_type": "markdown",
   "metadata": {},
   "source": [
    "<h3>1.3 TriGram</h3>"
   ]
  },
  {
   "cell_type": "code",
   "execution_count": 50,
   "metadata": {},
   "outputs": [],
   "source": [
    "vocab_size = len(bigram_vec.get_vocabulary())\n",
    "embedding_dim = 100\n",
    "lstm_size = 256\n",
    "max_len = 34"
   ]
  },
  {
   "cell_type": "code",
   "execution_count": 52,
   "metadata": {},
   "outputs": [
    {
     "name": "stdout",
     "output_type": "stream",
     "text": [
      "Epoch 1/50\n",
      "6909/6910 [============================>.] - ETA: 0s - loss: 0.7007\n",
      "Epoch 00001: val_loss improved from inf to 0.21410, saving model to seq2seq_trigram.h5\n",
      "6910/6910 [==============================] - 122s 18ms/step - loss: 0.7007 - val_loss: 0.2141\n",
      "Epoch 2/50\n",
      "6910/6910 [==============================] - ETA: 0s - loss: 0.1938\n",
      "Epoch 00002: val_loss improved from 0.21410 to 0.08815, saving model to seq2seq_trigram.h5\n",
      "6910/6910 [==============================] - 129s 19ms/step - loss: 0.1938 - val_loss: 0.0882\n",
      "Epoch 3/50\n",
      "6909/6910 [============================>.] - ETA: 0s - loss: 0.1176\n",
      "Epoch 00003: val_loss improved from 0.08815 to 0.06765, saving model to seq2seq_trigram.h5\n",
      "6910/6910 [==============================] - 129s 19ms/step - loss: 0.1176 - val_loss: 0.0676\n",
      "Epoch 4/50\n",
      "6910/6910 [==============================] - ETA: 0s - loss: 0.0948\n",
      "Epoch 00004: val_loss improved from 0.06765 to 0.05852, saving model to seq2seq_trigram.h5\n",
      "6910/6910 [==============================] - 130s 19ms/step - loss: 0.0948 - val_loss: 0.0585\n",
      "Epoch 5/50\n",
      "6908/6910 [============================>.] - ETA: 0s - loss: 0.0832\n",
      "Epoch 00005: val_loss improved from 0.05852 to 0.05359, saving model to seq2seq_trigram.h5\n",
      "6910/6910 [==============================] - 131s 19ms/step - loss: 0.0832 - val_loss: 0.0536\n",
      "Epoch 6/50\n",
      "6910/6910 [==============================] - ETA: 0s - loss: 0.0759\n",
      "Epoch 00006: val_loss improved from 0.05359 to 0.05043, saving model to seq2seq_trigram.h5\n",
      "6910/6910 [==============================] - 135s 19ms/step - loss: 0.0759 - val_loss: 0.0504\n",
      "Epoch 7/50\n",
      "6910/6910 [==============================] - ETA: 0s - loss: 0.0710\n",
      "Epoch 00007: val_loss improved from 0.05043 to 0.04756, saving model to seq2seq_trigram.h5\n",
      "6910/6910 [==============================] - 134s 19ms/step - loss: 0.0710 - val_loss: 0.0476\n",
      "Epoch 8/50\n",
      "6910/6910 [==============================] - ETA: 0s - loss: 0.0671\n",
      "Epoch 00008: val_loss improved from 0.04756 to 0.04655, saving model to seq2seq_trigram.h5\n",
      "6910/6910 [==============================] - 134s 19ms/step - loss: 0.0671 - val_loss: 0.0465\n",
      "Epoch 9/50\n",
      "6910/6910 [==============================] - ETA: 0s - loss: 0.0641\n",
      "Epoch 00009: val_loss improved from 0.04655 to 0.04472, saving model to seq2seq_trigram.h5\n",
      "6910/6910 [==============================] - 135s 20ms/step - loss: 0.0641 - val_loss: 0.0447\n",
      "Epoch 10/50\n",
      "6910/6910 [==============================] - ETA: 0s - loss: 0.0617\n",
      "Epoch 00010: val_loss improved from 0.04472 to 0.04360, saving model to seq2seq_trigram.h5\n",
      "6910/6910 [==============================] - 134s 19ms/step - loss: 0.0617 - val_loss: 0.0436\n",
      "Epoch 11/50\n",
      "6910/6910 [==============================] - ETA: 0s - loss: 0.0595\n",
      "Epoch 00011: val_loss improved from 0.04360 to 0.04321, saving model to seq2seq_trigram.h5\n",
      "6910/6910 [==============================] - 136s 20ms/step - loss: 0.0595 - val_loss: 0.0432\n",
      "Epoch 12/50\n",
      "6910/6910 [==============================] - ETA: 0s - loss: 0.0579\n",
      "Epoch 00012: val_loss improved from 0.04321 to 0.04224, saving model to seq2seq_trigram.h5\n",
      "6910/6910 [==============================] - 137s 20ms/step - loss: 0.0579 - val_loss: 0.0422\n",
      "Epoch 13/50\n",
      "6910/6910 [==============================] - ETA: 0s - loss: 0.0564\n",
      "Epoch 00013: val_loss improved from 0.04224 to 0.04159, saving model to seq2seq_trigram.h5\n",
      "6910/6910 [==============================] - 136s 20ms/step - loss: 0.0564 - val_loss: 0.0416\n",
      "Epoch 14/50\n",
      "6910/6910 [==============================] - ETA: 0s - loss: 0.0550\n",
      "Epoch 00014: val_loss improved from 0.04159 to 0.04106, saving model to seq2seq_trigram.h5\n",
      "6910/6910 [==============================] - 137s 20ms/step - loss: 0.0550 - val_loss: 0.0411\n",
      "Epoch 15/50\n",
      "6910/6910 [==============================] - ETA: 0s - loss: 0.0538\n",
      "Epoch 00015: val_loss improved from 0.04106 to 0.04039, saving model to seq2seq_trigram.h5\n",
      "6910/6910 [==============================] - 137s 20ms/step - loss: 0.0538 - val_loss: 0.0404\n",
      "Epoch 16/50\n",
      "6910/6910 [==============================] - ETA: 0s - loss: 0.0528\n",
      "Epoch 00016: val_loss improved from 0.04039 to 0.04007, saving model to seq2seq_trigram.h5\n",
      "6910/6910 [==============================] - 136s 20ms/step - loss: 0.0528 - val_loss: 0.0401\n",
      "Epoch 17/50\n",
      "6910/6910 [==============================] - ETA: 0s - loss: 0.0519\n",
      "Epoch 00017: val_loss improved from 0.04007 to 0.03975, saving model to seq2seq_trigram.h5\n",
      "6910/6910 [==============================] - 137s 20ms/step - loss: 0.0519 - val_loss: 0.0398\n",
      "Epoch 18/50\n",
      "6910/6910 [==============================] - ETA: 0s - loss: 0.0510\n",
      "Epoch 00018: val_loss improved from 0.03975 to 0.03891, saving model to seq2seq_trigram.h5\n",
      "6910/6910 [==============================] - 137s 20ms/step - loss: 0.0510 - val_loss: 0.0389\n",
      "Epoch 19/50\n",
      "6910/6910 [==============================] - ETA: 0s - loss: 0.0501\n",
      "Epoch 00019: val_loss improved from 0.03891 to 0.03879, saving model to seq2seq_trigram.h5\n",
      "6910/6910 [==============================] - 137s 20ms/step - loss: 0.0501 - val_loss: 0.0388\n",
      "Epoch 20/50\n",
      "6910/6910 [==============================] - ETA: 0s - loss: 0.0494\n",
      "Epoch 00020: val_loss improved from 0.03879 to 0.03860, saving model to seq2seq_trigram.h5\n",
      "6910/6910 [==============================] - 137s 20ms/step - loss: 0.0494 - val_loss: 0.0386\n",
      "Epoch 21/50\n",
      "6910/6910 [==============================] - ETA: 0s - loss: 0.0488\n",
      "Epoch 00021: val_loss improved from 0.03860 to 0.03802, saving model to seq2seq_trigram.h5\n",
      "6910/6910 [==============================] - 137s 20ms/step - loss: 0.0488 - val_loss: 0.0380\n",
      "Epoch 22/50\n",
      "6910/6910 [==============================] - ETA: 0s - loss: 0.0481\n",
      "Epoch 00022: val_loss improved from 0.03802 to 0.03792, saving model to seq2seq_trigram.h5\n",
      "6910/6910 [==============================] - 138s 20ms/step - loss: 0.0481 - val_loss: 0.0379\n",
      "Epoch 23/50\n",
      "6910/6910 [==============================] - ETA: 0s - loss: 0.0475\n",
      "Epoch 00023: val_loss improved from 0.03792 to 0.03753, saving model to seq2seq_trigram.h5\n",
      "6910/6910 [==============================] - 137s 20ms/step - loss: 0.0475 - val_loss: 0.0375\n",
      "Epoch 24/50\n",
      "6910/6910 [==============================] - ETA: 0s - loss: 0.0470- ETA: 0s - loss: 0.04\n",
      "Epoch 00024: val_loss did not improve from 0.03753\n",
      "6910/6910 [==============================] - 139s 20ms/step - loss: 0.0470 - val_loss: 0.0377\n",
      "Epoch 25/50\n",
      "6910/6910 [==============================] - ETA: 0s - loss: 0.0464\n",
      "Epoch 00025: val_loss improved from 0.03753 to 0.03730, saving model to seq2seq_trigram.h5\n",
      "6910/6910 [==============================] - 139s 20ms/step - loss: 0.0464 - val_loss: 0.0373\n",
      "Epoch 26/50\n",
      "6910/6910 [==============================] - ETA: 0s - loss: 0.0459\n",
      "Epoch 00026: val_loss did not improve from 0.03730\n",
      "6910/6910 [==============================] - 138s 20ms/step - loss: 0.0459 - val_loss: 0.0373\n",
      "Epoch 27/50\n",
      "6910/6910 [==============================] - ETA: 0s - loss: 0.0455\n",
      "Epoch 00027: val_loss improved from 0.03730 to 0.03691, saving model to seq2seq_trigram.h5\n",
      "6910/6910 [==============================] - 136s 20ms/step - loss: 0.0455 - val_loss: 0.0369\n",
      "Epoch 28/50\n",
      "6910/6910 [==============================] - ETA: 0s - loss: 0.0450\n",
      "Epoch 00028: val_loss did not improve from 0.03691\n",
      "6910/6910 [==============================] - 136s 20ms/step - loss: 0.0450 - val_loss: 0.0370\n",
      "Epoch 29/50\n",
      "6910/6910 [==============================] - ETA: 0s - loss: 0.0447\n",
      "Epoch 00029: val_loss improved from 0.03691 to 0.03646, saving model to seq2seq_trigram.h5\n",
      "6910/6910 [==============================] - 137s 20ms/step - loss: 0.0447 - val_loss: 0.0365\n",
      "Epoch 30/50\n",
      "6910/6910 [==============================] - ETA: 0s - loss: 0.0443\n",
      "Epoch 00030: val_loss improved from 0.03646 to 0.03634, saving model to seq2seq_trigram.h5\n",
      "6910/6910 [==============================] - 137s 20ms/step - loss: 0.0443 - val_loss: 0.0363\n",
      "Epoch 31/50\n",
      "6910/6910 [==============================] - ETA: 0s - loss: 0.0439\n",
      "Epoch 00031: val_loss improved from 0.03634 to 0.03623, saving model to seq2seq_trigram.h5\n",
      "6910/6910 [==============================] - 139s 20ms/step - loss: 0.0439 - val_loss: 0.0362\n",
      "Epoch 32/50\n",
      "6910/6910 [==============================] - ETA: 0s - loss: 0.0435\n",
      "Epoch 00032: val_loss did not improve from 0.03623\n",
      "6910/6910 [==============================] - 137s 20ms/step - loss: 0.0435 - val_loss: 0.0363\n"
     ]
    },
    {
     "name": "stdout",
     "output_type": "stream",
     "text": [
      "Epoch 33/50\n",
      "6910/6910 [==============================] - ETA: 0s - loss: 0.0432\n",
      "Epoch 00033: val_loss improved from 0.03623 to 0.03611, saving model to seq2seq_trigram.h5\n",
      "6910/6910 [==============================] - 137s 20ms/step - loss: 0.0432 - val_loss: 0.0361\n",
      "Epoch 34/50\n",
      "6910/6910 [==============================] - ETA: 0s - loss: 0.0429\n",
      "Epoch 00034: val_loss improved from 0.03611 to 0.03586, saving model to seq2seq_trigram.h5\n",
      "6910/6910 [==============================] - 137s 20ms/step - loss: 0.0429 - val_loss: 0.0359\n",
      "Epoch 35/50\n",
      "6910/6910 [==============================] - ETA: 0s - loss: 0.0425\n",
      "Epoch 00035: val_loss did not improve from 0.03586\n",
      "6910/6910 [==============================] - 138s 20ms/step - loss: 0.0425 - val_loss: 0.0362\n",
      "Epoch 36/50\n",
      "6910/6910 [==============================] - ETA: 0s - loss: 0.0423\n",
      "Epoch 00036: val_loss did not improve from 0.03586\n",
      "6910/6910 [==============================] - 138s 20ms/step - loss: 0.0423 - val_loss: 0.0359\n",
      "Epoch 37/50\n",
      "6910/6910 [==============================] - ETA: 0s - loss: 0.0420\n",
      "Epoch 00037: val_loss did not improve from 0.03586\n",
      "\n",
      "Epoch 00037: ReduceLROnPlateau reducing learning rate to 0.00010000000474974513.\n",
      "6910/6910 [==============================] - 137s 20ms/step - loss: 0.0420 - val_loss: 0.0359\n",
      "Epoch 38/50\n",
      "6910/6910 [==============================] - ETA: 0s - loss: 0.0363\n",
      "Epoch 00038: val_loss improved from 0.03586 to 0.03275, saving model to seq2seq_trigram.h5\n",
      "6910/6910 [==============================] - 137s 20ms/step - loss: 0.0363 - val_loss: 0.0327\n",
      "Epoch 39/50\n",
      "6910/6910 [==============================] - ETA: 0s - loss: 0.0346\n",
      "Epoch 00039: val_loss improved from 0.03275 to 0.03238, saving model to seq2seq_trigram.h5\n",
      "6910/6910 [==============================] - 137s 20ms/step - loss: 0.0346 - val_loss: 0.0324\n",
      "Epoch 40/50\n",
      "6910/6910 [==============================] - ETA: 0s - loss: 0.0339\n",
      "Epoch 00040: val_loss improved from 0.03238 to 0.03222, saving model to seq2seq_trigram.h5\n",
      "6910/6910 [==============================] - 138s 20ms/step - loss: 0.0339 - val_loss: 0.0322\n",
      "Epoch 41/50\n",
      "6910/6910 [==============================] - ETA: 0s - loss: 0.0336\n",
      "Epoch 00041: val_loss improved from 0.03222 to 0.03208, saving model to seq2seq_trigram.h5\n",
      "6910/6910 [==============================] - 138s 20ms/step - loss: 0.0336 - val_loss: 0.0321\n",
      "Epoch 42/50\n",
      "6910/6910 [==============================] - ETA: 0s - loss: 0.0333\n",
      "Epoch 00042: val_loss improved from 0.03208 to 0.03205, saving model to seq2seq_trigram.h5\n",
      "6910/6910 [==============================] - 136s 20ms/step - loss: 0.0333 - val_loss: 0.0321\n",
      "Epoch 43/50\n",
      "6910/6910 [==============================] - ETA: 0s - loss: 0.0331\n",
      "Epoch 00043: val_loss did not improve from 0.03205\n",
      "6910/6910 [==============================] - 136s 20ms/step - loss: 0.0331 - val_loss: 0.0321\n",
      "Epoch 44/50\n",
      "6910/6910 [==============================] - ETA: 0s - loss: 0.0329\n",
      "Epoch 00044: val_loss improved from 0.03205 to 0.03197, saving model to seq2seq_trigram.h5\n",
      "6910/6910 [==============================] - 139s 20ms/step - loss: 0.0329 - val_loss: 0.0320\n",
      "Epoch 45/50\n",
      "6910/6910 [==============================] - ETA: 0s - loss: 0.0327\n",
      "Epoch 00045: val_loss improved from 0.03197 to 0.03190, saving model to seq2seq_trigram.h5\n",
      "6910/6910 [==============================] - 138s 20ms/step - loss: 0.0327 - val_loss: 0.0319\n",
      "Epoch 46/50\n",
      "6910/6910 [==============================] - ETA: 0s - loss: 0.0326\n",
      "Epoch 00046: val_loss did not improve from 0.03190\n",
      "6910/6910 [==============================] - 134s 19ms/step - loss: 0.0326 - val_loss: 0.0319\n",
      "Epoch 47/50\n",
      "6910/6910 [==============================] - ETA: 0s - loss: 0.0324\n",
      "Epoch 00047: val_loss did not improve from 0.03190\n",
      "\n",
      "Epoch 00047: ReduceLROnPlateau reducing learning rate to 1.0000000474974514e-05.\n",
      "6910/6910 [==============================] - 135s 20ms/step - loss: 0.0324 - val_loss: 0.0319\n",
      "Epoch 48/50\n",
      "6910/6910 [==============================] - ETA: 0s - loss: 0.0318\n",
      "Epoch 00048: val_loss improved from 0.03190 to 0.03173, saving model to seq2seq_trigram.h5\n",
      "6910/6910 [==============================] - 136s 20ms/step - loss: 0.0318 - val_loss: 0.0317\n",
      "Epoch 49/50\n",
      "6910/6910 [==============================] - ETA: 0s - loss: 0.0316\n",
      "Epoch 00049: val_loss improved from 0.03173 to 0.03169, saving model to seq2seq_trigram.h5\n",
      "6910/6910 [==============================] - 134s 19ms/step - loss: 0.0316 - val_loss: 0.0317\n",
      "Epoch 50/50\n",
      "6910/6910 [==============================] - ETA: 0s - loss: 0.0315\n",
      "Epoch 00050: val_loss improved from 0.03169 to 0.03166, saving model to seq2seq_trigram.h5\n",
      "6910/6910 [==============================] - 133s 19ms/step - loss: 0.0315 - val_loss: 0.0317\n"
     ]
    },
    {
     "data": {
      "text/plain": [
       "<tensorflow.python.keras.callbacks.History at 0x224099166c8>"
      ]
     },
     "execution_count": 52,
     "metadata": {},
     "output_type": "execute_result"
    }
   ],
   "source": [
    "model = Encoder_decoder(vocab_size, vocab_size, embedding_dim, lstm_size, max_len, max_len)\n",
    "model.compile(optimizer = 'Adam',loss = 'sparse_categorical_crossentropy')\n",
    "\n",
    "callbacks = [ModelCheckpoint('seq2seq_trigram.h5', save_best_only= True, verbose = 1),\n",
    "             EarlyStopping(patience = 5, verbose = 1), \n",
    "             ReduceLROnPlateau(patience = 3, verbose = 1)]\n",
    "\n",
    "model.fit(x = trigram_train_dataset, \n",
    "          steps_per_epoch = trigram_train.shape[0]//batch_size,\n",
    "          validation_data = trigram_val_dataset,\n",
    "          validation_steps = trigram_val.shape[0]//batch_size,\n",
    "          epochs = 50,\n",
    "          verbose = 1,\n",
    "          callbacks = callbacks)"
   ]
  },
  {
   "cell_type": "code",
   "execution_count": 59,
   "metadata": {},
   "outputs": [
    {
     "name": "stdout",
     "output_type": "stream",
     "text": [
      "Epoch 1/50\n",
      "6909/6910 [============================>.] - ETA: 0s - loss: 0.0315\n",
      "Epoch 00001: val_loss improved from inf to 0.03166, saving model to seq2seq_trigram.h5\n",
      "6910/6910 [==============================] - 123s 18ms/step - loss: 0.0315 - val_loss: 0.0317\n",
      "Epoch 2/50\n",
      "6908/6910 [============================>.] - ETA: 0s - loss: 0.0314\n",
      "Epoch 00002: val_loss improved from 0.03166 to 0.03165, saving model to seq2seq_trigram.h5\n",
      "6910/6910 [==============================] - 128s 19ms/step - loss: 0.0314 - val_loss: 0.0316\n",
      "Epoch 3/50\n",
      "6910/6910 [==============================] - ETA: 0s - loss: 0.0314\n",
      "Epoch 00003: val_loss did not improve from 0.03165\n",
      "6910/6910 [==============================] - 130s 19ms/step - loss: 0.0314 - val_loss: 0.0316\n",
      "Epoch 4/50\n",
      "6909/6910 [============================>.] - ETA: 0s - loss: 0.0315\n",
      "Epoch 00004: val_loss improved from 0.03165 to 0.03163, saving model to seq2seq_trigram.h5\n",
      "\n",
      "Epoch 00004: ReduceLROnPlateau reducing learning rate to 1.0000000656873453e-06.\n",
      "6910/6910 [==============================] - 131s 19ms/step - loss: 0.0315 - val_loss: 0.0316\n",
      "Epoch 5/50\n",
      "6909/6910 [============================>.] - ETA: 0s - loss: 0.0314\n",
      "Epoch 00005: val_loss improved from 0.03163 to 0.03161, saving model to seq2seq_trigram.h5\n",
      "6910/6910 [==============================] - 132s 19ms/step - loss: 0.0314 - val_loss: 0.0316\n",
      "Epoch 6/50\n",
      "6908/6910 [============================>.] - ETA: 0s - loss: 0.0313- ETA: 0s - loss: 0.0\n",
      "Epoch 00006: val_loss improved from 0.03161 to 0.03160, saving model to seq2seq_trigram.h5\n",
      "6910/6910 [==============================] - 130s 19ms/step - loss: 0.0313 - val_loss: 0.0316\n",
      "Epoch 7/50\n",
      "6909/6910 [============================>.] - ETA: 0s - loss: 0.0313\n",
      "Epoch 00007: val_loss improved from 0.03160 to 0.03159, saving model to seq2seq_trigram.h5\n",
      "\n",
      "Epoch 00007: ReduceLROnPlateau reducing learning rate to 1.0000001111620805e-07.\n",
      "6910/6910 [==============================] - 132s 19ms/step - loss: 0.0313 - val_loss: 0.0316\n",
      "Epoch 8/50\n",
      "6909/6910 [============================>.] - ETA: 0s - loss: 0.0313\n",
      "Epoch 00008: val_loss improved from 0.03159 to 0.03159, saving model to seq2seq_trigram.h5\n",
      "6910/6910 [==============================] - 133s 19ms/step - loss: 0.0313 - val_loss: 0.0316\n",
      "Epoch 9/50\n",
      "6910/6910 [==============================] - ETA: 0s - loss: 0.0313\n",
      "Epoch 00009: val_loss improved from 0.03159 to 0.03159, saving model to seq2seq_trigram.h5\n",
      "6910/6910 [==============================] - 131s 19ms/step - loss: 0.0313 - val_loss: 0.0316\n",
      "Epoch 10/50\n",
      "6910/6910 [==============================] - ETA: 0s - loss: 0.0313\n",
      "Epoch 00010: val_loss improved from 0.03159 to 0.03159, saving model to seq2seq_trigram.h5\n",
      "\n",
      "Epoch 00010: ReduceLROnPlateau reducing learning rate to 1.000000082740371e-08.\n",
      "6910/6910 [==============================] - 130s 19ms/step - loss: 0.0313 - val_loss: 0.0316\n",
      "Epoch 11/50\n",
      "6910/6910 [==============================] - ETA: 0s - loss: 0.0314\n",
      "Epoch 00011: val_loss improved from 0.03159 to 0.03159, saving model to seq2seq_trigram.h5\n",
      "6910/6910 [==============================] - 133s 19ms/step - loss: 0.0314 - val_loss: 0.0316\n",
      "Epoch 12/50\n",
      "6909/6910 [============================>.] - ETA: 0s - loss: 0.0314\n",
      "Epoch 00012: val_loss improved from 0.03159 to 0.03159, saving model to seq2seq_trigram.h5\n",
      "6910/6910 [==============================] - 133s 19ms/step - loss: 0.0314 - val_loss: 0.0316\n",
      "Epoch 13/50\n",
      "6908/6910 [============================>.] - ETA: 0s - loss: 0.0313\n",
      "Epoch 00013: val_loss improved from 0.03159 to 0.03159, saving model to seq2seq_trigram.h5\n",
      "\n",
      "Epoch 00013: ReduceLROnPlateau reducing learning rate to 1.000000082740371e-09.\n",
      "6910/6910 [==============================] - 131s 19ms/step - loss: 0.0313 - val_loss: 0.0316\n",
      "Epoch 14/50\n",
      "6909/6910 [============================>.] - ETA: 0s - loss: 0.0313\n",
      "Epoch 00014: val_loss did not improve from 0.03159\n",
      "6910/6910 [==============================] - 132s 19ms/step - loss: 0.0313 - val_loss: 0.0316\n",
      "Epoch 15/50\n",
      "6908/6910 [============================>.] - ETA: 0s - loss: 0.0314\n",
      "Epoch 00015: val_loss improved from 0.03159 to 0.03159, saving model to seq2seq_trigram.h5\n",
      "6910/6910 [==============================] - 130s 19ms/step - loss: 0.0314 - val_loss: 0.0316\n",
      "Epoch 16/50\n",
      "6910/6910 [==============================] - ETA: 0s - loss: 0.0313\n",
      "Epoch 00016: val_loss improved from 0.03159 to 0.03159, saving model to seq2seq_trigram.h5\n",
      "\n",
      "Epoch 00016: ReduceLROnPlateau reducing learning rate to 1.000000082740371e-10.\n",
      "6910/6910 [==============================] - 132s 19ms/step - loss: 0.0313 - val_loss: 0.0316\n",
      "Epoch 17/50\n",
      "6910/6910 [==============================] - ETA: 0s - loss: 0.0313\n",
      "Epoch 00017: val_loss improved from 0.03159 to 0.03159, saving model to seq2seq_trigram.h5\n",
      "6910/6910 [==============================] - 127s 18ms/step - loss: 0.0313 - val_loss: 0.0316\n",
      "Epoch 18/50\n",
      "6909/6910 [============================>.] - ETA: 0s - loss: 0.0313\n",
      "Epoch 00018: val_loss did not improve from 0.03159\n",
      "6910/6910 [==============================] - 127s 18ms/step - loss: 0.0313 - val_loss: 0.0316\n",
      "Epoch 19/50\n",
      "6909/6910 [============================>.] - ETA: 0s - loss: 0.0313\n",
      "Epoch 00019: val_loss did not improve from 0.03159\n",
      "\n",
      "Epoch 00019: ReduceLROnPlateau reducing learning rate to 1.000000082740371e-11.\n",
      "6910/6910 [==============================] - 128s 19ms/step - loss: 0.0313 - val_loss: 0.0316\n",
      "Epoch 20/50\n",
      "6908/6910 [============================>.] - ETA: 0s - loss: 0.0314\n",
      "Epoch 00020: val_loss did not improve from 0.03159\n",
      "6910/6910 [==============================] - 128s 19ms/step - loss: 0.0314 - val_loss: 0.0316\n",
      "Epoch 21/50\n",
      "6909/6910 [============================>.] - ETA: 0s - loss: 0.0314\n",
      "Epoch 00021: val_loss did not improve from 0.03159\n",
      "6910/6910 [==============================] - 128s 19ms/step - loss: 0.0314 - val_loss: 0.0316\n",
      "Epoch 22/50\n",
      "6910/6910 [==============================] - ETA: 0s - loss: 0.0313\n",
      "Epoch 00022: val_loss did not improve from 0.03159\n",
      "\n",
      "Epoch 00022: ReduceLROnPlateau reducing learning rate to 1.000000082740371e-12.\n",
      "6910/6910 [==============================] - 129s 19ms/step - loss: 0.0313 - val_loss: 0.0316\n",
      "Epoch 00022: early stopping\n"
     ]
    },
    {
     "data": {
      "text/plain": [
       "<tensorflow.python.keras.callbacks.History at 0x224047a6788>"
      ]
     },
     "execution_count": 59,
     "metadata": {},
     "output_type": "execute_result"
    }
   ],
   "source": [
    "from tensorflow.keras.optimizers import Adam\n",
    "model = Encoder_decoder(vocab_size, vocab_size, embedding_dim, lstm_size, max_len, max_len)\n",
    "model.compile(optimizer = Adam(1.0000000474974514e-05),loss = 'sparse_categorical_crossentropy')\n",
    "\n",
    "callbacks = [ModelCheckpoint('seq2seq_trigram.h5', save_best_only= True, verbose = 1),\n",
    "             EarlyStopping(patience = 5, verbose = 1), \n",
    "             ReduceLROnPlateau(patience = 3, verbose = 1)]\n",
    "\n",
    "model.build(input_shape = (None, batch_size, max_len))\n",
    "model.load_weights('seq2seq_trigram.h5')\n",
    "\n",
    "model.fit(x = trigram_train_dataset, \n",
    "          steps_per_epoch = trigram_train.shape[0]//batch_size,\n",
    "          validation_data = trigram_val_dataset,\n",
    "          validation_steps = trigram_val.shape[0]//batch_size,\n",
    "          epochs = 50,\n",
    "          verbose = 1,\n",
    "          callbacks = callbacks)"
   ]
  },
  {
   "cell_type": "code",
   "execution_count": 67,
   "metadata": {},
   "outputs": [],
   "source": [
    "pred_model = pred_Encoder_decoder(vocab_size, vocab_size, embedding_dim, lstm_size, max_len, max_len, trigram_word_to_index)\n",
    "pred_model.compile(optimizer = 'Adam', loss = 'sparse_categorical_crossentropy')\n",
    "pred_model.build(input_shape=(None, 1, max_len))\n",
    "pred_model.load_weights('seq2seq_trigram.h5')"
   ]
  },
  {
   "cell_type": "code",
   "execution_count": 68,
   "metadata": {},
   "outputs": [
    {
     "name": "stdout",
     "output_type": "stream",
     "text": [
      "input :  woman oAf him\n",
      "predicted output :  woman of him\n",
      "actual output : woman of him\n"
     ]
    }
   ],
   "source": [
    "sentence = trigram_train['input'].values[4]\n",
    "print('input : ', sentence)\n",
    "result = predict(sentence, trigram_vec, trigram_index_to_word, gram = 'tri')\n",
    "print('predicted output : ',result)\n",
    "print('actual output :', trigram_train['output'].values[4])"
   ]
  },
  {
   "cell_type": "code",
   "execution_count": 72,
   "metadata": {},
   "outputs": [
    {
     "name": "stdout",
     "output_type": "stream",
     "text": [
      "input :  endurXe a collision\n",
      "predicted output :  endure a collision\n",
      "actual output : endure a collision\n"
     ]
    }
   ],
   "source": [
    "sentence = trigram_train['input'].values[7]\n",
    "print('input : ', sentence)\n",
    "result = predict(sentence, trigram_vec, trigram_index_to_word, gram = 'tri')\n",
    "print('predicted output : ',result)\n",
    "print('actual output :', trigram_train['output'].values[7])"
   ]
  },
  {
   "cell_type": "code",
   "execution_count": 75,
   "metadata": {},
   "outputs": [
    {
     "name": "stdout",
     "output_type": "stream",
     "text": [
      "input :  marshals sitti g on\n",
      "predicted output :  marshals sitting on\n",
      "actual output : marshals sitting on\n"
     ]
    }
   ],
   "source": [
    "sentence = trigram_train['input'].values[10]\n",
    "print('input : ', sentence)\n",
    "result = predict(sentence, trigram_vec, trigram_index_to_word, gram = 'tri')\n",
    "print('predicted output : ',result)\n",
    "print('actual output :', trigram_train['output'].values[10])"
   ]
  },
  {
   "cell_type": "code",
   "execution_count": null,
   "metadata": {},
   "outputs": [],
   "source": [
    "val_bleu = 0\n",
    "for i in tqdm(range(trigram_val.shape[0])):\n",
    "    inp = trigram_val['input'].values[i]\n",
    "    out = trigram_val['output'].values[i]\n",
    "    pred = predict(inp, trigram_vec, trigram_index_to_word, gram = 'tri')\n",
    "    val_bleu += sentence_bleu([out], pred)\n",
    "\n",
    "train_bleu = 0\n",
    "for i in tqdm(range(train.shape[0])):\n",
    "    inp = trigram_train['input'].values[i];\n",
    "    out = trigram_train['output'].values[i]\n",
    "    pred = predict(inp, trigram_vec, trigram_index_to_word, gram = 'tri')\n",
    "    train_bleu += sentence_bleu([out], pred)\n",
    "\n",
    "test_bleu = 0\n",
    "for i in tqdm(range(test.shape[0])):\n",
    "    inp = trigram_test['input'].values[i]\n",
    "    out = trigram_test['output'].values[i]\n",
    "    pred = predict(inp, trigram_vec, trigram_index_to_word, gram = 'tri')\n",
    "    test_bleu += sentence_bleu([out], pred)\n",
    "    \n",
    "print('BLEU Score on train: ',train_bleu/trigram_train.shape[0])\n",
    "print('BLEU Score on val: ',val_bleu/trigram_val.shape[0])\n",
    "print('BLEU Score on test: ',test_bleu/trigram_test.shape[0])"
   ]
  },
  {
   "cell_type": "markdown",
   "metadata": {},
   "source": [
    "<h2>2. Seq2Seq with Attention Mechanism</h2>"
   ]
  },
  {
   "cell_type": "code",
   "execution_count": 77,
   "metadata": {},
   "outputs": [],
   "source": [
    "class Encoder(tf.keras.layers.Layer):\n",
    "    def __init__(self,inp_vocab_size,embedding_size,lstm_size,input_length):\n",
    "        super(Encoder, self).__init__()\n",
    "        self.lstm_size = lstm_size\n",
    "        #Initialize Embedding layer\n",
    "        self.enc_embed = Embedding(input_dim = inp_vocab_size, output_dim = embedding_size)\n",
    "        #Intialize Encoder LSTM layer\n",
    "        self.enc_lstm = LSTM(lstm_size, return_sequences = True, return_state = True, dropout = 0.4)\n",
    "        \n",
    "    def call(self,input_sequence,states):\n",
    "        embedding = self.enc_embed(input_sequence)\n",
    "        output_state, enc_h, enc_c = self.enc_lstm(embedding, initial_state = states)\n",
    "        return output_state, enc_h, enc_c\n",
    "    \n",
    "    def initialize_states(self,batch_size):\n",
    "        return [tf.zeros((batch_size, self.lstm_size)), tf.zeros((batch_size, self.lstm_size))]\n",
    "\n",
    "class Attention(tf.keras.layers.Layer):\n",
    "\n",
    "    def __init__(self,scoring_function, att_units):\n",
    "        super(Attention, self).__init__()\n",
    "        self.scoring_function = scoring_function\n",
    "        if scoring_function == 'dot':\n",
    "            self.dot = Dot(axes = (1, 2))\n",
    "        elif scoring_function == 'general':\n",
    "          # Intialize variables needed for General score function here\n",
    "            self.W = Dense(att_units)\n",
    "            self.dot = Dot(axes = (1, 2))\n",
    "        elif scoring_function == 'concat':\n",
    "          # Intialize variables needed for Concat score function here\n",
    "            self.W1 = Dense(att_units)\n",
    "            self.W2 = Dense(att_units)\n",
    "            self.V = Dense(1)\n",
    "    def call(self,decoder_hidden_state,encoder_output):\n",
    "    \n",
    "        decoder_hidden_state = tf.expand_dims(decoder_hidden_state, 1)\n",
    "        \n",
    "        if self.scoring_function == 'dot':\n",
    "            # Implement Dot score function here\n",
    "            score = tf.transpose(self.dot([tf.transpose(decoder_hidden_state, (0, 2, 1)), encoder_output]), (0, 2,1))\n",
    "            \n",
    "        elif self.scoring_function == 'general':\n",
    "            # Implement General score function here\n",
    "            mul = self.W(encoder_output)\n",
    "            score = tf.transpose(self.dot([tf.transpose(decoder_hidden_state, (0, 2, 1)), mul]), (0, 2,1))\n",
    "            \n",
    "        elif self.scoring_function == 'concat':\n",
    "            # Implement General score function here\n",
    "            inter = self.W1(decoder_hidden_state) + self.W2(encoder_output)\n",
    "            tan = tf.nn.tanh(inter)\n",
    "            score = self.V(tan)\n",
    "        attention_weights = tf.nn.softmax(score, axis =1)\n",
    "        context_vector = attention_weights * encoder_output\n",
    "        context_vector = tf.reduce_sum(context_vector, axis=1)\n",
    "        return context_vector, attention_weights\n",
    "\n",
    "class OneStepDecoder(tf.keras.layers.Layer):\n",
    "    def __init__(self,tar_vocab_size, embedding_dim, input_length, dec_units ,score_fun ,att_units):\n",
    "        super(OneStepDecoder, self).__init__()\n",
    "      # Initialize decoder embedding layer, LSTM and any other objects needed\n",
    "        self.embed_dec = Embedding(input_dim = tar_vocab_size, output_dim = embedding_dim)\n",
    "        self.lstm = LSTM(dec_units, return_sequences = True, return_state = True, dropout = 0.4)\n",
    "        self.attention = Attention(scoring_function = score_fun, att_units = att_units)\n",
    "        self.fc = Dense(tar_vocab_size)\n",
    "    \n",
    "    def call(self,input_to_decoder, encoder_output, state_h,state_c):\n",
    "        embed = self.embed_dec(input_to_decoder)\n",
    "        context_vect, attention_weights = self.attention(state_h, encoder_output)    \n",
    "        final_inp = tf.concat([tf.expand_dims(context_vect, 1), embed], axis = -1)\n",
    "        out, dec_h, dec_c = self.lstm(final_inp, [state_h, state_c])\n",
    "        out = tf.reshape(out, (-1, out.shape[2]))\n",
    "        output = self.fc(out)\n",
    "        output = Dropout(0.5)(output)\n",
    "        return output, dec_h, dec_c, attention_weights, context_vect\n",
    "\n",
    "class encoder_decoder(tf.keras.Model):\n",
    "    def __init__(self, inp_vocab_size, out_vocab_size, embedding_dim, enc_units, dec_units, max_len_inp, max_len_out, score_fun, att_units, batch_size):\n",
    "        #Intialize objects from encoder decoder\n",
    "        super(encoder_decoder, self).__init__()\n",
    "        self.encoder = Encoder(inp_vocab_size, embedding_dim, enc_units, max_len_inp)\n",
    "        self.one_step_decoder = OneStepDecoder(out_vocab_size, embedding_dim, max_len_out, dec_units ,score_fun ,att_units)\n",
    "        self.batch_size = batch_size\n",
    "    \n",
    "    def call(self, data):\n",
    "        enc_inp, dec_inp = data[0], data[1]\n",
    "        initial_state = self.encoder.initialize_states(self.batch_size)\n",
    "        enc_output, enc_h, enc_c = self.encoder(enc_inp, initial_state)\n",
    "        all_outputs = tf.TensorArray(dtype = tf.float32, size= max_len)\n",
    "        \n",
    "        dec_h = enc_h\n",
    "        dec_c = enc_c\n",
    "        for timestep in range(max_len):\n",
    "            # Call onestepdecoder for each token in decoder_input\n",
    "            output, dec_h, dec_c, _, _ = self.one_step_decoder(dec_inp[:, timestep:timestep+1], \n",
    "                                                               enc_output, \n",
    "                                                               dec_h,\n",
    "                                                               dec_c)\n",
    "            # Store the output in tensorarray\n",
    "            all_outputs = all_outputs.write(timestep, output)\n",
    "        # Return the tensor array\n",
    "        all_outputs = tf.transpose(all_outputs.stack(), (1, 0, 2))\n",
    "        # return the decoder output\n",
    "        return all_outputs\n",
    "\n",
    "class pred_Encoder_decoder(tf.keras.Model): \n",
    "    def __init__(self, inp_vocab_size, out_vocab_size, embedding_dim, enc_units, dec_units, max_len_ita, max_len_eng, score_fun, att_units, word_to_index):\n",
    "        #Intialize objects from encoder decoder\n",
    "        super(pred_Encoder_decoder, self).__init__()\n",
    "        self.encoder = Encoder(inp_vocab_size, embedding_dim, enc_units, max_len_ita)\n",
    "        self.one_step_decoder = OneStepDecoder(out_vocab_size, embedding_dim, max_len_eng, dec_units ,score_fun ,att_units)\n",
    "        self.batch_size = batch_size\n",
    "        self.word_to_index = word_to_index\n",
    "\n",
    "    def call(self, params):\n",
    "        enc_inp = params[0]\n",
    "        initial_state = self.encoder.initialize_states(1)\n",
    "        output_state, enc_h, enc_c = self.encoder(enc_inp, initial_state)\n",
    "        pred = tf.expand_dims([self.word_to_index['<SOW>']], 0)\n",
    "        dec_h = enc_h\n",
    "        dec_c = enc_c\n",
    "        all_pred = []\n",
    "        all_attention = []\n",
    "        for t in range(max_len):  \n",
    "            output, dec_h,dec_c, attention, _ = self.one_step_decoder(pred, output_state, dec_h, dec_c)\n",
    "            pred = tf.argmax(output, axis = -1)\n",
    "            all_pred.append(pred)\n",
    "            pred = tf.expand_dims(pred, 0)\n",
    "            all_attention.append(attention)\n",
    "        return all_pred, all_attention"
   ]
  },
  {
   "cell_type": "code",
   "execution_count": 78,
   "metadata": {},
   "outputs": [],
   "source": [
    "loss_object = tf.keras.losses.SparseCategoricalCrossentropy(from_logits=True, reduction='none')\n",
    "def loss_function(real, pred):\n",
    "    mask = tf.math.logical_not(tf.math.equal(real, 0))\n",
    "    loss_ = loss_object(real, pred)\n",
    "    mask = tf.cast(mask, dtype=loss_.dtype)\n",
    "    loss_ *= mask\n",
    "    return tf.reduce_mean(loss_)"
   ]
  },
  {
   "cell_type": "code",
   "execution_count": 79,
   "metadata": {},
   "outputs": [],
   "source": [
    "def predict(seq, vectorizer, index_to_word, gram = 'uni'):\n",
    "    if gram =='uni':\n",
    "        seq = '<SOW> '+' '.join(list(seq))+' <EOW>'\n",
    "    else:\n",
    "        seq = '<SOW>*'+'*'.join(list(seq))+'*<EOW>'\n",
    "    seq = vectorizer([seq])\n",
    "    pred, attention_weights = pred_model.predict(tf.expand_dims(seq, 0))\n",
    "    output = []\n",
    "    for i in pred:\n",
    "        word = index_to_word[i[0]]\n",
    "        if word == '<EOW>':\n",
    "            break\n",
    "        output.append(word)\n",
    "    return ''.join(output), np.squeeze(np.squeeze(np.array(attention_weights), 1), -1)"
   ]
  },
  {
   "cell_type": "code",
   "execution_count": 80,
   "metadata": {},
   "outputs": [],
   "source": [
    "import matplotlib.pyplot as plt\n",
    "import matplotlib.ticker as ticker\n",
    "\n",
    "def plot_attention(attention, sentence, predicted_sentence):\n",
    "    fig = plt.figure(figsize=(10,10))\n",
    "    ax = fig.add_subplot(1, 1, 1)\n",
    "    ax.matshow(attention, cmap='viridis')\n",
    "\n",
    "    fontdict = {'fontsize': 14}\n",
    "\n",
    "    ax.set_xticklabels([''] + sentence, fontdict=fontdict, rotation=90)\n",
    "    ax.set_yticklabels([''] + predicted_sentence, fontdict=fontdict)\n",
    "\n",
    "    ax.xaxis.set_major_locator(ticker.MultipleLocator(1))\n",
    "    ax.yaxis.set_major_locator(ticker.MultipleLocator(1))\n",
    "\n",
    "    plt.show()"
   ]
  },
  {
   "cell_type": "markdown",
   "metadata": {},
   "source": [
    "<h3>2.1 UniGram </h3>"
   ]
  },
  {
   "cell_type": "code",
   "execution_count": 76,
   "metadata": {},
   "outputs": [],
   "source": [
    "lstm_size = 256\n",
    "embedding_dim = 100\n",
    "att_units = 256\n",
    "maxlen = 22"
   ]
  },
  {
   "cell_type": "code",
   "execution_count": 31,
   "metadata": {},
   "outputs": [
    {
     "name": "stdout",
     "output_type": "stream",
     "text": [
      "Epoch 1/50\n",
      "258/258 [==============================] - ETA: 0s - loss: 1.3239\n",
      "Epoch 00001: val_loss improved from inf to 0.96448, saving model to Attention_concat_lstm.h5\n",
      "258/258 [==============================] - 19s 74ms/step - loss: 1.3239 - val_loss: 0.9645\n",
      "Epoch 2/50\n",
      "258/258 [==============================] - ETA: 0s - loss: 1.1640\n",
      "Epoch 00002: val_loss improved from 0.96448 to 0.73190, saving model to Attention_concat_lstm.h5\n",
      "258/258 [==============================] - 13s 50ms/step - loss: 1.1640 - val_loss: 0.7319\n",
      "Epoch 3/50\n",
      "257/258 [============================>.] - ETA: 0s - loss: 1.0338\n",
      "Epoch 00003: val_loss improved from 0.73190 to 0.44536, saving model to Attention_concat_lstm.h5\n",
      "258/258 [==============================] - 13s 51ms/step - loss: 1.0337 - val_loss: 0.4454\n",
      "Epoch 4/50\n",
      "258/258 [==============================] - ETA: 0s - loss: 0.8934- ETA: \n",
      "Epoch 00004: val_loss improved from 0.44536 to 0.26591, saving model to Attention_concat_lstm.h5\n",
      "258/258 [==============================] - 13s 51ms/step - loss: 0.8934 - val_loss: 0.2659\n",
      "Epoch 5/50\n",
      "258/258 [==============================] - ETA: 0s - loss: 0.8349\n",
      "Epoch 00005: val_loss improved from 0.26591 to 0.21211, saving model to Attention_concat_lstm.h5\n",
      "258/258 [==============================] - 13s 51ms/step - loss: 0.8349 - val_loss: 0.2121\n",
      "Epoch 6/50\n",
      "258/258 [==============================] - ETA: 0s - loss: 0.8071\n",
      "Epoch 00006: val_loss improved from 0.21211 to 0.18196, saving model to Attention_concat_lstm.h5\n",
      "258/258 [==============================] - 14s 54ms/step - loss: 0.8071 - val_loss: 0.1820\n",
      "Epoch 7/50\n",
      "258/258 [==============================] - ETA: 0s - loss: 0.7956\n",
      "Epoch 00007: val_loss improved from 0.18196 to 0.16000, saving model to Attention_concat_lstm.h5\n",
      "258/258 [==============================] - 13s 52ms/step - loss: 0.7956 - val_loss: 0.1600\n",
      "Epoch 8/50\n",
      "257/258 [============================>.] - ETA: 0s - loss: 0.7887- ETA: 0s - l\n",
      "Epoch 00008: val_loss improved from 0.16000 to 0.15305, saving model to Attention_concat_lstm.h5\n",
      "258/258 [==============================] - 14s 52ms/step - loss: 0.7887 - val_loss: 0.1530\n",
      "Epoch 9/50\n",
      "258/258 [==============================] - ETA: 0s - loss: 0.7819\n",
      "Epoch 00009: val_loss improved from 0.15305 to 0.14978, saving model to Attention_concat_lstm.h5\n",
      "258/258 [==============================] - 14s 54ms/step - loss: 0.7819 - val_loss: 0.1498\n",
      "Epoch 10/50\n",
      "257/258 [============================>.] - ETA: 0s - loss: 0.7781\n",
      "Epoch 00010: val_loss improved from 0.14978 to 0.14204, saving model to Attention_concat_lstm.h5\n",
      "258/258 [==============================] - 14s 54ms/step - loss: 0.7782 - val_loss: 0.1420\n",
      "Epoch 11/50\n",
      "258/258 [==============================] - ETA: 0s - loss: 0.7725\n",
      "Epoch 00011: val_loss improved from 0.14204 to 0.13989, saving model to Attention_concat_lstm.h5\n",
      "258/258 [==============================] - 14s 53ms/step - loss: 0.7725 - val_loss: 0.1399\n",
      "Epoch 12/50\n",
      "258/258 [==============================] - ETA: 0s - loss: 0.7676\n",
      "Epoch 00012: val_loss improved from 0.13989 to 0.13404, saving model to Attention_concat_lstm.h5\n",
      "258/258 [==============================] - 14s 53ms/step - loss: 0.7676 - val_loss: 0.1340\n",
      "Epoch 13/50\n",
      "258/258 [==============================] - ETA: 0s - loss: 0.7644\n",
      "Epoch 00013: val_loss improved from 0.13404 to 0.12980, saving model to Attention_concat_lstm.h5\n",
      "258/258 [==============================] - 14s 54ms/step - loss: 0.7644 - val_loss: 0.1298\n",
      "Epoch 14/50\n",
      "258/258 [==============================] - ETA: 0s - loss: 0.7605\n",
      "Epoch 00014: val_loss improved from 0.12980 to 0.12613, saving model to Attention_concat_lstm.h5\n",
      "258/258 [==============================] - 14s 54ms/step - loss: 0.7605 - val_loss: 0.1261\n",
      "Epoch 15/50\n",
      "258/258 [==============================] - ETA: 0s - loss: 0.7610\n",
      "Epoch 00015: val_loss did not improve from 0.12613\n",
      "258/258 [==============================] - 14s 53ms/step - loss: 0.7610 - val_loss: 0.1295\n",
      "Epoch 16/50\n",
      "258/258 [==============================] - ETA: 0s - loss: 0.7585\n",
      "Epoch 00016: val_loss did not improve from 0.12613\n",
      "258/258 [==============================] - 14s 53ms/step - loss: 0.7585 - val_loss: 0.1265\n",
      "Epoch 17/50\n",
      "258/258 [==============================] - ETA: 0s - loss: 0.7560\n",
      "Epoch 00017: val_loss improved from 0.12613 to 0.12149, saving model to Attention_concat_lstm.h5\n",
      "258/258 [==============================] - 14s 53ms/step - loss: 0.7560 - val_loss: 0.1215\n",
      "Epoch 18/50\n",
      "258/258 [==============================] - ETA: 0s - loss: 0.7552\n",
      "Epoch 00018: val_loss improved from 0.12149 to 0.12073, saving model to Attention_concat_lstm.h5\n",
      "258/258 [==============================] - 14s 55ms/step - loss: 0.7552 - val_loss: 0.1207\n",
      "Epoch 19/50\n",
      "258/258 [==============================] - ETA: 0s - loss: 0.7534\n",
      "Epoch 00019: val_loss improved from 0.12073 to 0.11933, saving model to Attention_concat_lstm.h5\n",
      "258/258 [==============================] - 14s 55ms/step - loss: 0.7534 - val_loss: 0.1193\n",
      "Epoch 20/50\n",
      "258/258 [==============================] - ETA: 0s - loss: 0.7519\n",
      "Epoch 00020: val_loss improved from 0.11933 to 0.11756, saving model to Attention_concat_lstm.h5\n",
      "258/258 [==============================] - 14s 53ms/step - loss: 0.7519 - val_loss: 0.1176\n",
      "Epoch 21/50\n",
      "257/258 [============================>.] - ETA: 0s - loss: 0.7455\n",
      "Epoch 00021: val_loss improved from 0.11756 to 0.11589, saving model to Attention_concat_lstm.h5\n",
      "258/258 [==============================] - 14s 53ms/step - loss: 0.7454 - val_loss: 0.1159\n",
      "Epoch 22/50\n",
      "258/258 [==============================] - ETA: 0s - loss: 0.7493\n",
      "Epoch 00022: val_loss did not improve from 0.11589\n",
      "258/258 [==============================] - 14s 52ms/step - loss: 0.7493 - val_loss: 0.1170\n",
      "Epoch 23/50\n",
      "258/258 [==============================] - ETA: 0s - loss: 0.7449\n",
      "Epoch 00023: val_loss improved from 0.11589 to 0.11506, saving model to Attention_concat_lstm.h5\n",
      "258/258 [==============================] - 14s 55ms/step - loss: 0.7449 - val_loss: 0.1151\n",
      "Epoch 24/50\n",
      "258/258 [==============================] - ETA: 0s - loss: 0.7447\n",
      "Epoch 00024: val_loss did not improve from 0.11506\n",
      "258/258 [==============================] - 14s 53ms/step - loss: 0.7447 - val_loss: 0.1168\n",
      "Epoch 25/50\n",
      "257/258 [============================>.] - ETA: 0s - loss: 0.7438\n",
      "Epoch 00025: val_loss did not improve from 0.11506\n",
      "258/258 [==============================] - 14s 53ms/step - loss: 0.7440 - val_loss: 0.1155\n",
      "Epoch 26/50\n",
      "258/258 [==============================] - ETA: 0s - loss: 0.7442\n",
      "Epoch 00026: val_loss improved from 0.11506 to 0.11340, saving model to Attention_concat_lstm.h5\n",
      "258/258 [==============================] - 14s 53ms/step - loss: 0.7442 - val_loss: 0.1134\n",
      "Epoch 27/50\n",
      "258/258 [==============================] - ETA: 0s - loss: 0.7413\n",
      "Epoch 00027: val_loss improved from 0.11340 to 0.11310, saving model to Attention_concat_lstm.h5\n",
      "258/258 [==============================] - 14s 54ms/step - loss: 0.7413 - val_loss: 0.1131\n",
      "Epoch 28/50\n",
      "258/258 [==============================] - ETA: 0s - loss: 0.7421\n",
      "Epoch 00028: val_loss improved from 0.11310 to 0.11093, saving model to Attention_concat_lstm.h5\n",
      "258/258 [==============================] - 14s 53ms/step - loss: 0.7421 - val_loss: 0.1109\n",
      "Epoch 29/50\n",
      "258/258 [==============================] - ETA: 0s - loss: 0.7379\n",
      "Epoch 00029: val_loss improved from 0.11093 to 0.10953, saving model to Attention_concat_lstm.h5\n",
      "258/258 [==============================] - 14s 53ms/step - loss: 0.7379 - val_loss: 0.1095\n",
      "Epoch 30/50\n",
      "258/258 [==============================] - ETA: 0s - loss: 0.7356\n",
      "Epoch 00030: val_loss did not improve from 0.10953\n",
      "258/258 [==============================] - 14s 53ms/step - loss: 0.7356 - val_loss: 0.1112\n",
      "Epoch 31/50\n",
      "257/258 [============================>.] - ETA: 0s - loss: 0.7349\n",
      "Epoch 00031: val_loss improved from 0.10953 to 0.10774, saving model to Attention_concat_lstm.h5\n",
      "258/258 [==============================] - 14s 53ms/step - loss: 0.7350 - val_loss: 0.1077\n",
      "Epoch 32/50\n",
      "258/258 [==============================] - ETA: 0s - loss: 0.7343\n",
      "Epoch 00032: val_loss improved from 0.10774 to 0.10720, saving model to Attention_concat_lstm.h5\n",
      "258/258 [==============================] - 14s 53ms/step - loss: 0.7343 - val_loss: 0.1072\n"
     ]
    },
    {
     "name": "stdout",
     "output_type": "stream",
     "text": [
      "Epoch 33/50\n",
      "258/258 [==============================] - ETA: 0s - loss: 0.7364\n",
      "Epoch 00033: val_loss did not improve from 0.10720\n",
      "258/258 [==============================] - 14s 53ms/step - loss: 0.7364 - val_loss: 0.1104\n",
      "Epoch 34/50\n",
      "257/258 [============================>.] - ETA: 0s - loss: 0.7355\n",
      "Epoch 00034: val_loss improved from 0.10720 to 0.10713, saving model to Attention_concat_lstm.h5\n",
      "258/258 [==============================] - 14s 53ms/step - loss: 0.7355 - val_loss: 0.1071\n",
      "Epoch 35/50\n",
      "257/258 [============================>.] - ETA: 0s - loss: 0.7310\n",
      "Epoch 00035: val_loss did not improve from 0.10713\n",
      "\n",
      "Epoch 00035: ReduceLROnPlateau reducing learning rate to 0.00010000000474974513.\n",
      "258/258 [==============================] - 14s 53ms/step - loss: 0.7311 - val_loss: 0.1073\n",
      "Epoch 36/50\n",
      "257/258 [============================>.] - ETA: 0s - loss: 0.7241\n",
      "Epoch 00036: val_loss improved from 0.10713 to 0.10300, saving model to Attention_concat_lstm.h5\n",
      "258/258 [==============================] - 14s 54ms/step - loss: 0.7241 - val_loss: 0.1030\n",
      "Epoch 37/50\n",
      "258/258 [==============================] - ETA: 0s - loss: 0.7243\n",
      "Epoch 00037: val_loss improved from 0.10300 to 0.10202, saving model to Attention_concat_lstm.h5\n",
      "258/258 [==============================] - 14s 53ms/step - loss: 0.7243 - val_loss: 0.1020\n",
      "Epoch 38/50\n",
      "258/258 [==============================] - ETA: 0s - loss: 0.7227\n",
      "Epoch 00038: val_loss improved from 0.10202 to 0.10193, saving model to Attention_concat_lstm.h5\n",
      "258/258 [==============================] - 14s 53ms/step - loss: 0.7227 - val_loss: 0.1019\n",
      "Epoch 39/50\n",
      "258/258 [==============================] - ETA: 0s - loss: 0.7210\n",
      "Epoch 00039: val_loss improved from 0.10193 to 0.10119, saving model to Attention_concat_lstm.h5\n",
      "258/258 [==============================] - 14s 53ms/step - loss: 0.7210 - val_loss: 0.1012\n",
      "Epoch 40/50\n",
      "258/258 [==============================] - ETA: 0s - loss: 0.7227\n",
      "Epoch 00040: val_loss did not improve from 0.10119\n",
      "258/258 [==============================] - 14s 54ms/step - loss: 0.7227 - val_loss: 0.1014\n",
      "Epoch 41/50\n",
      "257/258 [============================>.] - ETA: 0s - loss: 0.7211\n",
      "Epoch 00041: val_loss improved from 0.10119 to 0.10118, saving model to Attention_concat_lstm.h5\n",
      "258/258 [==============================] - 14s 53ms/step - loss: 0.7213 - val_loss: 0.1012\n",
      "Epoch 42/50\n",
      "258/258 [==============================] - ETA: 0s - loss: 0.7175\n",
      "Epoch 00042: val_loss did not improve from 0.10118\n",
      "\n",
      "Epoch 00042: ReduceLROnPlateau reducing learning rate to 1.0000000474974514e-05.\n",
      "258/258 [==============================] - 14s 54ms/step - loss: 0.7175 - val_loss: 0.1013\n",
      "Epoch 43/50\n",
      "258/258 [==============================] - ETA: 0s - loss: 0.7193\n",
      "Epoch 00043: val_loss improved from 0.10118 to 0.10111, saving model to Attention_concat_lstm.h5\n",
      "258/258 [==============================] - 14s 53ms/step - loss: 0.7193 - val_loss: 0.1011\n",
      "Epoch 44/50\n",
      "258/258 [==============================] - ETA: 0s - loss: 0.7186\n",
      "Epoch 00044: val_loss improved from 0.10111 to 0.10101, saving model to Attention_concat_lstm.h5\n",
      "258/258 [==============================] - 14s 53ms/step - loss: 0.7186 - val_loss: 0.1010\n",
      "Epoch 45/50\n",
      "258/258 [==============================] - ETA: 0s - loss: 0.7193\n",
      "Epoch 00045: val_loss improved from 0.10101 to 0.10088, saving model to Attention_concat_lstm.h5\n",
      "258/258 [==============================] - 14s 54ms/step - loss: 0.7193 - val_loss: 0.1009\n",
      "Epoch 46/50\n",
      "258/258 [==============================] - ETA: 0s - loss: 0.7194\n",
      "Epoch 00046: val_loss improved from 0.10088 to 0.10086, saving model to Attention_concat_lstm.h5\n",
      "258/258 [==============================] - 14s 53ms/step - loss: 0.7194 - val_loss: 0.1009\n",
      "Epoch 47/50\n",
      "258/258 [==============================] - ETA: 0s - loss: 0.7210\n",
      "Epoch 00047: val_loss improved from 0.10086 to 0.10083, saving model to Attention_concat_lstm.h5\n",
      "258/258 [==============================] - 14s 53ms/step - loss: 0.7210 - val_loss: 0.1008\n",
      "Epoch 48/50\n",
      "258/258 [==============================] - ETA: 0s - loss: 0.7186\n",
      "Epoch 00048: val_loss did not improve from 0.10083\n",
      "\n",
      "Epoch 00048: ReduceLROnPlateau reducing learning rate to 1.0000000656873453e-06.\n",
      "258/258 [==============================] - 14s 53ms/step - loss: 0.7186 - val_loss: 0.1009\n",
      "Epoch 49/50\n",
      "257/258 [============================>.] - ETA: 0s - loss: 0.7182\n",
      "Epoch 00049: val_loss did not improve from 0.10083\n",
      "258/258 [==============================] - 14s 54ms/step - loss: 0.7182 - val_loss: 0.1009\n",
      "Epoch 50/50\n",
      "258/258 [==============================] - ETA: 0s - loss: 0.7206\n",
      "Epoch 00050: val_loss did not improve from 0.10083\n",
      "258/258 [==============================] - 14s 54ms/step - loss: 0.7206 - val_loss: 0.1008\n"
     ]
    },
    {
     "data": {
      "text/plain": [
       "<tensorflow.python.keras.callbacks.History at 0x298c951fd88>"
      ]
     },
     "execution_count": 31,
     "metadata": {},
     "output_type": "execute_result"
    }
   ],
   "source": [
    "model = encoder_decoder(vocab_size, vocab_size, embedding_dim, lstm_size, lstm_size, maxlen, maxlen, 'concat', att_units, batch_size)\n",
    "model.compile(optimizer = 'Adam', loss = loss_function)\n",
    "\n",
    "callbacks = [ModelCheckpoint('Attention_concat_lstm.h5', save_best_only= True, verbose = 1),\n",
    "             EarlyStopping(patience = 5, verbose = 1),\n",
    "             ReduceLROnPlateau(patience = 3, verbose = 1)]\n",
    "\n",
    "model.fit(x = unigram_train_dataset, \n",
    "          steps_per_epoch = unigram_train.shape[0]//batch_size,\n",
    "          validation_data = unigram_val_dataset,\n",
    "          validation_steps = unigram_val.shape[0]//batch_size,\n",
    "          epochs = 50,\n",
    "          verbose = 1,\n",
    "          callbacks = callbacks)"
   ]
  },
  {
   "cell_type": "code",
   "execution_count": 78,
   "metadata": {},
   "outputs": [],
   "source": [
    "pred_model = pred_Encoder_decoder(vocab_size, vocab_size, embedding_dim, lstm_size, lstm_size, maxlen, maxlen, 'concat', att_units)\n",
    "pred_model.compile(optimizer = 'Adam', loss = loss_function)\n",
    "pred_model.build(input_shape= (None, 1, maxlen))\n",
    "pred_model.load_weights('Attention_concat_lstm.h5')"
   ]
  },
  {
   "cell_type": "code",
   "execution_count": 81,
   "metadata": {},
   "outputs": [
    {
     "name": "stdout",
     "output_type": "stream",
     "text": [
      "input :  qitted\n",
      "predicted output :  quitted\n",
      "actual output : quitted\n"
     ]
    },
    {
     "data": {
      "image/png": "[encoded data removed]",
      "text/plain": [
       "<Figure size 720x720 with 1 Axes>"
      ]
     },
     "metadata": {
      "needs_background": "light"
     },
     "output_type": "display_data"
    }
   ],
   "source": [
    "sentence = unigram_train['input'].values[5]\n",
    "result, attention_plot = predict(sentence, unigram_vec, unigram_index_to_word, gram = 'uni')\n",
    "\n",
    "print('input : ', sentence)\n",
    "print('predicted output : ',result)\n",
    "print('actual output :', unigram_train['output'].values[5])\n",
    "\n",
    "attention_plot = attention_plot[:len(list(result)), :len(list(sentence))]\n",
    "plot_attention(attention_plot, list(sentence), list(result))"
   ]
  },
  {
   "cell_type": "code",
   "execution_count": 82,
   "metadata": {},
   "outputs": [
    {
     "name": "stdout",
     "output_type": "stream",
     "text": [
      "input :  fortissiemus\n",
      "predicted output :  fortissimus\n",
      "actual output : fortissimus\n"
     ]
    },
    {
     "data": {
      "image/png": "[encoded data removed]",
      "text/plain": [
       "<Figure size 720x720 with 1 Axes>"
      ]
     },
     "metadata": {
      "needs_background": "light"
     },
     "output_type": "display_data"
    }
   ],
   "source": [
    "sentence = unigram_train['input'].values[11]\n",
    "result, attention_plot = predict(sentence, unigram_vec, unigram_index_to_word, gram = 'uni')\n",
    "\n",
    "print('input : ', sentence)\n",
    "print('predicted output : ',result)\n",
    "print('actual output :', unigram_train['output'].values[11])\n",
    "\n",
    "attention_plot = attention_plot[:len(list(result)), :len(list(sentence))]\n",
    "plot_attention(attention_plot, list(sentence), list(result))"
   ]
  },
  {
   "cell_type": "code",
   "execution_count": 83,
   "metadata": {},
   "outputs": [
    {
     "name": "stdout",
     "output_type": "stream",
     "text": [
      "input: numbeGr\n",
      "predicted output: number\n",
      "actual output: number\n"
     ]
    },
    {
     "data": {
      "image/png": "[encoded data removed]",
      "text/plain": [
       "<Figure size 720x720 with 1 Axes>"
      ]
     },
     "metadata": {
      "needs_background": "light"
     },
     "output_type": "display_data"
    }
   ],
   "source": [
    "sentence = unigram_train['input'].values[14]\n",
    "result, attention_plot = predict(sentence, unigram_vec, unigram_index_to_word, gram = 'uni')\n",
    "\n",
    "print('input:', sentence)\n",
    "print('predicted output:',result)\n",
    "print('actual output:', unigram_train['output'].values[14])\n",
    "attention_plot = attention_plot[:len(list(result)), :len(list(sentence))]\n",
    "plot_attention(attention_plot, list(sentence), list(result))"
   ]
  },
  {
   "cell_type": "code",
   "execution_count": 39,
   "metadata": {},
   "outputs": [
    {
     "name": "stderr",
     "output_type": "stream",
     "text": [
      "100%|██████████████████████████████████████████████████████████████████████████████| 3678/3678 [03:40<00:00, 16.65it/s]\n",
      "100%|████████████████████████████████████████████████████████████████████████████| 33101/33101 [32:52<00:00, 16.78it/s]\n",
      "100%|██████████████████████████████████████████████████████████████████████████████| 3150/3150 [03:06<00:00, 16.88it/s]"
     ]
    },
    {
     "name": "stdout",
     "output_type": "stream",
     "text": [
      "BLEU Score on train:  0.8698739128364643\n",
      "BLEU Score on val:  0.792070857805782\n",
      "BLEU Score on test:  0.7071433929743683\n"
     ]
    },
    {
     "name": "stderr",
     "output_type": "stream",
     "text": [
      "\n"
     ]
    }
   ],
   "source": [
    "val_bleu = 0\n",
    "for i in tqdm(range(unigram_val.shape[0])):\n",
    "    inp = unigram_val['input'].values[i]\n",
    "    out = unigram_val['output'].values[i]\n",
    "    pred, _ = predict(inp, unigram_vec, unigram_index_to_word, gram = 'uni')\n",
    "    val_bleu += sentence_bleu([out], pred)\n",
    "\n",
    "train_bleu = 0\n",
    "for i in tqdm(range(unigram_train.shape[0])):\n",
    "    inp = unigram_train['input'].values[i];\n",
    "    out = unigram_train['output'].values[i]\n",
    "    pred, _ = predict(inp, unigram_vec, unigram_index_to_word, gram = 'uni')\n",
    "    train_bleu += sentence_bleu([out], pred)\n",
    "\n",
    "test_bleu = 0\n",
    "for i in tqdm(range(unigram_test.shape[0])):\n",
    "    inp = unigram_test['input'].values[i]\n",
    "    out = unigram_test['output'].values[i]\n",
    "    pred, _ = predict(inp, unigram_vec, unigram_index_to_word, gram = 'uni')\n",
    "    test_bleu += sentence_bleu([out], pred)\n",
    "    \n",
    "print('BLEU Score on train: ',train_bleu/unigram_train.shape[0])\n",
    "print('BLEU Score on val: ',val_bleu/unigram_val.shape[0])\n",
    "print('BLEU Score on test: ',test_bleu/unigram_test.shape[0])"
   ]
  },
  {
   "cell_type": "markdown",
   "metadata": {},
   "source": [
    "<h3>2.2 BiGram </h3>"
   ]
  },
  {
   "cell_type": "code",
   "execution_count": 83,
   "metadata": {},
   "outputs": [],
   "source": [
    "lstm_size = 256\n",
    "embedding_dim = 100\n",
    "att_units = 256\n",
    "maxlen = 26"
   ]
  },
  {
   "cell_type": "code",
   "execution_count": 85,
   "metadata": {},
   "outputs": [
    {
     "name": "stdout",
     "output_type": "stream",
     "text": [
      "Epoch 1/100\n",
      "6910/6910 [==============================] - ETA: 0s - loss: 0.8288\n",
      "Epoch 00001: val_loss improved from inf to 0.06538, saving model to Attention_concat_lstm_bigram.h5\n",
      "6910/6910 [==============================] - 471s 68ms/step - loss: 0.8288 - val_loss: 0.0654\n",
      "Epoch 2/100\n",
      "6910/6910 [==============================] - ETA: 0s - loss: 0.7482\n",
      "Epoch 00002: val_loss improved from 0.06538 to 0.05269, saving model to Attention_concat_lstm_bigram.h5\n",
      "6910/6910 [==============================] - 486s 70ms/step - loss: 0.7482 - val_loss: 0.0527\n",
      "Epoch 3/100\n",
      "6910/6910 [==============================] - ETA: 0s - loss: 0.7420\n",
      "Epoch 00003: val_loss improved from 0.05269 to 0.04566, saving model to Attention_concat_lstm_bigram.h5\n",
      "6910/6910 [==============================] - 498s 72ms/step - loss: 0.7420 - val_loss: 0.0457\n",
      "Epoch 4/100\n",
      "6910/6910 [==============================] - ETA: 0s - loss: 0.7379\n",
      "Epoch 00004: val_loss improved from 0.04566 to 0.04211, saving model to Attention_concat_lstm_bigram.h5\n",
      "6910/6910 [==============================] - 474s 69ms/step - loss: 0.7379 - val_loss: 0.0421\n",
      "Epoch 5/100\n",
      "6910/6910 [==============================] - ETA: 0s - loss: 0.7357\n",
      "Epoch 00005: val_loss improved from 0.04211 to 0.03942, saving model to Attention_concat_lstm_bigram.h5\n",
      "6910/6910 [==============================] - 463s 67ms/step - loss: 0.7357 - val_loss: 0.0394\n",
      "Epoch 6/100\n",
      "6910/6910 [==============================] - ETA: 0s - loss: 0.7333\n",
      "Epoch 00006: val_loss improved from 0.03942 to 0.03707, saving model to Attention_concat_lstm_bigram.h5\n",
      "6910/6910 [==============================] - 467s 68ms/step - loss: 0.7333 - val_loss: 0.0371\n",
      "Epoch 7/100\n",
      "6910/6910 [==============================] - ETA: 0s - loss: 0.7320\n",
      "Epoch 00007: val_loss improved from 0.03707 to 0.03556, saving model to Attention_concat_lstm_bigram.h5\n",
      "6910/6910 [==============================] - 486s 70ms/step - loss: 0.7320 - val_loss: 0.0356\n",
      "Epoch 8/100\n",
      "6910/6910 [==============================] - ETA: 0s - loss: 0.7315\n",
      "Epoch 00008: val_loss improved from 0.03556 to 0.03482, saving model to Attention_concat_lstm_bigram.h5\n",
      "6910/6910 [==============================] - 472s 68ms/step - loss: 0.7315 - val_loss: 0.0348\n",
      "Epoch 9/100\n",
      "6910/6910 [==============================] - ETA: 0s - loss: 0.7305\n",
      "Epoch 00009: val_loss improved from 0.03482 to 0.03351, saving model to Attention_concat_lstm_bigram.h5\n",
      "6910/6910 [==============================] - 461s 67ms/step - loss: 0.7305 - val_loss: 0.0335\n",
      "Epoch 10/100\n",
      "6910/6910 [==============================] - ETA: 0s - loss: 0.7293\n",
      "Epoch 00010: val_loss improved from 0.03351 to 0.03246, saving model to Attention_concat_lstm_bigram.h5\n",
      "6910/6910 [==============================] - 459s 66ms/step - loss: 0.7293 - val_loss: 0.0325\n",
      "Epoch 11/100\n",
      "6910/6910 [==============================] - ETA: 0s - loss: 0.7283\n",
      "Epoch 00011: val_loss improved from 0.03246 to 0.03200, saving model to Attention_concat_lstm_bigram.h5\n",
      "6910/6910 [==============================] - 468s 68ms/step - loss: 0.7283 - val_loss: 0.0320\n",
      "Epoch 12/100\n",
      "6910/6910 [==============================] - ETA: 0s - loss: 0.7279\n",
      "Epoch 00012: val_loss improved from 0.03200 to 0.03148, saving model to Attention_concat_lstm_bigram.h5\n",
      "6910/6910 [==============================] - 459s 66ms/step - loss: 0.7279 - val_loss: 0.0315\n",
      "Epoch 13/100\n",
      "6910/6910 [==============================] - ETA: 0s - loss: 0.7278\n",
      "Epoch 00013: val_loss improved from 0.03148 to 0.03059, saving model to Attention_concat_lstm_bigram.h5\n",
      "6910/6910 [==============================] - 461s 67ms/step - loss: 0.7278 - val_loss: 0.0306\n",
      "Epoch 14/100\n",
      "6910/6910 [==============================] - ETA: 0s - loss: 0.7273\n",
      "Epoch 00014: val_loss improved from 0.03059 to 0.02997, saving model to Attention_concat_lstm_bigram.h5\n",
      "6910/6910 [==============================] - 465s 67ms/step - loss: 0.7273 - val_loss: 0.0300\n",
      "Epoch 15/100\n",
      "6910/6910 [==============================] - ETA: 0s - loss: 0.7262\n",
      "Epoch 00015: val_loss improved from 0.02997 to 0.02988, saving model to Attention_concat_lstm_bigram.h5\n",
      "6910/6910 [==============================] - 468s 68ms/step - loss: 0.7262 - val_loss: 0.0299\n",
      "Epoch 16/100\n",
      "6910/6910 [==============================] - ETA: 0s - loss: 0.7260\n",
      "Epoch 00016: val_loss improved from 0.02988 to 0.02935, saving model to Attention_concat_lstm_bigram.h5\n",
      "6910/6910 [==============================] - 466s 67ms/step - loss: 0.7260 - val_loss: 0.0294\n",
      "Epoch 17/100\n",
      "6910/6910 [==============================] - ETA: 0s - loss: 0.7258\n",
      "Epoch 00017: val_loss improved from 0.02935 to 0.02916, saving model to Attention_concat_lstm_bigram.h5\n",
      "6910/6910 [==============================] - 469s 68ms/step - loss: 0.7258 - val_loss: 0.0292\n",
      "Epoch 18/100\n",
      "6910/6910 [==============================] - ETA: 0s - loss: 0.7256\n",
      "Epoch 00018: val_loss improved from 0.02916 to 0.02896, saving model to Attention_concat_lstm_bigram.h5\n",
      "6910/6910 [==============================] - 478s 69ms/step - loss: 0.7256 - val_loss: 0.0290\n",
      "Epoch 19/100\n",
      "6910/6910 [==============================] - ETA: 0s - loss: 0.7254- ETA:\n",
      "Epoch 00019: val_loss improved from 0.02896 to 0.02854, saving model to Attention_concat_lstm_bigram.h5\n",
      "6910/6910 [==============================] - 477s 69ms/step - loss: 0.7254 - val_loss: 0.0285\n",
      "Epoch 20/100\n",
      "6910/6910 [==============================] - ETA: 0s - loss: 0.7250\n",
      "Epoch 00020: val_loss improved from 0.02854 to 0.02826, saving model to Attention_concat_lstm_bigram.h5\n",
      "6910/6910 [==============================] - 485s 70ms/step - loss: 0.7250 - val_loss: 0.0283\n",
      "Epoch 21/100\n",
      "6910/6910 [==============================] - ETA: 0s - loss: 0.7245\n",
      "Epoch 00021: val_loss improved from 0.02826 to 0.02785, saving model to Attention_concat_lstm_bigram.h5\n",
      "6910/6910 [==============================] - 483s 70ms/step - loss: 0.7245 - val_loss: 0.0278\n",
      "Epoch 22/100\n",
      "6910/6910 [==============================] - ETA: 0s - loss: 0.7247\n",
      "Epoch 00022: val_loss did not improve from 0.02785\n",
      "6910/6910 [==============================] - 473s 69ms/step - loss: 0.7247 - val_loss: 0.0288\n",
      "Epoch 23/100\n",
      "6910/6910 [==============================] - ETA: 0s - loss: 0.7239\n",
      "Epoch 00023: val_loss did not improve from 0.02785\n",
      "6910/6910 [==============================] - 467s 68ms/step - loss: 0.7239 - val_loss: 0.0279\n",
      "Epoch 24/100\n",
      "6910/6910 [==============================] - ETA: 0s - loss: 0.7236\n",
      "Epoch 00024: val_loss improved from 0.02785 to 0.02764, saving model to Attention_concat_lstm_bigram.h5\n",
      "6910/6910 [==============================] - 459s 66ms/step - loss: 0.7236 - val_loss: 0.0276\n",
      "Epoch 25/100\n",
      "6910/6910 [==============================] - ETA: 0s - loss: 0.7239\n",
      "Epoch 00025: val_loss improved from 0.02764 to 0.02751, saving model to Attention_concat_lstm_bigram.h5\n",
      "6910/6910 [==============================] - 467s 68ms/step - loss: 0.7239 - val_loss: 0.0275\n",
      "Epoch 26/100\n",
      "6910/6910 [==============================] - ETA: 0s - loss: 0.7238\n",
      "Epoch 00026: val_loss did not improve from 0.02751\n",
      "6910/6910 [==============================] - 465s 67ms/step - loss: 0.7238 - val_loss: 0.0277\n",
      "Epoch 27/100\n",
      "6910/6910 [==============================] - ETA: 0s - loss: 0.7236\n",
      "Epoch 00027: val_loss improved from 0.02751 to 0.02704, saving model to Attention_concat_lstm_bigram.h5\n",
      "6910/6910 [==============================] - 473s 69ms/step - loss: 0.7236 - val_loss: 0.0270\n",
      "Epoch 28/100\n",
      "6910/6910 [==============================] - ETA: 0s - loss: 0.7231\n",
      "Epoch 00028: val_loss did not improve from 0.02704\n",
      "6910/6910 [==============================] - 464s 67ms/step - loss: 0.7231 - val_loss: 0.0271\n",
      "Epoch 29/100\n",
      "6910/6910 [==============================] - ETA: 0s - loss: 0.7233\n",
      "Epoch 00029: val_loss improved from 0.02704 to 0.02701, saving model to Attention_concat_lstm_bigram.h5\n",
      "6910/6910 [==============================] - 680s 98ms/step - loss: 0.7233 - val_loss: 0.0270\n",
      "Epoch 30/100\n",
      "6910/6910 [==============================] - ETA: 0s - loss: 0.7232\n",
      "Epoch 00030: val_loss improved from 0.02701 to 0.02620, saving model to Attention_concat_lstm_bigram.h5\n",
      "6910/6910 [==============================] - 459s 66ms/step - loss: 0.7232 - val_loss: 0.0262\n",
      "Epoch 31/100\n"
     ]
    },
    {
     "name": "stdout",
     "output_type": "stream",
     "text": [
      "6910/6910 [==============================] - ETA: 0s - loss: 0.7231\n",
      "Epoch 00031: val_loss did not improve from 0.02620\n",
      "6910/6910 [==============================] - 472s 68ms/step - loss: 0.7231 - val_loss: 0.0263\n",
      "Epoch 32/100\n",
      "6910/6910 [==============================] - ETA: 0s - loss: 0.7230\n",
      "Epoch 00032: val_loss improved from 0.02620 to 0.02616, saving model to Attention_concat_lstm_bigram.h5\n",
      "6910/6910 [==============================] - 514s 74ms/step - loss: 0.7230 - val_loss: 0.0262\n",
      "Epoch 33/100\n",
      "6910/6910 [==============================] - ETA: 0s - loss: 0.7226\n",
      "Epoch 00033: val_loss did not improve from 0.02616\n",
      "\n",
      "Epoch 00033: ReduceLROnPlateau reducing learning rate to 0.00010000000474974513.\n",
      "6910/6910 [==============================] - 486s 70ms/step - loss: 0.7226 - val_loss: 0.0263\n",
      "Epoch 34/100\n",
      "6910/6910 [==============================] - ETA: 0s - loss: 0.7206\n",
      "Epoch 00034: val_loss improved from 0.02616 to 0.02441, saving model to Attention_concat_lstm_bigram.h5\n",
      "6910/6910 [==============================] - 496s 72ms/step - loss: 0.7206 - val_loss: 0.0244\n",
      "Epoch 35/100\n",
      "6910/6910 [==============================] - ETA: 0s - loss: 0.7193\n",
      "Epoch 00035: val_loss improved from 0.02441 to 0.02397, saving model to Attention_concat_lstm_bigram.h5\n",
      "6910/6910 [==============================] - 472s 68ms/step - loss: 0.7193 - val_loss: 0.0240\n",
      "Epoch 36/100\n",
      "6910/6910 [==============================] - ETA: 0s - loss: 0.7191\n",
      "Epoch 00036: val_loss improved from 0.02397 to 0.02379, saving model to Attention_concat_lstm_bigram.h5\n",
      "6910/6910 [==============================] - 468s 68ms/step - loss: 0.7191 - val_loss: 0.0238\n",
      "Epoch 37/100\n",
      "6910/6910 [==============================] - ETA: 0s - loss: 0.7188\n",
      "Epoch 00037: val_loss improved from 0.02379 to 0.02357, saving model to Attention_concat_lstm_bigram.h5\n",
      "6910/6910 [==============================] - 459s 66ms/step - loss: 0.7188 - val_loss: 0.0236\n",
      "Epoch 38/100\n",
      "6910/6910 [==============================] - ETA: 0s - loss: 0.7187\n",
      "Epoch 00038: val_loss improved from 0.02357 to 0.02348, saving model to Attention_concat_lstm_bigram.h5\n",
      "6910/6910 [==============================] - 478s 69ms/step - loss: 0.7187 - val_loss: 0.0235\n",
      "Epoch 39/100\n",
      "6910/6910 [==============================] - ETA: 0s - loss: 0.7183\n",
      "Epoch 00039: val_loss improved from 0.02348 to 0.02332, saving model to Attention_concat_lstm_bigram.h5\n",
      "6910/6910 [==============================] - 460s 67ms/step - loss: 0.7183 - val_loss: 0.0233\n",
      "Epoch 40/100\n",
      "6910/6910 [==============================] - ETA: 0s - loss: 0.7179\n",
      "Epoch 00040: val_loss did not improve from 0.02332\n",
      "6910/6910 [==============================] - 468s 68ms/step - loss: 0.7179 - val_loss: 0.0233\n",
      "Epoch 41/100\n",
      "6910/6910 [==============================] - ETA: 0s - loss: 0.7183\n",
      "Epoch 00041: val_loss improved from 0.02332 to 0.02320, saving model to Attention_concat_lstm_bigram.h5\n",
      "6910/6910 [==============================] - 461s 67ms/step - loss: 0.7183 - val_loss: 0.0232\n",
      "Epoch 42/100\n",
      "6910/6910 [==============================] - ETA: 0s - loss: 0.7180\n",
      "Epoch 00042: val_loss did not improve from 0.02320\n",
      "6910/6910 [==============================] - 466s 67ms/step - loss: 0.7180 - val_loss: 0.0232\n",
      "Epoch 43/100\n",
      "6910/6910 [==============================] - ETA: 0s - loss: 0.7178\n",
      "Epoch 00043: val_loss improved from 0.02320 to 0.02312, saving model to Attention_concat_lstm_bigram.h5\n",
      "6910/6910 [==============================] - 455s 66ms/step - loss: 0.7178 - val_loss: 0.0231\n",
      "Epoch 44/100\n",
      "6910/6910 [==============================] - ETA: 0s - loss: 0.7180\n",
      "Epoch 00044: val_loss improved from 0.02312 to 0.02305, saving model to Attention_concat_lstm_bigram.h5\n",
      "6910/6910 [==============================] - 456s 66ms/step - loss: 0.7180 - val_loss: 0.0230\n",
      "Epoch 45/100\n",
      "6910/6910 [==============================] - ETA: 0s - loss: 0.7179\n",
      "Epoch 00045: val_loss improved from 0.02305 to 0.02298, saving model to Attention_concat_lstm_bigram.h5\n",
      "6910/6910 [==============================] - 467s 68ms/step - loss: 0.7179 - val_loss: 0.0230\n",
      "Epoch 46/100\n",
      "6910/6910 [==============================] - ETA: 0s - loss: 0.7173\n",
      "Epoch 00046: val_loss improved from 0.02298 to 0.02295, saving model to Attention_concat_lstm_bigram.h5\n",
      "6910/6910 [==============================] - 456s 66ms/step - loss: 0.7173 - val_loss: 0.0229\n",
      "Epoch 47/100\n",
      "6910/6910 [==============================] - ETA: 0s - loss: 0.7176\n",
      "Epoch 00047: val_loss improved from 0.02295 to 0.02288, saving model to Attention_concat_lstm_bigram.h5\n",
      "6910/6910 [==============================] - 456s 66ms/step - loss: 0.7176 - val_loss: 0.0229\n",
      "Epoch 48/100\n",
      "6910/6910 [==============================] - ETA: 0s - loss: 0.7171\n",
      "Epoch 00048: val_loss improved from 0.02288 to 0.02276, saving model to Attention_concat_lstm_bigram.h5\n",
      "6910/6910 [==============================] - 456s 66ms/step - loss: 0.7171 - val_loss: 0.0228\n",
      "Epoch 49/100\n",
      "6910/6910 [==============================] - ETA: 0s - loss: 0.7173\n",
      "Epoch 00049: val_loss did not improve from 0.02276\n",
      "6910/6910 [==============================] - 456s 66ms/step - loss: 0.7173 - val_loss: 0.0228\n",
      "Epoch 50/100\n",
      "6910/6910 [==============================] - ETA: 0s - loss: 0.7169\n",
      "Epoch 00050: val_loss improved from 0.02276 to 0.02275, saving model to Attention_concat_lstm_bigram.h5\n",
      "6910/6910 [==============================] - 456s 66ms/step - loss: 0.7169 - val_loss: 0.0227\n",
      "Epoch 51/100\n",
      "6910/6910 [==============================] - ETA: 0s - loss: 0.7173\n",
      "Epoch 00051: val_loss improved from 0.02275 to 0.02267, saving model to Attention_concat_lstm_bigram.h5\n",
      "\n",
      "Epoch 00051: ReduceLROnPlateau reducing learning rate to 1.0000000474974514e-05.\n",
      "6910/6910 [==============================] - 456s 66ms/step - loss: 0.7173 - val_loss: 0.0227\n",
      "Epoch 52/100\n",
      "6910/6910 [==============================] - ETA: 0s - loss: 0.7171\n",
      "Epoch 00052: val_loss improved from 0.02267 to 0.02262, saving model to Attention_concat_lstm_bigram.h5\n",
      "6910/6910 [==============================] - 466s 67ms/step - loss: 0.7171 - val_loss: 0.0226\n",
      "Epoch 53/100\n",
      "6910/6910 [==============================] - ETA: 0s - loss: 0.7170\n",
      "Epoch 00053: val_loss improved from 0.02262 to 0.02258, saving model to Attention_concat_lstm_bigram.h5\n",
      "6910/6910 [==============================] - 458s 66ms/step - loss: 0.7170 - val_loss: 0.0226\n",
      "Epoch 54/100\n",
      "6910/6910 [==============================] - ETA: 0s - loss: 0.7168\n",
      "Epoch 00054: val_loss improved from 0.02258 to 0.02256, saving model to Attention_concat_lstm_bigram.h5\n",
      "6910/6910 [==============================] - 458s 66ms/step - loss: 0.7168 - val_loss: 0.0226\n",
      "Epoch 55/100\n",
      "6910/6910 [==============================] - ETA: 0s - loss: 0.7165\n",
      "Epoch 00055: val_loss improved from 0.02256 to 0.02251, saving model to Attention_concat_lstm_bigram.h5\n",
      "6910/6910 [==============================] - 457s 66ms/step - loss: 0.7165 - val_loss: 0.0225\n",
      "Epoch 56/100\n",
      "6910/6910 [==============================] - ETA: 0s - loss: 0.7169\n",
      "Epoch 00056: val_loss improved from 0.02251 to 0.02251, saving model to Attention_concat_lstm_bigram.h5\n",
      "6910/6910 [==============================] - 456s 66ms/step - loss: 0.7169 - val_loss: 0.0225\n",
      "Epoch 57/100\n",
      "6910/6910 [==============================] - ETA: 0s - loss: 0.7173\n",
      "Epoch 00057: val_loss improved from 0.02251 to 0.02251, saving model to Attention_concat_lstm_bigram.h5\n",
      "6910/6910 [==============================] - 456s 66ms/step - loss: 0.7173 - val_loss: 0.0225\n",
      "Epoch 58/100\n",
      "6910/6910 [==============================] - ETA: 0s - loss: 0.7169\n",
      "Epoch 00058: val_loss improved from 0.02251 to 0.02250, saving model to Attention_concat_lstm_bigram.h5\n",
      "\n",
      "Epoch 00058: ReduceLROnPlateau reducing learning rate to 1.0000000656873453e-06.\n",
      "6910/6910 [==============================] - 455s 66ms/step - loss: 0.7169 - val_loss: 0.0225\n",
      "Epoch 59/100\n",
      "6910/6910 [==============================] - ETA: 0s - loss: 0.7168\n",
      "Epoch 00059: val_loss did not improve from 0.02250\n",
      "6910/6910 [==============================] - 456s 66ms/step - loss: 0.7168 - val_loss: 0.0225\n",
      "Epoch 60/100\n",
      "6910/6910 [==============================] - ETA: 0s - loss: 0.7164\n",
      "Epoch 00060: val_loss improved from 0.02250 to 0.02250, saving model to Attention_concat_lstm_bigram.h5\n",
      "6910/6910 [==============================] - 456s 66ms/step - loss: 0.7164 - val_loss: 0.0225\n"
     ]
    },
    {
     "name": "stdout",
     "output_type": "stream",
     "text": [
      "Epoch 61/100\n",
      "6910/6910 [==============================] - ETA: 0s - loss: 0.7172\n",
      "Epoch 00061: val_loss did not improve from 0.02250\n",
      "\n",
      "Epoch 00061: ReduceLROnPlateau reducing learning rate to 1.0000001111620805e-07.\n",
      "6910/6910 [==============================] - 454s 66ms/step - loss: 0.7172 - val_loss: 0.0225\n",
      "Epoch 62/100\n",
      "6910/6910 [==============================] - ETA: 0s - loss: 0.7168\n",
      "Epoch 00062: val_loss did not improve from 0.02250\n",
      "6910/6910 [==============================] - 458s 66ms/step - loss: 0.7168 - val_loss: 0.0225\n",
      "Epoch 63/100\n",
      "6910/6910 [==============================] - ETA: 0s - loss: 0.7165\n",
      "Epoch 00063: val_loss did not improve from 0.02250\n",
      "6910/6910 [==============================] - 459s 66ms/step - loss: 0.7165 - val_loss: 0.0225\n",
      "Epoch 64/100\n",
      "6910/6910 [==============================] - ETA: 0s - loss: 0.7171\n",
      "Epoch 00064: val_loss did not improve from 0.02250\n",
      "\n",
      "Epoch 00064: ReduceLROnPlateau reducing learning rate to 1.000000082740371e-08.\n",
      "6910/6910 [==============================] - 454s 66ms/step - loss: 0.7171 - val_loss: 0.0225\n",
      "Epoch 65/100\n",
      "6910/6910 [==============================] - ETA: 0s - loss: 0.7165\n",
      "Epoch 00065: val_loss did not improve from 0.02250\n",
      "6910/6910 [==============================] - 454s 66ms/step - loss: 0.7165 - val_loss: 0.0225\n",
      "Epoch 00065: early stopping\n"
     ]
    },
    {
     "data": {
      "text/plain": [
       "<tensorflow.python.keras.callbacks.History at 0x224063cde88>"
      ]
     },
     "execution_count": 85,
     "metadata": {},
     "output_type": "execute_result"
    }
   ],
   "source": [
    "model = encoder_decoder(vocab_size, vocab_size, embedding_dim, lstm_size, lstm_size, maxlen, maxlen, 'concat', att_units, batch_size)\n",
    "model.compile(optimizer = 'Adam', loss = loss_function)\n",
    "\n",
    "callbacks = [ModelCheckpoint('Attention_concat_lstm_bigram.h5', save_best_only= True, verbose = 1),\n",
    "             EarlyStopping(patience = 5, verbose = 1),\n",
    "             ReduceLROnPlateau(patience = 3, verbose = 1)]\n",
    "\n",
    "model.fit(x = bigram_train_dataset, \n",
    "          steps_per_epoch = bigram_train.shape[0]//batch_size,\n",
    "          validation_data = bigram_val_dataset,\n",
    "          validation_steps = bigram_val.shape[0]//batch_size,\n",
    "          epochs = 100,\n",
    "          verbose = 1,\n",
    "          callbacks = callbacks)"
   ]
  },
  {
   "cell_type": "code",
   "execution_count": 87,
   "metadata": {},
   "outputs": [],
   "source": [
    "pred_model = pred_Encoder_decoder(vocab_size, vocab_size, embedding_dim, lstm_size, lstm_size, maxlen, maxlen, 'concat', att_units, bigram_word_to_index)\n",
    "pred_model.compile(optimizer = 'Adam', loss = loss_function)\n",
    "pred_model.build(input_shape= (None, 1, maxlen))\n",
    "pred_model.load_weights('Attention_concat_lstm_bigram.h5')"
   ]
  },
  {
   "cell_type": "code",
   "execution_count": 88,
   "metadata": {},
   "outputs": [
    {
     "name": "stdout",
     "output_type": "stream",
     "text": [
      "input :  no Lne\n",
      "predicted output :  no one\n",
      "actual output : no one\n"
     ]
    },
    {
     "data": {
      "image/png": "[encoded data removed]",
      "text/plain": [
       "<Figure size 720x720 with 1 Axes>"
      ]
     },
     "metadata": {
      "needs_background": "light"
     },
     "output_type": "display_data"
    }
   ],
   "source": [
    "sentence = bigram_train['input'].values[4]\n",
    "result, attention_plot = predict(sentence, bigram_vec, bigram_index_to_word, gram = 'bi')\n",
    "\n",
    "print('input : ', sentence)\n",
    "print('predicted output : ',result)\n",
    "print('actual output :', bigram_train['output'].values[4])\n",
    "\n",
    "attention_plot = attention_plot[:len(list(result)), :len(list(sentence))]\n",
    "plot_attention(attention_plot, list(sentence), list(result))"
   ]
  },
  {
   "cell_type": "code",
   "execution_count": 89,
   "metadata": {},
   "outputs": [
    {
     "name": "stdout",
     "output_type": "stream",
     "text": [
      "input :  for themseves\n",
      "predicted output :  for themselves\n",
      "actual output : for themselves\n"
     ]
    },
    {
     "data": {
      "image/png": "[encoded data removed]",
      "text/plain": [
       "<Figure size 720x720 with 1 Axes>"
      ]
     },
     "metadata": {
      "needs_background": "light"
     },
     "output_type": "display_data"
    }
   ],
   "source": [
    "sentence = bigram_train['input'].values[6]\n",
    "result, attention_plot = predict(sentence, bigram_vec, bigram_index_to_word, gram = 'bi')\n",
    "\n",
    "print('input : ', sentence)\n",
    "print('predicted output : ',result)\n",
    "print('actual output :', bigram_train['output'].values[6])\n",
    "\n",
    "attention_plot = attention_plot[:len(list(result)), :len(list(sentence))]\n",
    "plot_attention(attention_plot, list(sentence), list(result))"
   ]
  },
  {
   "cell_type": "code",
   "execution_count": 90,
   "metadata": {},
   "outputs": [
    {
     "name": "stdout",
     "output_type": "stream",
     "text": [
      "input :  detil of\n",
      "predicted output :  detail of\n",
      "actual output : detail of\n"
     ]
    },
    {
     "data": {
      "image/png": "[encoded data removed]",
      "text/plain": [
       "<Figure size 720x720 with 1 Axes>"
      ]
     },
     "metadata": {
      "needs_background": "light"
     },
     "output_type": "display_data"
    }
   ],
   "source": [
    "sentence = bigram_train['input'].values[7]\n",
    "result, attention_plot = predict(sentence, bigram_vec, bigram_index_to_word, gram = 'bi')\n",
    "\n",
    "print('input : ', sentence)\n",
    "print('predicted output : ',result)\n",
    "print('actual output :', bigram_train['output'].values[7])\n",
    "\n",
    "attention_plot = attention_plot[:len(list(result)), :len(list(sentence))]\n",
    "plot_attention(attention_plot, list(sentence), list(result))"
   ]
  },
  {
   "cell_type": "code",
   "execution_count": null,
   "metadata": {},
   "outputs": [],
   "source": [
    "val_bleu = 0\n",
    "for i in tqdm(range(bigram_val.shape[0])):\n",
    "    inp = bigram_val['input'].values[i]\n",
    "    out = bigram_val['output'].values[i]\n",
    "    pred, _ = predict(inp, bigram_vec, bigram_index_to_word, gram = 'bi')\n",
    "    val_bleu += sentence_bleu([out], pred)\n",
    "\n",
    "train_bleu = 0\n",
    "for i in tqdm(range(bigram_train.shape[0])):\n",
    "    inp = bigram_train['input'].values[i];\n",
    "    out = bigram_train['output'].values[i]\n",
    "    pred, _ = predict(inp, bigram_vec, bigram_index_to_word, gram = 'bi')\n",
    "    train_bleu += sentence_bleu([out], pred)\n",
    "\n",
    "test_bleu = 0\n",
    "for i in tqdm(range(bigram_test.shape[0])):\n",
    "    inp = bigram_test['input'].values[i]\n",
    "    out = bigram_test['output'].values[i]\n",
    "    pred, _ = predict(inp, bigram_vec, bigram_index_to_word, gram = 'bi')\n",
    "    test_bleu += sentence_bleu([out], pred)\n",
    "    \n",
    "print('BLEU Score on train: ',train_bleu/bigram_train.shape[0])\n",
    "print('BLEU Score on val: ',val_bleu/bigram_val.shape[0])\n",
    "print('BLEU Score on test: ',test_bleu/bigram_test.shape[0])"
   ]
  },
  {
   "cell_type": "markdown",
   "metadata": {},
   "source": [
    "<h3>2.3 TriGram </h3>"
   ]
  },
  {
   "cell_type": "code",
   "execution_count": 91,
   "metadata": {},
   "outputs": [],
   "source": [
    "lstm_size = 256\n",
    "embedding_dim = 100\n",
    "att_units = 256\n",
    "maxlen = 34"
   ]
  },
  {
   "cell_type": "code",
   "execution_count": 92,
   "metadata": {},
   "outputs": [
    {
     "name": "stdout",
     "output_type": "stream",
     "text": [
      "Epoch 1/100\n",
      "6910/6910 [==============================] - ETA: 0s - loss: 0.9333\n",
      "Epoch 00001: val_loss improved from inf to 0.05902, saving model to Attention_concat_lstm_trigram.h5\n",
      "6910/6910 [==============================] - 619s 90ms/step - loss: 0.9333 - val_loss: 0.0590\n",
      "Epoch 2/100\n",
      "6910/6910 [==============================] - ETA: 0s - loss: 0.8491\n",
      "Epoch 00002: val_loss improved from 0.05902 to 0.04622, saving model to Attention_concat_lstm_trigram.h5\n",
      "6910/6910 [==============================] - 622s 90ms/step - loss: 0.8491 - val_loss: 0.0462\n",
      "Epoch 3/100\n",
      "6910/6910 [==============================] - ETA: 0s - loss: 0.8422\n",
      "Epoch 00003: val_loss improved from 0.04622 to 0.04152, saving model to Attention_concat_lstm_trigram.h5\n",
      "6910/6910 [==============================] - 625s 90ms/step - loss: 0.8422 - val_loss: 0.0415\n",
      "Epoch 4/100\n",
      "6910/6910 [==============================] - ETA: 0s - loss: 0.8382\n",
      "Epoch 00004: val_loss improved from 0.04152 to 0.03638, saving model to Attention_concat_lstm_trigram.h5\n",
      "6910/6910 [==============================] - 632s 91ms/step - loss: 0.8382 - val_loss: 0.0364\n",
      "Epoch 5/100\n",
      "6910/6910 [==============================] - ETA: 0s - loss: 0.8360\n",
      "Epoch 00005: val_loss improved from 0.03638 to 0.03372, saving model to Attention_concat_lstm_trigram.h5\n",
      "6910/6910 [==============================] - 629s 91ms/step - loss: 0.8360 - val_loss: 0.0337\n",
      "Epoch 6/100\n",
      "6910/6910 [==============================] - ETA: 0s - loss: 0.8345\n",
      "Epoch 00006: val_loss improved from 0.03372 to 0.03284, saving model to Attention_concat_lstm_trigram.h5\n",
      "6910/6910 [==============================] - 626s 91ms/step - loss: 0.8345 - val_loss: 0.0328\n",
      "Epoch 7/100\n",
      "6910/6910 [==============================] - ETA: 0s - loss: 0.8329\n",
      "Epoch 00007: val_loss improved from 0.03284 to 0.03111, saving model to Attention_concat_lstm_trigram.h5\n",
      "6910/6910 [==============================] - 626s 91ms/step - loss: 0.8329 - val_loss: 0.0311\n",
      "Epoch 8/100\n",
      "6910/6910 [==============================] - ETA: 0s - loss: 0.8318\n",
      "Epoch 00008: val_loss improved from 0.03111 to 0.03011, saving model to Attention_concat_lstm_trigram.h5\n",
      "6910/6910 [==============================] - 627s 91ms/step - loss: 0.8318 - val_loss: 0.0301\n",
      "Epoch 9/100\n",
      "6910/6910 [==============================] - ETA: 0s - loss: 0.8309\n",
      "Epoch 00009: val_loss improved from 0.03011 to 0.02913, saving model to Attention_concat_lstm_trigram.h5\n",
      "6910/6910 [==============================] - 626s 91ms/step - loss: 0.8309 - val_loss: 0.0291\n",
      "Epoch 10/100\n",
      "6910/6910 [==============================] - ETA: 0s - loss: 0.8303\n",
      "Epoch 00010: val_loss improved from 0.02913 to 0.02846, saving model to Attention_concat_lstm_trigram.h5\n",
      "6910/6910 [==============================] - 626s 91ms/step - loss: 0.8303 - val_loss: 0.0285\n",
      "Epoch 11/100\n",
      "6910/6910 [==============================] - ETA: 0s - loss: 0.8299\n",
      "Epoch 00011: val_loss improved from 0.02846 to 0.02764, saving model to Attention_concat_lstm_trigram.h5\n",
      "6910/6910 [==============================] - 625s 90ms/step - loss: 0.8299 - val_loss: 0.0276\n",
      "Epoch 12/100\n",
      "6910/6910 [==============================] - ETA: 0s - loss: 0.8291\n",
      "Epoch 00012: val_loss improved from 0.02764 to 0.02715, saving model to Attention_concat_lstm_trigram.h5\n",
      "6910/6910 [==============================] - 635s 92ms/step - loss: 0.8291 - val_loss: 0.0272\n",
      "Epoch 13/100\n",
      "6910/6910 [==============================] - ETA: 0s - loss: 0.8290\n",
      "Epoch 00013: val_loss improved from 0.02715 to 0.02653, saving model to Attention_concat_lstm_trigram.h5\n",
      "6910/6910 [==============================] - 628s 91ms/step - loss: 0.8290 - val_loss: 0.0265\n",
      "Epoch 14/100\n",
      "6910/6910 [==============================] - ETA: 0s - loss: 0.8283\n",
      "Epoch 00014: val_loss improved from 0.02653 to 0.02601, saving model to Attention_concat_lstm_trigram.h5\n",
      "6910/6910 [==============================] - 630s 91ms/step - loss: 0.8283 - val_loss: 0.0260\n",
      "Epoch 15/100\n",
      "6910/6910 [==============================] - ETA: 0s - loss: 0.8282\n",
      "Epoch 00015: val_loss improved from 0.02601 to 0.02585, saving model to Attention_concat_lstm_trigram.h5\n",
      "6910/6910 [==============================] - 631s 91ms/step - loss: 0.8282 - val_loss: 0.0258\n",
      "Epoch 16/100\n",
      "6910/6910 [==============================] - ETA: 0s - loss: 0.8276\n",
      "Epoch 00016: val_loss improved from 0.02585 to 0.02510, saving model to Attention_concat_lstm_trigram.h5\n",
      "6910/6910 [==============================] - 632s 91ms/step - loss: 0.8276 - val_loss: 0.0251\n",
      "Epoch 17/100\n",
      "6910/6910 [==============================] - ETA: 0s - loss: 0.8272\n",
      "Epoch 00017: val_loss improved from 0.02510 to 0.02482, saving model to Attention_concat_lstm_trigram.h5\n",
      "6910/6910 [==============================] - 632s 91ms/step - loss: 0.8272 - val_loss: 0.0248\n",
      "Epoch 18/100\n",
      "6910/6910 [==============================] - ETA: 0s - loss: 0.8267\n",
      "Epoch 00018: val_loss improved from 0.02482 to 0.02455, saving model to Attention_concat_lstm_trigram.h5\n",
      "6910/6910 [==============================] - 631s 91ms/step - loss: 0.8267 - val_loss: 0.0245\n",
      "Epoch 19/100\n",
      "6910/6910 [==============================] - ETA: 0s - loss: 0.8264\n",
      "Epoch 00019: val_loss improved from 0.02455 to 0.02399, saving model to Attention_concat_lstm_trigram.h5\n",
      "6910/6910 [==============================] - 635s 92ms/step - loss: 0.8264 - val_loss: 0.0240\n",
      "Epoch 20/100\n",
      "6910/6910 [==============================] - ETA: 0s - loss: 0.8261\n",
      "Epoch 00020: val_loss did not improve from 0.02399\n",
      "6910/6910 [==============================] - 634s 92ms/step - loss: 0.8261 - val_loss: 0.0240\n",
      "Epoch 21/100\n",
      "6910/6910 [==============================] - ETA: 0s - loss: 0.8261\n",
      "Epoch 00021: val_loss did not improve from 0.02399\n",
      "6910/6910 [==============================] - 640s 93ms/step - loss: 0.8261 - val_loss: 0.0243\n",
      "Epoch 22/100\n",
      "6910/6910 [==============================] - ETA: 0s - loss: 0.8257\n",
      "Epoch 00022: val_loss improved from 0.02399 to 0.02359, saving model to Attention_concat_lstm_trigram.h5\n",
      "6910/6910 [==============================] - 632s 92ms/step - loss: 0.8257 - val_loss: 0.0236\n",
      "Epoch 23/100\n",
      "6910/6910 [==============================] - ETA: 0s - loss: 0.8259\n",
      "Epoch 00023: val_loss improved from 0.02359 to 0.02338, saving model to Attention_concat_lstm_trigram.h5\n",
      "6910/6910 [==============================] - 633s 92ms/step - loss: 0.8259 - val_loss: 0.0234\n",
      "Epoch 24/100\n",
      "6910/6910 [==============================] - ETA: 0s - loss: 0.8253\n",
      "Epoch 00024: val_loss did not improve from 0.02338\n",
      "6910/6910 [==============================] - 631s 91ms/step - loss: 0.8253 - val_loss: 0.0234\n",
      "Epoch 25/100\n",
      "6910/6910 [==============================] - ETA: 0s - loss: 0.8251\n",
      "Epoch 00025: val_loss improved from 0.02338 to 0.02304, saving model to Attention_concat_lstm_trigram.h5\n",
      "6910/6910 [==============================] - 647s 94ms/step - loss: 0.8251 - val_loss: 0.0230\n",
      "Epoch 26/100\n",
      "6910/6910 [==============================] - ETA: 0s - loss: 0.8251\n",
      "Epoch 00026: val_loss improved from 0.02304 to 0.02287, saving model to Attention_concat_lstm_trigram.h5\n",
      "6910/6910 [==============================] - 657s 95ms/step - loss: 0.8251 - val_loss: 0.0229\n",
      "Epoch 27/100\n",
      "6910/6910 [==============================] - ETA: 0s - loss: 0.8246\n",
      "Epoch 00027: val_loss improved from 0.02287 to 0.02246, saving model to Attention_concat_lstm_trigram.h5\n",
      "6910/6910 [==============================] - 701s 101ms/step - loss: 0.8246 - val_loss: 0.0225\n",
      "Epoch 28/100\n",
      "6910/6910 [==============================] - ETA: 0s - loss: 0.8247\n",
      "Epoch 00028: val_loss improved from 0.02246 to 0.02219, saving model to Attention_concat_lstm_trigram.h5\n",
      "6910/6910 [==============================] - 700s 101ms/step - loss: 0.8247 - val_loss: 0.0222\n",
      "Epoch 29/100\n",
      "6910/6910 [==============================] - ETA: 0s - loss: 0.8247\n",
      "Epoch 00029: val_loss did not improve from 0.02219\n",
      "6910/6910 [==============================] - 657s 95ms/step - loss: 0.8247 - val_loss: 0.0226\n",
      "Epoch 30/100\n",
      "6910/6910 [==============================] - ETA: 0s - loss: 0.8284\n",
      "Epoch 00030: val_loss did not improve from 0.02219\n",
      "6910/6910 [==============================] - 648s 94ms/step - loss: 0.8284 - val_loss: 0.0229\n",
      "Epoch 31/100\n"
     ]
    },
    {
     "name": "stdout",
     "output_type": "stream",
     "text": [
      "6910/6910 [==============================] - ETA: 0s - loss: 0.8247\n",
      "Epoch 00031: val_loss did not improve from 0.02219\n",
      "\n",
      "Epoch 00031: ReduceLROnPlateau reducing learning rate to 0.00010000000474974513.\n",
      "6910/6910 [==============================] - 645s 93ms/step - loss: 0.8247 - val_loss: 0.0227\n",
      "Epoch 32/100\n",
      "6910/6910 [==============================] - ETA: 0s - loss: 0.8227\n",
      "Epoch 00032: val_loss improved from 0.02219 to 0.02104, saving model to Attention_concat_lstm_trigram.h5\n",
      "6910/6910 [==============================] - 660s 96ms/step - loss: 0.8227 - val_loss: 0.0210\n",
      "Epoch 33/100\n",
      "6910/6910 [==============================] - ETA: 0s - loss: 0.8221\n",
      "Epoch 00033: val_loss improved from 0.02104 to 0.02061, saving model to Attention_concat_lstm_trigram.h5\n",
      "6910/6910 [==============================] - 679s 98ms/step - loss: 0.8221 - val_loss: 0.0206\n",
      "Epoch 34/100\n",
      "6910/6910 [==============================] - ETA: 0s - loss: 0.8214\n",
      "Epoch 00034: val_loss improved from 0.02061 to 0.02026, saving model to Attention_concat_lstm_trigram.h5\n",
      "6910/6910 [==============================] - 656s 95ms/step - loss: 0.8214 - val_loss: 0.0203\n",
      "Epoch 35/100\n",
      "6910/6910 [==============================] - ETA: 0s - loss: 0.8212\n",
      "Epoch 00035: val_loss did not improve from 0.02026\n",
      "6910/6910 [==============================] - 658s 95ms/step - loss: 0.8212 - val_loss: 0.0203\n",
      "Epoch 36/100\n",
      "6910/6910 [==============================] - ETA: 0s - loss: 0.8211\n",
      "Epoch 00036: val_loss improved from 0.02026 to 0.02003, saving model to Attention_concat_lstm_trigram.h5\n",
      "6910/6910 [==============================] - 648s 94ms/step - loss: 0.8211 - val_loss: 0.0200\n",
      "Epoch 37/100\n",
      "6910/6910 [==============================] - ETA: 0s - loss: 0.8209\n",
      "Epoch 00037: val_loss improved from 0.02003 to 0.01989, saving model to Attention_concat_lstm_trigram.h5\n",
      "6910/6910 [==============================] - 656s 95ms/step - loss: 0.8209 - val_loss: 0.0199\n",
      "Epoch 38/100\n",
      "6910/6910 [==============================] - ETA: 0s - loss: 0.8207\n",
      "Epoch 00038: val_loss improved from 0.01989 to 0.01973, saving model to Attention_concat_lstm_trigram.h5\n",
      "6910/6910 [==============================] - 651s 94ms/step - loss: 0.8207 - val_loss: 0.0197\n",
      "Epoch 39/100\n",
      "6910/6910 [==============================] - ETA: 0s - loss: 0.8205\n",
      "Epoch 00039: val_loss did not improve from 0.01973\n",
      "6910/6910 [==============================] - 641s 93ms/step - loss: 0.8205 - val_loss: 0.0197\n",
      "Epoch 40/100\n",
      "6910/6910 [==============================] - ETA: 0s - loss: 0.8203\n",
      "Epoch 00040: val_loss improved from 0.01973 to 0.01965, saving model to Attention_concat_lstm_trigram.h5\n",
      "6910/6910 [==============================] - 694s 100ms/step - loss: 0.8203 - val_loss: 0.0196\n",
      "Epoch 41/100\n",
      "6910/6910 [==============================] - ETA: 0s - loss: 0.8205\n",
      "Epoch 00041: val_loss improved from 0.01965 to 0.01948, saving model to Attention_concat_lstm_trigram.h5\n",
      "6910/6910 [==============================] - 649s 94ms/step - loss: 0.8205 - val_loss: 0.0195\n",
      "Epoch 42/100\n",
      "6910/6910 [==============================] - ETA: 0s - loss: 0.8204\n",
      "Epoch 00042: val_loss improved from 0.01948 to 0.01943, saving model to Attention_concat_lstm_trigram.h5\n",
      "6910/6910 [==============================] - 653s 94ms/step - loss: 0.8204 - val_loss: 0.0194\n",
      "Epoch 43/100\n",
      "6910/6910 [==============================] - ETA: 0s - loss: 0.8200\n",
      "Epoch 00043: val_loss improved from 0.01943 to 0.01934, saving model to Attention_concat_lstm_trigram.h5\n",
      "6910/6910 [==============================] - 671s 97ms/step - loss: 0.8200 - val_loss: 0.0193\n",
      "Epoch 44/100\n",
      "6910/6910 [==============================] - ETA: 0s - loss: 0.8200\n",
      "Epoch 00044: val_loss did not improve from 0.01934\n",
      "6910/6910 [==============================] - 679s 98ms/step - loss: 0.8200 - val_loss: 0.0194\n",
      "Epoch 45/100\n",
      "6910/6910 [==============================] - ETA: 0s - loss: 0.8203\n",
      "Epoch 00045: val_loss improved from 0.01934 to 0.01928, saving model to Attention_concat_lstm_trigram.h5\n",
      "6910/6910 [==============================] - 658s 95ms/step - loss: 0.8203 - val_loss: 0.0193\n",
      "Epoch 46/100\n",
      "6910/6910 [==============================] - ETA: 0s - loss: 0.8198- ETA:\n",
      "Epoch 00046: val_loss improved from 0.01928 to 0.01921, saving model to Attention_concat_lstm_trigram.h5\n",
      "6910/6910 [==============================] - 653s 95ms/step - loss: 0.8198 - val_loss: 0.0192\n",
      "Epoch 47/100\n",
      "6910/6910 [==============================] - ETA: 0s - loss: 0.8194\n",
      "Epoch 00047: val_loss improved from 0.01921 to 0.01915, saving model to Attention_concat_lstm_trigram.h5\n",
      "6910/6910 [==============================] - 650s 94ms/step - loss: 0.8194 - val_loss: 0.0191\n",
      "Epoch 48/100\n",
      "6910/6910 [==============================] - ETA: 0s - loss: 0.8199\n",
      "Epoch 00048: val_loss did not improve from 0.01915\n",
      "6910/6910 [==============================] - 661s 96ms/step - loss: 0.8199 - val_loss: 0.0192\n",
      "Epoch 49/100\n",
      "6910/6910 [==============================] - ETA: 0s - loss: 0.8197\n",
      "Epoch 00049: val_loss improved from 0.01915 to 0.01910, saving model to Attention_concat_lstm_trigram.h5\n",
      "6910/6910 [==============================] - 659s 95ms/step - loss: 0.8197 - val_loss: 0.0191\n",
      "Epoch 50/100\n",
      "6910/6910 [==============================] - ETA: 0s - loss: 0.8198\n",
      "Epoch 00050: val_loss improved from 0.01910 to 0.01904, saving model to Attention_concat_lstm_trigram.h5\n",
      "6910/6910 [==============================] - 642s 93ms/step - loss: 0.8198 - val_loss: 0.0190\n",
      "Epoch 51/100\n",
      "6910/6910 [==============================] - ETA: 0s - loss: 0.8194\n",
      "Epoch 00051: val_loss improved from 0.01904 to 0.01896, saving model to Attention_concat_lstm_trigram.h5\n",
      "6910/6910 [==============================] - 646s 93ms/step - loss: 0.8194 - val_loss: 0.0190\n",
      "Epoch 52/100\n",
      "6910/6910 [==============================] - ETA: 0s - loss: 0.8194\n",
      "Epoch 00052: val_loss improved from 0.01896 to 0.01895, saving model to Attention_concat_lstm_trigram.h5\n",
      "6910/6910 [==============================] - 652s 94ms/step - loss: 0.8194 - val_loss: 0.0190\n",
      "Epoch 53/100\n",
      "6910/6910 [==============================] - ETA: 0s - loss: 0.8198\n",
      "Epoch 00053: val_loss improved from 0.01895 to 0.01893, saving model to Attention_concat_lstm_trigram.h5\n",
      "6910/6910 [==============================] - 670s 97ms/step - loss: 0.8198 - val_loss: 0.0189\n",
      "Epoch 54/100\n",
      "6910/6910 [==============================] - ETA: 0s - loss: 0.8194\n",
      "Epoch 00054: val_loss improved from 0.01893 to 0.01883, saving model to Attention_concat_lstm_trigram.h5\n",
      "6910/6910 [==============================] - 657s 95ms/step - loss: 0.8194 - val_loss: 0.0188\n",
      "Epoch 55/100\n",
      "6910/6910 [==============================] - ETA: 0s - loss: 0.8196\n",
      "Epoch 00055: val_loss improved from 0.01883 to 0.01872, saving model to Attention_concat_lstm_trigram.h5\n",
      "6910/6910 [==============================] - 654s 95ms/step - loss: 0.8196 - val_loss: 0.0187\n",
      "Epoch 56/100\n",
      "6910/6910 [==============================] - ETA: 0s - loss: 0.8190\n",
      "Epoch 00056: val_loss did not improve from 0.01872\n",
      "6910/6910 [==============================] - 651s 94ms/step - loss: 0.8190 - val_loss: 0.0188\n",
      "Epoch 57/100\n",
      "6910/6910 [==============================] - ETA: 0s - loss: 0.8196\n",
      "Epoch 00057: val_loss did not improve from 0.01872\n",
      "6910/6910 [==============================] - 652s 94ms/step - loss: 0.8196 - val_loss: 0.0188\n",
      "Epoch 58/100\n",
      "6910/6910 [==============================] - ETA: 0s - loss: 0.8190\n",
      "Epoch 00058: val_loss did not improve from 0.01872\n",
      "\n",
      "Epoch 00058: ReduceLROnPlateau reducing learning rate to 1.0000000474974514e-05.\n",
      "6910/6910 [==============================] - 658s 95ms/step - loss: 0.8190 - val_loss: 0.0187\n",
      "Epoch 59/100\n",
      "6910/6910 [==============================] - ETA: 0s - loss: 0.8188\n",
      "Epoch 00059: val_loss improved from 0.01872 to 0.01862, saving model to Attention_concat_lstm_trigram.h5\n",
      "6910/6910 [==============================] - 660s 95ms/step - loss: 0.8188 - val_loss: 0.0186\n",
      "Epoch 60/100\n",
      "6910/6910 [==============================] - ETA: 0s - loss: 0.8192\n",
      "Epoch 00060: val_loss improved from 0.01862 to 0.01860, saving model to Attention_concat_lstm_trigram.h5\n",
      "6910/6910 [==============================] - 672s 97ms/step - loss: 0.8192 - val_loss: 0.0186\n",
      "Epoch 61/100\n"
     ]
    },
    {
     "name": "stdout",
     "output_type": "stream",
     "text": [
      "6910/6910 [==============================] - ETA: 0s - loss: 0.8188\n",
      "Epoch 00061: val_loss improved from 0.01860 to 0.01858, saving model to Attention_concat_lstm_trigram.h5\n",
      "6910/6910 [==============================] - 673s 97ms/step - loss: 0.8188 - val_loss: 0.0186\n",
      "Epoch 62/100\n",
      "6910/6910 [==============================] - ETA: 0s - loss: 0.8192\n",
      "Epoch 00062: val_loss improved from 0.01858 to 0.01857, saving model to Attention_concat_lstm_trigram.h5\n",
      "\n",
      "Epoch 00062: ReduceLROnPlateau reducing learning rate to 1.0000000656873453e-06.\n",
      "6910/6910 [==============================] - 684s 99ms/step - loss: 0.8192 - val_loss: 0.0186\n",
      "Epoch 63/100\n",
      "6910/6910 [==============================] - ETA: 0s - loss: 0.8191\n",
      "Epoch 00063: val_loss improved from 0.01857 to 0.01856, saving model to Attention_concat_lstm_trigram.h5\n",
      "6910/6910 [==============================] - 650s 94ms/step - loss: 0.8191 - val_loss: 0.0186\n",
      "Epoch 64/100\n",
      "6910/6910 [==============================] - ETA: 0s - loss: 0.8191\n",
      "Epoch 00064: val_loss improved from 0.01856 to 0.01856, saving model to Attention_concat_lstm_trigram.h5\n",
      "6910/6910 [==============================] - 640s 93ms/step - loss: 0.8191 - val_loss: 0.0186\n",
      "Epoch 65/100\n",
      "6910/6910 [==============================] - ETA: 0s - loss: 0.8192\n",
      "Epoch 00065: val_loss improved from 0.01856 to 0.01854, saving model to Attention_concat_lstm_trigram.h5\n",
      "\n",
      "Epoch 00065: ReduceLROnPlateau reducing learning rate to 1.0000001111620805e-07.\n",
      "6910/6910 [==============================] - 638s 92ms/step - loss: 0.8192 - val_loss: 0.0185\n",
      "Epoch 66/100\n",
      "6910/6910 [==============================] - ETA: 0s - loss: 0.8191\n",
      "Epoch 00066: val_loss did not improve from 0.01854\n",
      "6910/6910 [==============================] - 2044s 296ms/step - loss: 0.8191 - val_loss: 0.0185\n",
      "Epoch 67/100\n",
      "6910/6910 [==============================] - ETA: 0s - loss: 0.8187\n",
      "Epoch 00067: val_loss did not improve from 0.01854\n",
      "6910/6910 [==============================] - 642s 93ms/step - loss: 0.8187 - val_loss: 0.0185\n",
      "Epoch 68/100\n",
      "6910/6910 [==============================] - ETA: 0s - loss: 0.8187\n",
      "Epoch 00068: val_loss did not improve from 0.01854\n",
      "\n",
      "Epoch 00068: ReduceLROnPlateau reducing learning rate to 1.000000082740371e-08.\n",
      "6910/6910 [==============================] - 672s 97ms/step - loss: 0.8187 - val_loss: 0.0185\n",
      "Epoch 69/100\n",
      "6910/6910 [==============================] - ETA: 0s - loss: 0.8188\n",
      "Epoch 00069: val_loss did not improve from 0.01854\n",
      "6910/6910 [==============================] - 689s 100ms/step - loss: 0.8188 - val_loss: 0.0185\n",
      "Epoch 70/100\n",
      "6910/6910 [==============================] - ETA: 0s - loss: 0.8191\n",
      "Epoch 00070: val_loss did not improve from 0.01854\n",
      "6910/6910 [==============================] - 652s 94ms/step - loss: 0.8191 - val_loss: 0.0185\n",
      "Epoch 00070: early stopping\n"
     ]
    },
    {
     "data": {
      "text/plain": [
       "<tensorflow.python.keras.callbacks.History at 0x2269658dcc8>"
      ]
     },
     "execution_count": 92,
     "metadata": {},
     "output_type": "execute_result"
    }
   ],
   "source": [
    "model = encoder_decoder(vocab_size, vocab_size, embedding_dim, lstm_size, lstm_size, maxlen, maxlen, 'concat', att_units, batch_size)\n",
    "model.compile(optimizer = 'Adam', loss = loss_function)\n",
    "\n",
    "callbacks = [ModelCheckpoint('Attention_concat_lstm_trigram.h5', save_best_only= True, verbose = 1),\n",
    "             EarlyStopping(patience = 5, verbose = 1),\n",
    "             ReduceLROnPlateau(patience = 3, verbose = 1)]\n",
    "\n",
    "model.fit(x = trigram_train_dataset, \n",
    "          steps_per_epoch = trigram_train.shape[0]//batch_size,\n",
    "          validation_data = trigram_val_dataset,\n",
    "          validation_steps = trigram_val.shape[0]//batch_size,\n",
    "          epochs = 100,\n",
    "          verbose = 1,\n",
    "          callbacks = callbacks)"
   ]
  },
  {
   "cell_type": "code",
   "execution_count": 93,
   "metadata": {},
   "outputs": [],
   "source": [
    "pred_model = pred_Encoder_decoder(vocab_size, vocab_size, embedding_dim, lstm_size, lstm_size, maxlen, maxlen, 'concat', att_units, trigram_word_to_index)\n",
    "pred_model.compile(optimizer = 'Adam', loss = loss_function)\n",
    "pred_model.build(input_shape= (None, 1, maxlen))\n",
    "pred_model.load_weights('Attention_concat_lstm_trigram.h5')"
   ]
  },
  {
   "cell_type": "code",
   "execution_count": 97,
   "metadata": {},
   "outputs": [
    {
     "name": "stdout",
     "output_type": "stream",
     "text": [
      "input :  woman oAf him\n",
      "predicted output :  woman of him\n",
      "actual output : woman of him\n"
     ]
    },
    {
     "data": {
      "image/png": "[encoded data removed]",
      "text/plain": [
       "<Figure size 720x720 with 1 Axes>"
      ]
     },
     "metadata": {
      "needs_background": "light"
     },
     "output_type": "display_data"
    }
   ],
   "source": [
    "sentence = trigram_train['input'].values[4]\n",
    "result, attention_plot = predict(sentence, trigram_vec, trigram_index_to_word, gram = 'tri')\n",
    "\n",
    "print('input : ', sentence)\n",
    "print('predicted output : ',result)\n",
    "print('actual output :', trigram_train['output'].values[4])\n",
    "\n",
    "attention_plot = attention_plot[:len(list(result)), :len(list(sentence))]\n",
    "plot_attention(attention_plot, list(sentence), list(result))"
   ]
  },
  {
   "cell_type": "code",
   "execution_count": 98,
   "metadata": {},
   "outputs": [
    {
     "name": "stdout",
     "output_type": "stream",
     "text": [
      "input :  endurXe a collision\n",
      "predicted output :  endure a collision\n",
      "actual output : endure a collision\n"
     ]
    },
    {
     "data": {
      "image/png": "[encoded data removed]",
      "text/plain": [
       "<Figure size 720x720 with 1 Axes>"
      ]
     },
     "metadata": {
      "needs_background": "light"
     },
     "output_type": "display_data"
    }
   ],
   "source": [
    "sentence = trigram_train['input'].values[7]\n",
    "result, attention_plot = predict(sentence, trigram_vec, trigram_index_to_word, gram = 'tri')\n",
    "\n",
    "print('input : ', sentence)\n",
    "print('predicted output : ',result)\n",
    "print('actual output :', trigram_train['output'].values[7])\n",
    "\n",
    "attention_plot = attention_plot[:len(list(result)), :len(list(sentence))]\n",
    "plot_attention(attention_plot, list(sentence), list(result))"
   ]
  },
  {
   "cell_type": "code",
   "execution_count": 99,
   "metadata": {},
   "outputs": [
    {
     "name": "stdout",
     "output_type": "stream",
     "text": [
      "input :  marshals sitti g on\n",
      "predicted output :  marshals sitting on\n",
      "actual output : marshals sitting on\n"
     ]
    },
    {
     "data": {
      "image/png": "[encoded data removed]",
      "text/plain": [
       "<Figure size 720x720 with 1 Axes>"
      ]
     },
     "metadata": {
      "needs_background": "light"
     },
     "output_type": "display_data"
    }
   ],
   "source": [
    "sentence = trigram_train['input'].values[10]\n",
    "result, attention_plot = predict(sentence, trigram_vec, trigram_index_to_word, gram = 'tri')\n",
    "\n",
    "print('input : ', sentence)\n",
    "print('predicted output : ',result)\n",
    "print('actual output :', trigram_train['output'].values[10])\n",
    "\n",
    "attention_plot = attention_plot[:len(list(result)), :len(list(sentence))]\n",
    "plot_attention(attention_plot, list(sentence), list(result))"
   ]
  },
  {
   "cell_type": "code",
   "execution_count": null,
   "metadata": {},
   "outputs": [],
   "source": [
    "val_bleu = 0\n",
    "for i in tqdm(range(trigram_val.shape[0])):\n",
    "    inp = trigram_val['input'].values[i]\n",
    "    out = trigram_val['output'].values[i]\n",
    "    pred, _ = predict(inp, trigram_vec, trigram_index_to_word, gram = 'tri')\n",
    "    val_bleu += sentence_bleu([out], pred)\n",
    "\n",
    "train_bleu = 0\n",
    "for i in tqdm(range(trigram_train.shape[0])):\n",
    "    inp = trigram_train['input'].values[i];\n",
    "    out = trigram_train['output'].values[i]\n",
    "    pred, _ = predict(inp, trigram_vec, trigram_index_to_word, gram = 'tri')\n",
    "    train_bleu += sentence_bleu([out], pred)\n",
    "\n",
    "test_bleu = 0\n",
    "for i in tqdm(range(trigram_test.shape[0])):\n",
    "    inp = trigram_test['input'].values[i]\n",
    "    out = trigram_test['output'].values[i]\n",
    "    pred, _ = predict(inp, trigram_vec, trigram_index_to_word, gram = 'tri')\n",
    "    test_bleu += sentence_bleu([out], pred)\n",
    "    \n",
    "print('BLEU Score on train: ',train_bleu/trigram_train.shape[0])\n",
    "print('BLEU Score on val: ',val_bleu/trigram_val.shape[0])\n",
    "print('BLEU Score on test: ',test_bleu/trigram_test.shape[0])"
   ]
  },
  {
   "cell_type": "markdown",
   "metadata": {},
   "source": [
    "<h2>3. Seq2Seq Bi-LSTM with Attention Mechanism</h2>"
   ]
  },
  {
   "cell_type": "code",
   "execution_count": 106,
   "metadata": {},
   "outputs": [],
   "source": [
    "class Encoder(tf.keras.layers.Layer):\n",
    "    def __init__(self, vocab_size, embedding_size, lstm_size, input_length):\n",
    "        super(Encoder, self).__init__()\n",
    "        self.lstm_size = lstm_size\n",
    "        self.enc_embed = Embedding(input_dim = vocab_size, output_dim = embedding_size)\n",
    "        self.enc_lstm = Bidirectional(LSTM(lstm_size, return_sequences = True, return_state = True, dropout = 0.4))\n",
    "    \n",
    "    def call(self, input_sequence, states):\n",
    "        embedding = self.enc_embed(input_sequence)\n",
    "        output_state, enc_frwd_h, enc_frwd_c, enc_bkwd_h, enc_bkwd_c = self.enc_lstm(embedding, initial_state = states)\n",
    "        return output_state, enc_frwd_h, enc_frwd_c, enc_bkwd_h, enc_bkwd_c\n",
    "    \n",
    "    def initialize_states(self, batch_size):\n",
    "        return [tf.zeros((batch_size, self.lstm_size)), tf.zeros((batch_size, self.lstm_size)),\n",
    "                tf.zeros((batch_size, self.lstm_size)), tf.zeros((batch_size, self.lstm_size))]\n",
    "\n",
    "class Attention(tf.keras.layers.Layer):\n",
    "    def __init__(self,scoring_function, att_units):\n",
    "        super(Attention, self).__init__()\n",
    "        self.scoring_function = scoring_function\n",
    "        if scoring_function == 'dot':\n",
    "            self.dot = Dot(axes = (1, 2))\n",
    "        elif scoring_function == 'general':\n",
    "            self.W = Dense(att_units)\n",
    "            self.dot = Dot(axes = (1, 2))\n",
    "        elif scoring_function == 'concat':\n",
    "            self.W1 = Dense(att_units)\n",
    "            self.W2 = Dense(att_units)\n",
    "            self.W3 = Dense(att_units)\n",
    "            self.V = Dense(1)\n",
    "            \n",
    "    def call(self, dec_frwd_state, dec_bkwd_state, encoder_output):\n",
    "        dec_frwd_state = tf.expand_dims(dec_frwd_state, 1) \n",
    "        dec_bkwd_state = tf.expand_dims(dec_bkwd_state, 1)\n",
    "#         \n",
    "        if self.scoring_function == 'dot':\n",
    "            score = tf.transpose(self.dot([tf.transpose(decoder_hidden_state, (0, 2, 1)), encoder_output]), (0, 2,1))           \n",
    "        elif self.scoring_function == 'general':\n",
    "            mul = self.W(encoder_output)\n",
    "            score = tf.transpose(self.dot([tf.transpose(decoder_hidden_state, (0, 2, 1)), mul]), (0, 2,1))           \n",
    "        elif self.scoring_function == 'concat':\n",
    "            inter = self.W1(dec_frwd_state) + self.W2(dec_bkwd_state) + self.W3(encoder_output)\n",
    "            tan = tf.nn.tanh(inter)\n",
    "            score = self.V(tan)\n",
    "        attention_weights = tf.nn.softmax(score, axis =1)\n",
    "        context_vector = attention_weights * encoder_output\n",
    "        context_vector = tf.reduce_sum(context_vector, axis=1)\n",
    "        return context_vector, attention_weights\n",
    "\n",
    "class OneStepDecoder(tf.keras.layers.Layer):\n",
    "    def __init__(self, vocab_size, embedding_dim, input_length, dec_units ,score_fun ,att_units):\n",
    "        super(OneStepDecoder, self).__init__()\n",
    "      # Initialize decoder embedding layer, LSTM and any other objects needed\n",
    "        self.embed_dec = Embedding(input_dim = vocab_size, output_dim = embedding_dim)\n",
    "        self.lstm = Bidirectional(LSTM(dec_units, return_sequences = True, return_state = True, dropout = 0.4))\n",
    "        self.attention = Attention(scoring_function = score_fun, att_units = att_units)\n",
    "        self.fc = Dense(vocab_size)\n",
    "    \n",
    "    def call(self,input_to_decoder, encoder_output, state_frwd_h, state_frwd_c, state_bkwd_h, state_bkwd_c):\n",
    "        embed = self.embed_dec(input_to_decoder)\n",
    "        context_vect, attention_weights = self.attention(state_frwd_h, state_bkwd_h, encoder_output)    \n",
    "        final_inp = tf.concat([tf.expand_dims(context_vect, 1), embed], axis = -1)\n",
    "        out, dec_frwd_h, dec_frwd_c, dec_bkwd_h, dec_bkwd_c = self.lstm(final_inp, [state_frwd_h, state_frwd_c, state_bkwd_h, state_bkwd_c])\n",
    "        out = tf.reshape(out, (-1, out.shape[2]))\n",
    "        out = Dropout(0.5)(out)\n",
    "        output = self.fc(out)\n",
    "        return output, dec_frwd_h, dec_frwd_c, dec_bkwd_h, dec_bkwd_c, attention_weights, context_vect\n",
    "\n",
    "class encoder_decoder(tf.keras.Model):\n",
    "    def __init__(self, vocab_size, embedding_dim, enc_units, dec_units, max_len, score_fun, att_units, batch_size):\n",
    "        #Intialize objects from encoder decoder\n",
    "        super(encoder_decoder, self).__init__()\n",
    "        self.encoder = Encoder(vocab_size, embedding_dim, enc_units, max_len)\n",
    "        self.one_step_decoder = OneStepDecoder(vocab_size, embedding_dim, max_len, dec_units ,score_fun ,att_units)\n",
    "        self.batch_size = batch_size\n",
    "    \n",
    "    def call(self, data):\n",
    "        enc_inp, dec_inp = data[0], data[1]\n",
    "        initial_state = self.encoder.initialize_states(self.batch_size)\n",
    "        enc_output, enc_frwd_h, enc_frwd_c, enc_bkwd_h, enc_bkwd_c = self.encoder(enc_inp, initial_state)\n",
    "        all_outputs = tf.TensorArray(dtype = tf.float32, size= max_len)\n",
    "        \n",
    "        dec_frwd_h = enc_frwd_h\n",
    "        dec_frwd_c = enc_frwd_c\n",
    "        dec_bkwd_h = enc_bkwd_h\n",
    "        dec_bkwd_c = enc_bkwd_c\n",
    "        for timestep in range(max_len):\n",
    "            # Call onestepdecoder for each token in decoder_input\n",
    "            output, dec_frwd_h, dec_frwd_c, dec_bkwd_h, dec_bkwd_c, _, _ = self.one_step_decoder(dec_inp[:, timestep:timestep+1], enc_output, dec_frwd_h, dec_frwd_c, dec_bkwd_h, dec_bkwd_c)\n",
    "            # Store the output in tensorarray\n",
    "            all_outputs = all_outputs.write(timestep, output)\n",
    "        # Return the tensor array\n",
    "        all_outputs = tf.transpose(all_outputs.stack(), (1, 0, 2))\n",
    "        # return the decoder output\n",
    "        return all_outputs\n",
    "    \n",
    "class pred_Encoder_decoder(tf.keras.Model): \n",
    "    def __init__(self, inp_vocab_size, out_vocab_size, embedding_dim, enc_units, dec_units, max_len_ita, max_len_eng, score_fun, att_units, word_to_index):\n",
    "        #Intialize objects from encoder decoder\n",
    "        super(pred_Encoder_decoder, self).__init__()\n",
    "        self.encoder = Encoder(inp_vocab_size, embedding_dim, enc_units, max_len_ita)\n",
    "        self.one_step_decoder = OneStepDecoder(out_vocab_size, embedding_dim, max_len_eng, dec_units, score_fun, att_units)\n",
    "        self.word_to_index = word_to_index\n",
    "        \n",
    "    def call(self, params):\n",
    "        enc_inp = params[0]\n",
    "        initial_state = self.encoder.initialize_states(1)\n",
    "        enc_output, enc_frwd_h, enc_frwd_c, enc_bkwd_h, enc_bkwd_c = self.encoder(enc_inp, initial_state)\n",
    "        pred = tf.expand_dims([self.word_to_index['<SOW>']], 0)\n",
    "        all_pred = []\n",
    "        all_attention = []\n",
    "\n",
    "        dec_frwd_h = enc_frwd_h\n",
    "        dec_frwd_c = enc_frwd_c\n",
    "        dec_bkwd_h = enc_bkwd_h\n",
    "        dec_bkwd_c = enc_bkwd_c\n",
    "        for timestep in range(max_len):\n",
    "            # Call onestepdecoder for each token in decoder_input\n",
    "            output, dec_frwd_h, dec_frwd_c, dec_bkwd_h, dec_bkwd_c, attention, _ = self.one_step_decoder(pred, enc_output, dec_frwd_h, dec_frwd_c, dec_bkwd_h, dec_bkwd_c)\n",
    "            pred = tf.argmax(output, axis = -1)\n",
    "            all_pred.append(pred)\n",
    "            pred = tf.expand_dims(pred, 0)\n",
    "            all_attention.append(attention)\n",
    "\n",
    "        return all_pred, all_attention"
   ]
  },
  {
   "cell_type": "markdown",
   "metadata": {},
   "source": [
    "<h3>3.1 UniGram</h3>"
   ]
  },
  {
   "cell_type": "code",
   "execution_count": null,
   "metadata": {},
   "outputs": [],
   "source": [
    "lstm_size = 256\n",
    "embedding_dim = 100\n",
    "att_units = 256\n",
    "maxlen = 22"
   ]
  },
  {
   "cell_type": "code",
   "execution_count": 41,
   "metadata": {},
   "outputs": [
    {
     "name": "stdout",
     "output_type": "stream",
     "text": [
      "Epoch 1/50\n",
      "258/258 [==============================] - ETA: 0s - loss: 0.9726\n",
      "Epoch 00001: val_loss improved from inf to 0.53295, saving model to concat_best.h5\n",
      "258/258 [==============================] - 33s 127ms/step - loss: 0.9726 - val_loss: 0.5329\n",
      "Epoch 2/50\n",
      "258/258 [==============================] - ETA: 0s - loss: 0.3148\n",
      "Epoch 00002: val_loss improved from 0.53295 to 0.16296, saving model to concat_best.h5\n",
      "258/258 [==============================] - 23s 89ms/step - loss: 0.3148 - val_loss: 0.1630\n",
      "Epoch 3/50\n",
      "258/258 [==============================] - ETA: 0s - loss: 0.1810\n",
      "Epoch 00003: val_loss improved from 0.16296 to 0.13154, saving model to concat_best.h5\n",
      "258/258 [==============================] - 24s 91ms/step - loss: 0.1810 - val_loss: 0.1315\n",
      "Epoch 4/50\n",
      "258/258 [==============================] - ETA: 0s - loss: 0.1521\n",
      "Epoch 00004: val_loss improved from 0.13154 to 0.12262, saving model to concat_best.h5\n",
      "258/258 [==============================] - 24s 93ms/step - loss: 0.1521 - val_loss: 0.1226\n",
      "Epoch 5/50\n",
      "258/258 [==============================] - ETA: 0s - loss: 0.1372\n",
      "Epoch 00005: val_loss improved from 0.12262 to 0.11498, saving model to concat_best.h5\n",
      "258/258 [==============================] - 24s 93ms/step - loss: 0.1372 - val_loss: 0.1150\n",
      "Epoch 6/50\n",
      "258/258 [==============================] - ETA: 0s - loss: 0.1274\n",
      "Epoch 00006: val_loss improved from 0.11498 to 0.11055, saving model to concat_best.h5\n",
      "258/258 [==============================] - 24s 93ms/step - loss: 0.1274 - val_loss: 0.1105\n",
      "Epoch 7/50\n",
      "258/258 [==============================] - ETA: 0s - loss: 0.1208\n",
      "Epoch 00007: val_loss improved from 0.11055 to 0.10576, saving model to concat_best.h5\n",
      "258/258 [==============================] - 24s 92ms/step - loss: 0.1208 - val_loss: 0.1058\n",
      "Epoch 8/50\n",
      "258/258 [==============================] - ETA: 0s - loss: 0.1139\n",
      "Epoch 00008: val_loss did not improve from 0.10576\n",
      "258/258 [==============================] - 24s 93ms/step - loss: 0.1139 - val_loss: 0.1067\n",
      "Epoch 9/50\n",
      "258/258 [==============================] - ETA: 0s - loss: 0.1096\n",
      "Epoch 00009: val_loss improved from 0.10576 to 0.10549, saving model to concat_best.h5\n",
      "258/258 [==============================] - 24s 93ms/step - loss: 0.1096 - val_loss: 0.1055\n",
      "Epoch 10/50\n",
      "258/258 [==============================] - ETA: 0s - loss: 0.1053\n",
      "Epoch 00010: val_loss improved from 0.10549 to 0.10507, saving model to concat_best.h5\n",
      "258/258 [==============================] - 24s 94ms/step - loss: 0.1053 - val_loss: 0.1051\n",
      "Epoch 11/50\n",
      "258/258 [==============================] - ETA: 0s - loss: 0.1010\n",
      "Epoch 00011: val_loss improved from 0.10507 to 0.10283, saving model to concat_best.h5\n",
      "258/258 [==============================] - 24s 94ms/step - loss: 0.1010 - val_loss: 0.1028\n",
      "Epoch 12/50\n",
      "258/258 [==============================] - ETA: 0s - loss: 0.0977\n",
      "Epoch 00012: val_loss improved from 0.10283 to 0.10107, saving model to concat_best.h5\n",
      "258/258 [==============================] - 24s 95ms/step - loss: 0.0977 - val_loss: 0.1011\n",
      "Epoch 13/50\n",
      "258/258 [==============================] - ETA: 0s - loss: 0.0922\n",
      "Epoch 00013: val_loss improved from 0.10107 to 0.10079, saving model to concat_best.h5\n",
      "258/258 [==============================] - 25s 95ms/step - loss: 0.0922 - val_loss: 0.1008\n",
      "Epoch 14/50\n",
      "258/258 [==============================] - ETA: 0s - loss: 0.0890\n",
      "Epoch 00014: val_loss did not improve from 0.10079\n",
      "258/258 [==============================] - 25s 95ms/step - loss: 0.0890 - val_loss: 0.1013\n",
      "Epoch 15/50\n",
      "258/258 [==============================] - ETA: 0s - loss: 0.0858\n",
      "Epoch 00015: val_loss did not improve from 0.10079\n",
      "258/258 [==============================] - 25s 95ms/step - loss: 0.0858 - val_loss: 0.1018\n",
      "Epoch 16/50\n",
      "258/258 [==============================] - ETA: 0s - loss: 0.0827- ETA\n",
      "Epoch 00016: val_loss did not improve from 0.10079\n",
      "\n",
      "Epoch 00016: ReduceLROnPlateau reducing learning rate to 0.00010000000474974513.\n",
      "258/258 [==============================] - 25s 96ms/step - loss: 0.0827 - val_loss: 0.1014\n",
      "Epoch 17/50\n",
      "258/258 [==============================] - ETA: 0s - loss: 0.0728\n",
      "Epoch 00017: val_loss improved from 0.10079 to 0.09775, saving model to concat_best.h5\n",
      "258/258 [==============================] - 25s 96ms/step - loss: 0.0728 - val_loss: 0.0977\n",
      "Epoch 18/50\n",
      "258/258 [==============================] - ETA: 0s - loss: 0.0703\n",
      "Epoch 00018: val_loss improved from 0.09775 to 0.09762, saving model to concat_best.h5\n",
      "258/258 [==============================] - 25s 96ms/step - loss: 0.0703 - val_loss: 0.0976\n",
      "Epoch 19/50\n",
      "258/258 [==============================] - ETA: 0s - loss: 0.0689\n",
      "Epoch 00019: val_loss improved from 0.09762 to 0.09739, saving model to concat_best.h5\n",
      "258/258 [==============================] - 25s 96ms/step - loss: 0.0689 - val_loss: 0.0974\n",
      "Epoch 20/50\n",
      "258/258 [==============================] - ETA: 0s - loss: 0.0680\n",
      "Epoch 00020: val_loss did not improve from 0.09739\n",
      "258/258 [==============================] - 25s 96ms/step - loss: 0.0680 - val_loss: 0.0975\n",
      "Epoch 21/50\n",
      "258/258 [==============================] - ETA: 0s - loss: 0.0665\n",
      "Epoch 00021: val_loss improved from 0.09739 to 0.09734, saving model to concat_best.h5\n",
      "258/258 [==============================] - 25s 96ms/step - loss: 0.0665 - val_loss: 0.0973\n",
      "Epoch 22/50\n",
      "258/258 [==============================] - ETA: 0s - loss: 0.0660\n",
      "Epoch 00022: val_loss did not improve from 0.09734\n",
      "\n",
      "Epoch 00022: ReduceLROnPlateau reducing learning rate to 1.0000000474974514e-05.\n",
      "258/258 [==============================] - 25s 96ms/step - loss: 0.0660 - val_loss: 0.0978\n",
      "Epoch 23/50\n",
      "258/258 [==============================] - ETA: 0s - loss: 0.0643\n",
      "Epoch 00023: val_loss did not improve from 0.09734\n",
      "258/258 [==============================] - 25s 96ms/step - loss: 0.0643 - val_loss: 0.0977\n",
      "Epoch 24/50\n",
      "258/258 [==============================] - ETA: 0s - loss: 0.0644\n",
      "Epoch 00024: val_loss did not improve from 0.09734\n",
      "258/258 [==============================] - 25s 96ms/step - loss: 0.0644 - val_loss: 0.0976\n",
      "Epoch 25/50\n",
      "258/258 [==============================] - ETA: 0s - loss: 0.0641\n",
      "Epoch 00025: val_loss did not improve from 0.09734\n",
      "\n",
      "Epoch 00025: ReduceLROnPlateau reducing learning rate to 1.0000000656873453e-06.\n",
      "258/258 [==============================] - 25s 96ms/step - loss: 0.0641 - val_loss: 0.0977\n",
      "Epoch 26/50\n",
      "258/258 [==============================] - ETA: 0s - loss: 0.0638\n",
      "Epoch 00026: val_loss did not improve from 0.09734\n",
      "258/258 [==============================] - 25s 96ms/step - loss: 0.0638 - val_loss: 0.0976\n",
      "Epoch 00026: early stopping\n"
     ]
    },
    {
     "data": {
      "text/plain": [
       "<tensorflow.python.keras.callbacks.History at 0x29a98dd50c8>"
      ]
     },
     "execution_count": 41,
     "metadata": {},
     "output_type": "execute_result"
    }
   ],
   "source": [
    "model = encoder_decoder(vocab_size, embedding_dim, lstm_size, lstm_size, maxlen, 'concat', att_units, batch_size)\n",
    "model.compile(optimizer = 'Adam', loss = loss_function)\n",
    "\n",
    "callbacks = [ModelCheckpoint('concat_best.h5', save_best_only= True, verbose = 1),\n",
    "             EarlyStopping(patience = 5, verbose = 1),\n",
    "             ReduceLROnPlateau(patience = 3, verbose = 1)]\n",
    "\n",
    "model.fit(x = unigram_train_dataset, \n",
    "          steps_per_epoch = unigram_train.shape[0]//batch_size,\n",
    "          validation_data = unigram_val_dataset,\n",
    "          validation_steps = unigram_val.shape[0]//batch_size,\n",
    "          epochs = 50,\n",
    "          verbose = 1,\n",
    "          callbacks = callbacks)"
   ]
  },
  {
   "cell_type": "code",
   "execution_count": 43,
   "metadata": {},
   "outputs": [],
   "source": [
    "pred_model = pred_Encoder_decoder(vocab_size, vocab_size, embedding_dim, lstm_size, lstm_size, max_len, max_len, 'concat', att_units)\n",
    "pred_model.compile(optimizer = 'Adam', loss = loss_function)\n",
    "pred_model.build(input_shape= (None, 1, maxlen))\n",
    "pred_model.load_weights('concat_best.h5')"
   ]
  },
  {
   "cell_type": "code",
   "execution_count": 54,
   "metadata": {},
   "outputs": [
    {
     "name": "stdout",
     "output_type": "stream",
     "text": [
      "input: qitted\n",
      "predicted output: quitted\n",
      "actual output: quitted\n"
     ]
    },
    {
     "data": {
      "image/png": "[encoded data removed]",
      "text/plain": [
       "<Figure size 720x720 with 1 Axes>"
      ]
     },
     "metadata": {
      "needs_background": "light"
     },
     "output_type": "display_data"
    }
   ],
   "source": [
    "sentence = unigram_train['input'].values[5]\n",
    "result, attention_plot = predict(sentence, unigram_vec, unigram_index_to_word, gram = 'uni')\n",
    "\n",
    "print('input : ', sentence)\n",
    "print('predicted output : ',result)\n",
    "print('actual output :', unigram_train['output'].values[5])\n",
    "\n",
    "attention_plot = attention_plot[:len(list(result)), :len(list(sentence))]\n",
    "plot_attention(attention_plot, list(sentence), list(result))"
   ]
  },
  {
   "cell_type": "code",
   "execution_count": 61,
   "metadata": {},
   "outputs": [
    {
     "name": "stdout",
     "output_type": "stream",
     "text": [
      "input: fortissiemus\n",
      "predicted output: fortissimus\n",
      "actual output: fortissimus\n"
     ]
    },
    {
     "data": {
      "image/png": "[encoded data removed]",
      "text/plain": [
       "<Figure size 720x720 with 1 Axes>"
      ]
     },
     "metadata": {
      "needs_background": "light"
     },
     "output_type": "display_data"
    }
   ],
   "source": [
    "sentence = unigram_train['input'].values[11]\n",
    "result, attention_plot = predict(sentence, unigram_vec, unigram_index_to_word, gram = 'uni')\n",
    "\n",
    "print('input : ', sentence)\n",
    "print('predicted output : ',result)\n",
    "print('actual output :', unigram_train['output'].values[11])\n",
    "\n",
    "attention_plot = attention_plot[:len(list(result)), :len(list(sentence))]\n",
    "plot_attention(attention_plot, list(sentence), list(result))"
   ]
  },
  {
   "cell_type": "code",
   "execution_count": 65,
   "metadata": {},
   "outputs": [
    {
     "name": "stdout",
     "output_type": "stream",
     "text": [
      "input: numbeGr\n",
      "predicted output: number\n",
      "actual output: number\n"
     ]
    },
    {
     "data": {
      "image/png": "[encoded data removed]",
      "text/plain": [
       "<Figure size 720x720 with 1 Axes>"
      ]
     },
     "metadata": {
      "needs_background": "light"
     },
     "output_type": "display_data"
    }
   ],
   "source": [
    "sentence = unigram_train['input'].values[14]\n",
    "result, attention_plot = predict(sentence, unigram_vec, unigram_index_to_word, gram = 'uni')\n",
    "\n",
    "print('input : ', sentence)\n",
    "print('predicted output : ',result)\n",
    "print('actual output :', unigram_train['output'].values[14])\n",
    "\n",
    "attention_plot = attention_plot[:len(list(result)), :len(list(sentence))]\n",
    "plot_attention(attention_plot, list(sentence), list(result))"
   ]
  },
  {
   "cell_type": "code",
   "execution_count": 47,
   "metadata": {},
   "outputs": [
    {
     "name": "stderr",
     "output_type": "stream",
     "text": [
      "100%|██████████████████████████████████████████████████████████████████████████████| 3678/3678 [04:14<00:00, 14.46it/s]\n",
      "100%|████████████████████████████████████████████████████████████████████████████| 33101/33101 [38:27<00:00, 14.35it/s]\n",
      "100%|██████████████████████████████████████████████████████████████████████████████| 3150/3150 [03:38<00:00, 14.41it/s]"
     ]
    },
    {
     "name": "stdout",
     "output_type": "stream",
     "text": [
      "BLEU Score on train:  0.8553528187207379\n",
      "BLEU Score on val:  0.8027546198959468\n",
      "BLEU Score on test:  0.712202060966304\n"
     ]
    },
    {
     "name": "stderr",
     "output_type": "stream",
     "text": [
      "\n"
     ]
    }
   ],
   "source": [
    "val_bleu = 0\n",
    "for i in tqdm(range(unigram_val.shape[0])):\n",
    "    inp = unigram_val['input'].values[i]\n",
    "    out = unigram_val['output'].values[i]\n",
    "    pred, _ = predict(inp, unigram_vec, unigram_index_to_word, gram = 'uni')\n",
    "    val_bleu += sentence_bleu([out], pred)\n",
    "\n",
    "train_bleu = 0\n",
    "for i in tqdm(range(unigram_train.shape[0])):\n",
    "    inp = unigram_train['input'].values[i];\n",
    "    out = unigram_train['output'].values[i]\n",
    "    pred, _ = predict(inp, unigram_vec, unigram_index_to_word, gram = 'uni')\n",
    "    train_bleu += sentence_bleu([out], pred)\n",
    "\n",
    "test_bleu = 0\n",
    "for i in tqdm(range(unigram_test.shape[0])):\n",
    "    inp = unigram_test['input'].values[i]\n",
    "    out = unigram_test['output'].values[i]\n",
    "    pred, _ = predict(inp, unigram_vec, unigram_index_to_word, gram = 'uni')\n",
    "    test_bleu += sentence_bleu([out], pred)\n",
    "    \n",
    "print('BLEU Score on train: ',train_bleu/unigram_train.shape[0])\n",
    "print('BLEU Score on val: ',val_bleu/unigram_val.shape[0])\n",
    "print('BLEU Score on test: ',test_bleu/unigram_test.shape[0])"
   ]
  },
  {
   "cell_type": "markdown",
   "metadata": {},
   "source": [
    "<h3>3.2 BiGram </h3>"
   ]
  },
  {
   "cell_type": "code",
   "execution_count": 107,
   "metadata": {},
   "outputs": [],
   "source": [
    "lstm_size = 256\n",
    "embedding_dim = 100\n",
    "att_units = 256\n",
    "maxlen = 26"
   ]
  },
  {
   "cell_type": "code",
   "execution_count": 104,
   "metadata": {},
   "outputs": [
    {
     "name": "stdout",
     "output_type": "stream",
     "text": [
      "Epoch 1/100\n",
      "6910/6910 [==============================] - ETA: 0s - loss: 0.1299\n",
      "Epoch 00001: val_loss improved from inf to 0.04310, saving model to concat_best_bigram.h5\n",
      "6910/6910 [==============================] - 847s 123ms/step - loss: 0.1299 - val_loss: 0.0431\n",
      "Epoch 2/100\n",
      "6910/6910 [==============================] - ETA: 0s - loss: 0.0464\n",
      "Epoch 00002: val_loss improved from 0.04310 to 0.03256, saving model to concat_best_bigram.h5\n",
      "6910/6910 [==============================] - 869s 126ms/step - loss: 0.0464 - val_loss: 0.0326\n",
      "Epoch 3/100\n",
      "6910/6910 [==============================] - ETA: 0s - loss: 0.0377\n",
      "Epoch 00003: val_loss improved from 0.03256 to 0.02836, saving model to concat_best_bigram.h5\n",
      "6910/6910 [==============================] - 878s 127ms/step - loss: 0.0377 - val_loss: 0.0284\n",
      "Epoch 4/100\n",
      "6910/6910 [==============================] - ETA: 0s - loss: 0.0334\n",
      "Epoch 00004: val_loss improved from 0.02836 to 0.02540, saving model to concat_best_bigram.h5\n",
      "6910/6910 [==============================] - 890s 129ms/step - loss: 0.0334 - val_loss: 0.0254\n",
      "Epoch 5/100\n",
      "6910/6910 [==============================] - ETA: 0s - loss: 0.0305\n",
      "Epoch 00005: val_loss improved from 0.02540 to 0.02419, saving model to concat_best_bigram.h5\n",
      "6910/6910 [==============================] - 877s 127ms/step - loss: 0.0305 - val_loss: 0.0242\n",
      "Epoch 6/100\n",
      "6910/6910 [==============================] - ETA: 0s - loss: 0.0285\n",
      "Epoch 00006: val_loss improved from 0.02419 to 0.02344, saving model to concat_best_bigram.h5\n",
      "6910/6910 [==============================] - 864s 125ms/step - loss: 0.0285 - val_loss: 0.0234\n",
      "Epoch 7/100\n",
      "6910/6910 [==============================] - ETA: 0s - loss: 0.0270\n",
      "Epoch 00007: val_loss improved from 0.02344 to 0.02228, saving model to concat_best_bigram.h5\n",
      "6910/6910 [==============================] - 904s 131ms/step - loss: 0.0270 - val_loss: 0.0223\n",
      "Epoch 8/100\n",
      "6910/6910 [==============================] - ETA: 0s - loss: 0.0260\n",
      "Epoch 00008: val_loss improved from 0.02228 to 0.02181, saving model to concat_best_bigram.h5\n",
      "6910/6910 [==============================] - 934s 135ms/step - loss: 0.0260 - val_loss: 0.0218\n",
      "Epoch 9/100\n",
      "6910/6910 [==============================] - ETA: 0s - loss: 0.0250\n",
      "Epoch 00009: val_loss improved from 0.02181 to 0.02144, saving model to concat_best_bigram.h5\n",
      "6910/6910 [==============================] - 922s 133ms/step - loss: 0.0250 - val_loss: 0.0214\n",
      "Epoch 10/100\n",
      "6910/6910 [==============================] - ETA: 0s - loss: 0.0243\n",
      "Epoch 00010: val_loss improved from 0.02144 to 0.02106, saving model to concat_best_bigram.h5\n",
      "6910/6910 [==============================] - 884s 128ms/step - loss: 0.0243 - val_loss: 0.0211\n",
      "Epoch 11/100\n",
      "6910/6910 [==============================] - ETA: 0s - loss: 0.0235\n",
      "Epoch 00011: val_loss improved from 0.02106 to 0.02065, saving model to concat_best_bigram.h5\n",
      "6910/6910 [==============================] - 871s 126ms/step - loss: 0.0235 - val_loss: 0.0207\n",
      "Epoch 12/100\n",
      "6910/6910 [==============================] - ETA: 0s - loss: 0.0229\n",
      "Epoch 00012: val_loss did not improve from 0.02065\n",
      "6910/6910 [==============================] - 874s 126ms/step - loss: 0.0229 - val_loss: 0.0207\n",
      "Epoch 13/100\n",
      "6910/6910 [==============================] - ETA: 0s - loss: 0.0223\n",
      "Epoch 00013: val_loss improved from 0.02065 to 0.02025, saving model to concat_best_bigram.h5\n",
      "6910/6910 [==============================] - 978s 141ms/step - loss: 0.0223 - val_loss: 0.0203\n",
      "Epoch 14/100\n",
      "6910/6910 [==============================] - ETA: 0s - loss: 0.0218\n",
      "Epoch 00014: val_loss improved from 0.02025 to 0.02014, saving model to concat_best_bigram.h5\n",
      "6910/6910 [==============================] - 836s 121ms/step - loss: 0.0218 - val_loss: 0.0201\n",
      "Epoch 15/100\n",
      "6910/6910 [==============================] - ETA: 0s - loss: 0.0215\n",
      "Epoch 00015: val_loss did not improve from 0.02014\n",
      "6910/6910 [==============================] - 853s 123ms/step - loss: 0.0215 - val_loss: 0.0202\n",
      "Epoch 16/100\n",
      "6910/6910 [==============================] - ETA: 0s - loss: 0.0210\n",
      "Epoch 00016: val_loss improved from 0.02014 to 0.01981, saving model to concat_best_bigram.h5\n",
      "6910/6910 [==============================] - 881s 128ms/step - loss: 0.0210 - val_loss: 0.0198\n",
      "Epoch 17/100\n",
      "6910/6910 [==============================] - ETA: 0s - loss: 0.0206\n",
      "Epoch 00017: val_loss improved from 0.01981 to 0.01966, saving model to concat_best_bigram.h5\n",
      "6910/6910 [==============================] - 849s 123ms/step - loss: 0.0206 - val_loss: 0.0197\n",
      "Epoch 18/100\n",
      "6910/6910 [==============================] - ETA: 0s - loss: 0.0203\n",
      "Epoch 00018: val_loss improved from 0.01966 to 0.01951, saving model to concat_best_bigram.h5\n",
      "6910/6910 [==============================] - 830s 120ms/step - loss: 0.0203 - val_loss: 0.0195\n",
      "Epoch 19/100\n",
      "6910/6910 [==============================] - ETA: 0s - loss: 0.0201\n",
      "Epoch 00019: val_loss did not improve from 0.01951\n",
      "6910/6910 [==============================] - 832s 120ms/step - loss: 0.0201 - val_loss: 0.0195\n",
      "Epoch 20/100\n",
      "6910/6910 [==============================] - ETA: 0s - loss: 0.0197\n",
      "Epoch 00020: val_loss improved from 0.01951 to 0.01923, saving model to concat_best_bigram.h5\n",
      "6910/6910 [==============================] - 816s 118ms/step - loss: 0.0197 - val_loss: 0.0192\n",
      "Epoch 21/100\n",
      "6910/6910 [==============================] - ETA: 0s - loss: 0.0195\n",
      "Epoch 00021: val_loss did not improve from 0.01923\n",
      "6910/6910 [==============================] - 815s 118ms/step - loss: 0.0195 - val_loss: 0.0194\n",
      "Epoch 22/100\n",
      "6910/6910 [==============================] - ETA: 0s - loss: 0.0191\n",
      "Epoch 00022: val_loss did not improve from 0.01923\n",
      "6910/6910 [==============================] - 846s 122ms/step - loss: 0.0191 - val_loss: 0.0193\n",
      "Epoch 23/100\n",
      "6910/6910 [==============================] - ETA: 0s - loss: 0.0190\n",
      "Epoch 00023: val_loss improved from 0.01923 to 0.01905, saving model to concat_best_bigram.h5\n",
      "6910/6910 [==============================] - 844s 122ms/step - loss: 0.0190 - val_loss: 0.0191\n",
      "Epoch 24/100\n",
      "6910/6910 [==============================] - ETA: 0s - loss: 0.0187\n",
      "Epoch 00024: val_loss did not improve from 0.01905\n",
      "6910/6910 [==============================] - 843s 122ms/step - loss: 0.0187 - val_loss: 0.0196\n",
      "Epoch 25/100\n",
      "6910/6910 [==============================] - ETA: 0s - loss: 0.0184\n",
      "Epoch 00025: val_loss improved from 0.01905 to 0.01900, saving model to concat_best_bigram.h5\n",
      "6910/6910 [==============================] - 866s 125ms/step - loss: 0.0184 - val_loss: 0.0190\n",
      "Epoch 26/100\n",
      "6910/6910 [==============================] - ETA: 0s - loss: 0.0182\n",
      "Epoch 00026: val_loss did not improve from 0.01900\n",
      "\n",
      "Epoch 00026: ReduceLROnPlateau reducing learning rate to 0.00010000000474974513.\n",
      "6910/6910 [==============================] - 949s 137ms/step - loss: 0.0182 - val_loss: 0.0191\n",
      "Epoch 27/100\n",
      "6910/6910 [==============================] - ETA: 0s - loss: 0.0159\n",
      "Epoch 00027: val_loss improved from 0.01900 to 0.01819, saving model to concat_best_bigram.h5\n",
      "6910/6910 [==============================] - 881s 128ms/step - loss: 0.0159 - val_loss: 0.0182\n",
      "Epoch 28/100\n",
      "6910/6910 [==============================] - ETA: 0s - loss: 0.0148\n",
      "Epoch 00028: val_loss improved from 0.01819 to 0.01799, saving model to concat_best_bigram.h5\n",
      "6910/6910 [==============================] - 836s 121ms/step - loss: 0.0148 - val_loss: 0.0180\n",
      "Epoch 29/100\n",
      "6910/6910 [==============================] - ETA: 0s - loss: 0.0143\n",
      "Epoch 00029: val_loss improved from 0.01799 to 0.01787, saving model to concat_best_bigram.h5\n",
      "6910/6910 [==============================] - 834s 121ms/step - loss: 0.0143 - val_loss: 0.0179\n",
      "Epoch 30/100\n",
      "6910/6910 [==============================] - ETA: 0s - loss: 0.0139\n",
      "Epoch 00030: val_loss improved from 0.01787 to 0.01779, saving model to concat_best_bigram.h5\n",
      "6910/6910 [==============================] - 832s 120ms/step - loss: 0.0139 - val_loss: 0.0178\n",
      "Epoch 31/100\n",
      "6910/6910 [==============================] - ETA: 0s - loss: 0.0136\n",
      "Epoch 00031: val_loss improved from 0.01779 to 0.01773, saving model to concat_best_bigram.h5\n",
      "6910/6910 [==============================] - 828s 120ms/step - loss: 0.0136 - val_loss: 0.0177\n",
      "Epoch 32/100\n"
     ]
    },
    {
     "name": "stdout",
     "output_type": "stream",
     "text": [
      "6910/6910 [==============================] - ETA: 0s - loss: 0.0134\n",
      "Epoch 00032: val_loss did not improve from 0.01773\n",
      "6910/6910 [==============================] - 829s 120ms/step - loss: 0.0134 - val_loss: 0.0178\n",
      "Epoch 33/100\n",
      "6910/6910 [==============================] - ETA: 0s - loss: 0.0132\n",
      "Epoch 00033: val_loss did not improve from 0.01773\n",
      "6910/6910 [==============================] - 820s 119ms/step - loss: 0.0132 - val_loss: 0.0178\n",
      "Epoch 34/100\n",
      "6910/6910 [==============================] - ETA: 0s - loss: 0.0130\n",
      "Epoch 00034: val_loss did not improve from 0.01773\n",
      "\n",
      "Epoch 00034: ReduceLROnPlateau reducing learning rate to 1.0000000474974514e-05.\n",
      "6910/6910 [==============================] - 820s 119ms/step - loss: 0.0130 - val_loss: 0.0178\n",
      "Epoch 35/100\n",
      "6910/6910 [==============================] - ETA: 0s - loss: 0.0127\n",
      "Epoch 00035: val_loss did not improve from 0.01773\n",
      "6910/6910 [==============================] - 819s 119ms/step - loss: 0.0127 - val_loss: 0.0178\n",
      "Epoch 36/100\n",
      "6910/6910 [==============================] - ETA: 0s - loss: 0.0126\n",
      "Epoch 00036: val_loss did not improve from 0.01773\n",
      "6910/6910 [==============================] - 820s 119ms/step - loss: 0.0126 - val_loss: 0.0177\n",
      "Epoch 00036: early stopping\n"
     ]
    },
    {
     "data": {
      "text/plain": [
       "<tensorflow.python.keras.callbacks.History at 0x22706ba1ac8>"
      ]
     },
     "execution_count": 104,
     "metadata": {},
     "output_type": "execute_result"
    }
   ],
   "source": [
    "model = encoder_decoder(vocab_size, embedding_dim, lstm_size, lstm_size, maxlen, 'concat', att_units, batch_size)\n",
    "model.compile(optimizer = 'Adam', loss = loss_function)\n",
    "\n",
    "callbacks = [ModelCheckpoint('concat_best_bigram.h5', save_best_only= True, verbose = 1),\n",
    "             EarlyStopping(patience = 5, verbose = 1),\n",
    "             ReduceLROnPlateau(patience = 3, verbose = 1)]\n",
    "\n",
    "model.fit(x = bigram_train_dataset, \n",
    "          steps_per_epoch = bigram_train.shape[0]//batch_size,\n",
    "          validation_data = bigram_val_dataset,\n",
    "          validation_steps = bigram_val.shape[0]//batch_size,\n",
    "          epochs = 100,\n",
    "          verbose = 1,\n",
    "          callbacks = callbacks)"
   ]
  },
  {
   "cell_type": "code",
   "execution_count": 108,
   "metadata": {},
   "outputs": [],
   "source": [
    "pred_model = pred_Encoder_decoder(vocab_size, vocab_size, embedding_dim, lstm_size, lstm_size, maxlen, maxlen, 'concat', att_units, bigram_word_to_index)\n",
    "pred_model.compile(optimizer = 'Adam', loss = loss_function)\n",
    "pred_model.build(input_shape= (None, 1, maxlen))\n",
    "pred_model.load_weights('concat_best_bigram.h5')"
   ]
  },
  {
   "cell_type": "code",
   "execution_count": 109,
   "metadata": {},
   "outputs": [
    {
     "name": "stdout",
     "output_type": "stream",
     "text": [
      "input :  no Lne\n",
      "predicted output :  no one\n",
      "actual output : no one\n"
     ]
    },
    {
     "data": {
      "image/png": "[encoded data removed]",
      "text/plain": [
       "<Figure size 720x720 with 1 Axes>"
      ]
     },
     "metadata": {
      "needs_background": "light"
     },
     "output_type": "display_data"
    }
   ],
   "source": [
    "sentence = bigram_train['input'].values[4]\n",
    "result, attention_plot = predict(sentence, bigram_vec, bigram_index_to_word, gram = 'bi')\n",
    "\n",
    "print('input : ', sentence)\n",
    "print('predicted output : ',result)\n",
    "print('actual output :', bigram_train['output'].values[4])\n",
    "\n",
    "attention_plot = attention_plot[:len(list(result)), :len(list(sentence))]\n",
    "plot_attention(attention_plot, list(sentence), list(result))"
   ]
  },
  {
   "cell_type": "code",
   "execution_count": 110,
   "metadata": {},
   "outputs": [
    {
     "name": "stdout",
     "output_type": "stream",
     "text": [
      "input :  for themseves\n",
      "predicted output :  for themselves\n",
      "actual output : for themselves\n"
     ]
    },
    {
     "data": {
      "image/png": "[encoded data removed]",
      "text/plain": [
       "<Figure size 720x720 with 1 Axes>"
      ]
     },
     "metadata": {
      "needs_background": "light"
     },
     "output_type": "display_data"
    }
   ],
   "source": [
    "sentence = bigram_train['input'].values[6]\n",
    "result, attention_plot = predict(sentence, bigram_vec, bigram_index_to_word, gram = 'bi')\n",
    "\n",
    "print('input : ', sentence)\n",
    "print('predicted output : ',result)\n",
    "print('actual output :', bigram_train['output'].values[6])\n",
    "\n",
    "attention_plot = attention_plot[:len(list(result)), :len(list(sentence))]\n",
    "plot_attention(attention_plot, list(sentence), list(result))"
   ]
  },
  {
   "cell_type": "code",
   "execution_count": 111,
   "metadata": {},
   "outputs": [
    {
     "name": "stdout",
     "output_type": "stream",
     "text": [
      "input :  detil of\n",
      "predicted output :  detail of\n",
      "actual output : detail of\n"
     ]
    },
    {
     "data": {
      "image/png": "[encoded data removed]",
      "text/plain": [
       "<Figure size 720x720 with 1 Axes>"
      ]
     },
     "metadata": {
      "needs_background": "light"
     },
     "output_type": "display_data"
    }
   ],
   "source": [
    "sentence = bigram_train['input'].values[7]\n",
    "result, attention_plot = predict(sentence, bigram_vec, bigram_index_to_word, gram = 'bi')\n",
    "\n",
    "print('input : ', sentence)\n",
    "print('predicted output : ',result)\n",
    "print('actual output :', bigram_train['output'].values[7])\n",
    "\n",
    "attention_plot = attention_plot[:len(list(result)), :len(list(sentence))]\n",
    "plot_attention(attention_plot, list(sentence), list(result))"
   ]
  },
  {
   "cell_type": "code",
   "execution_count": null,
   "metadata": {},
   "outputs": [],
   "source": [
    "val_bleu = 0\n",
    "for i in tqdm(range(bigram_val.shape[0])):\n",
    "    inp = bigram_val['input'].values[i]\n",
    "    out = bigram_val['output'].values[i]\n",
    "    pred, _ = predict(inp, bigram_vec, bigram_index_to_word, gram = 'bi')\n",
    "    val_bleu += sentence_bleu([out], pred)\n",
    "\n",
    "train_bleu = 0\n",
    "for i in tqdm(range(bigram_train.shape[0])):\n",
    "    inp = bigram_train['input'].values[i];\n",
    "    out = bigram_train['output'].values[i]\n",
    "    pred, _ = predict(inp, bigram_vec, bigram_index_to_word, gram = 'bi')\n",
    "    train_bleu += sentence_bleu([out], pred)\n",
    "\n",
    "test_bleu = 0\n",
    "for i in tqdm(range(bigram_test.shape[0])):\n",
    "    inp = bigram_test['input'].values[i]\n",
    "    out = bigram_test['output'].values[i]\n",
    "    pred, _ = predict(inp, bigram_vec, bigram_index_to_word, gram = 'bi')\n",
    "    test_bleu += sentence_bleu([out], pred)\n",
    "    \n",
    "print('BLEU Score on train: ',train_bleu/bigram_train.shape[0])\n",
    "print('BLEU Score on val: ',val_bleu/bigram_val.shape[0])\n",
    "print('BLEU Score on test: ',test_bleu/bigram_test.shape[0])"
   ]
  },
  {
   "cell_type": "markdown",
   "metadata": {},
   "source": [
    "<h3>3.3 TriGram</h3>"
   ]
  },
  {
   "cell_type": "code",
   "execution_count": 112,
   "metadata": {},
   "outputs": [],
   "source": [
    "lstm_size = 256\n",
    "embedding_dim = 100\n",
    "att_units = 256\n",
    "maxlen = 34"
   ]
  },
  {
   "cell_type": "code",
   "execution_count": 114,
   "metadata": {},
   "outputs": [
    {
     "name": "stdout",
     "output_type": "stream",
     "text": [
      "Epoch 1/100\n",
      "6910/6910 [==============================] - ETA: 0s - loss: 0.1372\n",
      "Epoch 00001: val_loss improved from inf to 0.04223, saving model to concat_best_trigram.h5\n",
      "6910/6910 [==============================] - 1156s 167ms/step - loss: 0.1372 - val_loss: 0.0422\n",
      "Epoch 2/100\n",
      "6910/6910 [==============================] - ETA: 0s - loss: 0.0439\n",
      "Epoch 00002: val_loss improved from 0.04223 to 0.03123, saving model to concat_best_trigram.h5\n",
      "6910/6910 [==============================] - 1154s 167ms/step - loss: 0.0439 - val_loss: 0.0312\n",
      "Epoch 3/100\n",
      "6910/6910 [==============================] - ETA: 0s - loss: 0.0349\n",
      "Epoch 00003: val_loss improved from 0.03123 to 0.02453, saving model to concat_best_trigram.h5\n",
      "6910/6910 [==============================] - 1158s 168ms/step - loss: 0.0349 - val_loss: 0.0245\n",
      "Epoch 4/100\n",
      "6910/6910 [==============================] - ETA: 0s - loss: 0.0303\n",
      "Epoch 00004: val_loss improved from 0.02453 to 0.02350, saving model to concat_best_trigram.h5\n",
      "6910/6910 [==============================] - 1159s 168ms/step - loss: 0.0303 - val_loss: 0.0235\n",
      "Epoch 5/100\n",
      "6910/6910 [==============================] - ETA: 0s - loss: 0.0277\n",
      "Epoch 00005: val_loss improved from 0.02350 to 0.02035, saving model to concat_best_trigram.h5\n",
      "6910/6910 [==============================] - 1163s 168ms/step - loss: 0.0277 - val_loss: 0.0204\n",
      "Epoch 6/100\n",
      "6910/6910 [==============================] - ETA: 0s - loss: 0.0256\n",
      "Epoch 00006: val_loss improved from 0.02035 to 0.01934, saving model to concat_best_trigram.h5\n",
      "6910/6910 [==============================] - 1158s 168ms/step - loss: 0.0256 - val_loss: 0.0193\n",
      "Epoch 7/100\n",
      "6910/6910 [==============================] - ETA: 0s - loss: 0.0241\n",
      "Epoch 00007: val_loss improved from 0.01934 to 0.01881, saving model to concat_best_trigram.h5\n",
      "6910/6910 [==============================] - 1157s 167ms/step - loss: 0.0241 - val_loss: 0.0188\n",
      "Epoch 8/100\n",
      "6910/6910 [==============================] - ETA: 0s - loss: 0.0229\n",
      "Epoch 00008: val_loss improved from 0.01881 to 0.01879, saving model to concat_best_trigram.h5\n",
      "6910/6910 [==============================] - 1162s 168ms/step - loss: 0.0229 - val_loss: 0.0188\n",
      "Epoch 9/100\n",
      "6910/6910 [==============================] - ETA: 0s - loss: 0.0219\n",
      "Epoch 00009: val_loss improved from 0.01879 to 0.01782, saving model to concat_best_trigram.h5\n",
      "6910/6910 [==============================] - 1174s 170ms/step - loss: 0.0219 - val_loss: 0.0178\n",
      "Epoch 10/100\n",
      "6910/6910 [==============================] - ETA: 0s - loss: 0.0215\n",
      "Epoch 00010: val_loss improved from 0.01782 to 0.01715, saving model to concat_best_trigram.h5\n",
      "6910/6910 [==============================] - 1185s 171ms/step - loss: 0.0215 - val_loss: 0.0171\n",
      "Epoch 11/100\n",
      "6910/6910 [==============================] - ETA: 0s - loss: 0.0206\n",
      "Epoch 00011: val_loss improved from 0.01715 to 0.01670, saving model to concat_best_trigram.h5\n",
      "6910/6910 [==============================] - 1195s 173ms/step - loss: 0.0206 - val_loss: 0.0167\n",
      "Epoch 12/100\n",
      "6910/6910 [==============================] - ETA: 0s - loss: 0.0200\n",
      "Epoch 00012: val_loss improved from 0.01670 to 0.01650, saving model to concat_best_trigram.h5\n",
      "6910/6910 [==============================] - 1195s 173ms/step - loss: 0.0200 - val_loss: 0.0165\n",
      "Epoch 13/100\n",
      "6910/6910 [==============================] - ETA: 0s - loss: 0.0194\n",
      "Epoch 00013: val_loss improved from 0.01650 to 0.01627, saving model to concat_best_trigram.h5\n",
      "6910/6910 [==============================] - 1182s 171ms/step - loss: 0.0194 - val_loss: 0.0163\n",
      "Epoch 14/100\n",
      "6910/6910 [==============================] - ETA: 0s - loss: 0.0189\n",
      "Epoch 00014: val_loss improved from 0.01627 to 0.01613, saving model to concat_best_trigram.h5\n",
      "6910/6910 [==============================] - 1188s 172ms/step - loss: 0.0189 - val_loss: 0.0161\n",
      "Epoch 15/100\n",
      "6910/6910 [==============================] - ETA: 0s - loss: 0.0186\n",
      "Epoch 00015: val_loss improved from 0.01613 to 0.01572, saving model to concat_best_trigram.h5\n",
      "6910/6910 [==============================] - 1218s 176ms/step - loss: 0.0186 - val_loss: 0.0157\n",
      "Epoch 16/100\n",
      "6910/6910 [==============================] - ETA: 0s - loss: 0.0182\n",
      "Epoch 00016: val_loss improved from 0.01572 to 0.01561, saving model to concat_best_trigram.h5\n",
      "6910/6910 [==============================] - 1225s 177ms/step - loss: 0.0182 - val_loss: 0.0156\n",
      "Epoch 17/100\n",
      "6910/6910 [==============================] - ETA: 0s - loss: 0.0179\n",
      "Epoch 00017: val_loss did not improve from 0.01561\n",
      "6910/6910 [==============================] - 1229s 178ms/step - loss: 0.0179 - val_loss: 0.0164\n",
      "Epoch 18/100\n",
      "6910/6910 [==============================] - ETA: 0s - loss: 0.0175\n",
      "Epoch 00018: val_loss improved from 0.01561 to 0.01544, saving model to concat_best_trigram.h5\n",
      "6910/6910 [==============================] - 1236s 179ms/step - loss: 0.0175 - val_loss: 0.0154\n",
      "Epoch 19/100\n",
      "6910/6910 [==============================] - ETA: 0s - loss: 0.0172\n",
      "Epoch 00019: val_loss improved from 0.01544 to 0.01532, saving model to concat_best_trigram.h5\n",
      "6910/6910 [==============================] - 1295s 187ms/step - loss: 0.0172 - val_loss: 0.0153\n",
      "Epoch 20/100\n",
      "6910/6910 [==============================] - ETA: 0s - loss: 0.0168\n",
      "Epoch 00020: val_loss improved from 0.01532 to 0.01530, saving model to concat_best_trigram.h5\n",
      "6910/6910 [==============================] - 1249s 181ms/step - loss: 0.0168 - val_loss: 0.0153\n",
      "Epoch 21/100\n",
      "6910/6910 [==============================] - ETA: 0s - loss: 0.0168\n",
      "Epoch 00021: val_loss improved from 0.01530 to 0.01508, saving model to concat_best_trigram.h5\n",
      "6910/6910 [==============================] - 1230s 178ms/step - loss: 0.0168 - val_loss: 0.0151\n",
      "Epoch 22/100\n",
      "6910/6910 [==============================] - ETA: 0s - loss: 0.0164\n",
      "Epoch 00022: val_loss improved from 0.01508 to 0.01506, saving model to concat_best_trigram.h5\n",
      "6910/6910 [==============================] - 1227s 178ms/step - loss: 0.0164 - val_loss: 0.0151\n",
      "Epoch 23/100\n",
      "6910/6910 [==============================] - ETA: 0s - loss: 0.0163\n",
      "Epoch 00023: val_loss did not improve from 0.01506\n",
      "6910/6910 [==============================] - 1206s 175ms/step - loss: 0.0163 - val_loss: 0.0151\n",
      "Epoch 24/100\n",
      "6910/6910 [==============================] - ETA: 0s - loss: 0.0160\n",
      "Epoch 00024: val_loss did not improve from 0.01506\n",
      "\n",
      "Epoch 00024: ReduceLROnPlateau reducing learning rate to 0.00010000000474974513.\n",
      "6910/6910 [==============================] - 1206s 175ms/step - loss: 0.0160 - val_loss: 0.0158\n",
      "Epoch 25/100\n",
      "6910/6910 [==============================] - ETA: 0s - loss: 0.0146\n",
      "Epoch 00025: val_loss improved from 0.01506 to 0.01435, saving model to concat_best_trigram.h5\n",
      "6910/6910 [==============================] - 1221s 177ms/step - loss: 0.0146 - val_loss: 0.0144\n",
      "Epoch 26/100\n",
      "6910/6910 [==============================] - ETA: 0s - loss: 0.0133\n",
      "Epoch 00026: val_loss improved from 0.01435 to 0.01406, saving model to concat_best_trigram.h5\n",
      "6910/6910 [==============================] - 1249s 181ms/step - loss: 0.0133 - val_loss: 0.0141\n",
      "Epoch 27/100\n",
      "6910/6910 [==============================] - ETA: 0s - loss: 0.0128\n",
      "Epoch 00027: val_loss improved from 0.01406 to 0.01390, saving model to concat_best_trigram.h5\n",
      "6910/6910 [==============================] - 1269s 184ms/step - loss: 0.0128 - val_loss: 0.0139\n",
      "Epoch 28/100\n",
      "6910/6910 [==============================] - ETA: 0s - loss: 0.0124\n",
      "Epoch 00028: val_loss improved from 0.01390 to 0.01382, saving model to concat_best_trigram.h5\n",
      "6910/6910 [==============================] - 1301s 188ms/step - loss: 0.0124 - val_loss: 0.0138\n",
      "Epoch 29/100\n",
      "6910/6910 [==============================] - ETA: 0s - loss: 0.0122\n",
      "Epoch 00029: val_loss improved from 0.01382 to 0.01374, saving model to concat_best_trigram.h5\n",
      "6910/6910 [==============================] - 1398s 202ms/step - loss: 0.0122 - val_loss: 0.0137\n",
      "Epoch 30/100\n",
      "6910/6910 [==============================] - ETA: 0s - loss: 0.0119\n",
      "Epoch 00030: val_loss improved from 0.01374 to 0.01366, saving model to concat_best_trigram.h5\n",
      "6910/6910 [==============================] - 1362s 197ms/step - loss: 0.0119 - val_loss: 0.0137\n",
      "Epoch 31/100\n"
     ]
    },
    {
     "name": "stdout",
     "output_type": "stream",
     "text": [
      "6910/6910 [==============================] - ETA: 0s - loss: 0.0117\n",
      "Epoch 00031: val_loss improved from 0.01366 to 0.01364, saving model to concat_best_trigram.h5\n",
      "6910/6910 [==============================] - 1326s 192ms/step - loss: 0.0117 - val_loss: 0.0136\n",
      "Epoch 32/100\n",
      "6910/6910 [==============================] - ETA: 0s - loss: 0.0116\n",
      "Epoch 00032: val_loss did not improve from 0.01364\n",
      "6910/6910 [==============================] - 1265s 183ms/step - loss: 0.0116 - val_loss: 0.0136\n",
      "Epoch 33/100\n",
      "6910/6910 [==============================] - ETA: 0s - loss: 0.0114\n",
      "Epoch 00033: val_loss improved from 0.01364 to 0.01358, saving model to concat_best_trigram.h5\n",
      "6910/6910 [==============================] - 1266s 183ms/step - loss: 0.0114 - val_loss: 0.0136\n",
      "Epoch 34/100\n",
      "6910/6910 [==============================] - ETA: 0s - loss: 0.0113\n",
      "Epoch 00034: val_loss improved from 0.01358 to 0.01357, saving model to concat_best_trigram.h5\n",
      "\n",
      "Epoch 00034: ReduceLROnPlateau reducing learning rate to 1.0000000474974514e-05.\n",
      "6910/6910 [==============================] - 1287s 186ms/step - loss: 0.0113 - val_loss: 0.0136\n",
      "Epoch 35/100\n",
      "6910/6910 [==============================] - ETA: 0s - loss: 0.0111\n",
      "Epoch 00035: val_loss improved from 0.01357 to 0.01353, saving model to concat_best_trigram.h5\n",
      "6910/6910 [==============================] - 1298s 188ms/step - loss: 0.0111 - val_loss: 0.0135\n",
      "Epoch 36/100\n",
      "6910/6910 [==============================] - ETA: 0s - loss: 0.0110\n",
      "Epoch 00036: val_loss improved from 0.01353 to 0.01350, saving model to concat_best_trigram.h5\n",
      "6910/6910 [==============================] - 1385s 200ms/step - loss: 0.0110 - val_loss: 0.0135\n",
      "Epoch 37/100\n",
      "6910/6910 [==============================] - ETA: 0s - loss: 0.0110\n",
      "Epoch 00037: val_loss improved from 0.01350 to 0.01350, saving model to concat_best_trigram.h5\n",
      "6910/6910 [==============================] - 1369s 198ms/step - loss: 0.0110 - val_loss: 0.0135\n",
      "Epoch 38/100\n",
      "6910/6910 [==============================] - ETA: 0s - loss: 0.0109\n",
      "Epoch 00038: val_loss improved from 0.01350 to 0.01349, saving model to concat_best_trigram.h5\n",
      "\n",
      "Epoch 00038: ReduceLROnPlateau reducing learning rate to 1.0000000656873453e-06.\n",
      "6910/6910 [==============================] - 1333s 193ms/step - loss: 0.0109 - val_loss: 0.0135\n",
      "Epoch 39/100\n",
      "6910/6910 [==============================] - ETA: 0s - loss: 0.0109\n",
      "Epoch 00039: val_loss did not improve from 0.01349\n",
      "6910/6910 [==============================] - 1392s 201ms/step - loss: 0.0109 - val_loss: 0.0135\n",
      "Epoch 40/100\n",
      "6910/6910 [==============================] - ETA: 0s - loss: 0.0109\n",
      "Epoch 00040: val_loss did not improve from 0.01349\n",
      "6910/6910 [==============================] - 1350s 195ms/step - loss: 0.0109 - val_loss: 0.0135\n",
      "Epoch 41/100\n",
      "6910/6910 [==============================] - ETA: 0s - loss: 0.0109\n",
      "Epoch 00041: val_loss did not improve from 0.01349\n",
      "\n",
      "Epoch 00041: ReduceLROnPlateau reducing learning rate to 1.0000001111620805e-07.\n",
      "6910/6910 [==============================] - 1396s 202ms/step - loss: 0.0109 - val_loss: 0.0135\n",
      "Epoch 42/100\n",
      "6910/6910 [==============================] - ETA: 0s - loss: 0.0109\n",
      "Epoch 00042: val_loss did not improve from 0.01349\n",
      "6910/6910 [==============================] - 1398s 202ms/step - loss: 0.0109 - val_loss: 0.0135\n",
      "Epoch 43/100\n",
      "6910/6910 [==============================] - ETA: 0s - loss: 0.0109\n",
      "Epoch 00043: val_loss did not improve from 0.01349\n",
      "6910/6910 [==============================] - 1371s 198ms/step - loss: 0.0109 - val_loss: 0.0135\n",
      "Epoch 00043: early stopping\n"
     ]
    },
    {
     "data": {
      "text/plain": [
       "<tensorflow.python.keras.callbacks.History at 0x226efe79bc8>"
      ]
     },
     "execution_count": 114,
     "metadata": {},
     "output_type": "execute_result"
    }
   ],
   "source": [
    "model = encoder_decoder(vocab_size, embedding_dim, lstm_size, lstm_size, maxlen, 'concat', att_units, batch_size)\n",
    "model.compile(optimizer = 'Adam', loss = loss_function)\n",
    "\n",
    "\n",
    "callbacks = [ModelCheckpoint('concat_best_trigram.h5', save_best_only= True, verbose = 1),\n",
    "             EarlyStopping(patience = 5, verbose = 1),\n",
    "             ReduceLROnPlateau(patience = 3, verbose = 1)]\n",
    "\n",
    "model.fit(x = trigram_train_dataset, \n",
    "          steps_per_epoch = trigram_train.shape[0]//batch_size,\n",
    "          validation_data = trigram_val_dataset,\n",
    "          validation_steps = trigram_val.shape[0]//batch_size,\n",
    "          epochs = 100,\n",
    "          verbose = 1,\n",
    "          callbacks = callbacks)"
   ]
  },
  {
   "cell_type": "code",
   "execution_count": 115,
   "metadata": {},
   "outputs": [],
   "source": [
    "pred_model = pred_Encoder_decoder(vocab_size, vocab_size, embedding_dim, lstm_size, lstm_size, maxlen, maxlen, 'concat', att_units, trigram_word_to_index)\n",
    "pred_model.compile(optimizer = 'Adam', loss = loss_function)\n",
    "pred_model.build(input_shape= (None, 1, maxlen))\n",
    "pred_model.load_weights('concat_best_trigram.h5')"
   ]
  },
  {
   "cell_type": "code",
   "execution_count": 116,
   "metadata": {},
   "outputs": [
    {
     "name": "stdout",
     "output_type": "stream",
     "text": [
      "input :  woman oAf him\n",
      "predicted output :  woman of him\n",
      "actual output : woman of him\n"
     ]
    },
    {
     "data": {
      "image/png": "[encoded data removed]",
      "text/plain": [
       "<Figure size 720x720 with 1 Axes>"
      ]
     },
     "metadata": {
      "needs_background": "light"
     },
     "output_type": "display_data"
    }
   ],
   "source": [
    "sentence = trigram_train['input'].values[4]\n",
    "result, attention_plot = predict(sentence, trigram_vec, trigram_index_to_word, gram = 'tri')\n",
    "\n",
    "print('input : ', sentence)\n",
    "print('predicted output : ',result)\n",
    "print('actual output :', trigram_train['output'].values[4])\n",
    "\n",
    "attention_plot = attention_plot[:len(list(result)), :len(list(sentence))]\n",
    "plot_attention(attention_plot, list(sentence), list(result))"
   ]
  },
  {
   "cell_type": "code",
   "execution_count": 117,
   "metadata": {},
   "outputs": [
    {
     "name": "stdout",
     "output_type": "stream",
     "text": [
      "input :  endurXe a collision\n",
      "predicted output :  endure a collision\n",
      "actual output : endure a collision\n"
     ]
    },
    {
     "data": {
      "image/png": "[encoded data removed]",
      "text/plain": [
       "<Figure size 720x720 with 1 Axes>"
      ]
     },
     "metadata": {
      "needs_background": "light"
     },
     "output_type": "display_data"
    }
   ],
   "source": [
    "sentence = trigram_train['input'].values[7]\n",
    "result, attention_plot = predict(sentence, trigram_vec, trigram_index_to_word, gram = 'tri')\n",
    "\n",
    "print('input : ', sentence)\n",
    "print('predicted output : ',result)\n",
    "print('actual output :', trigram_train['output'].values[7])\n",
    "\n",
    "attention_plot = attention_plot[:len(list(result)), :len(list(sentence))]\n",
    "plot_attention(attention_plot, list(sentence), list(result))"
   ]
  },
  {
   "cell_type": "code",
   "execution_count": 118,
   "metadata": {},
   "outputs": [
    {
     "name": "stdout",
     "output_type": "stream",
     "text": [
      "input :  marshals sitti g on\n",
      "predicted output :  marshals sitting on\n",
      "actual output : marshals sitting on\n"
     ]
    },
    {
     "data": {
      "image/png": "[encoded data removed]",
      "text/plain": [
       "<Figure size 720x720 with 1 Axes>"
      ]
     },
     "metadata": {
      "needs_background": "light"
     },
     "output_type": "display_data"
    }
   ],
   "source": [
    "sentence = trigram_train['input'].values[10]\n",
    "result, attention_plot = predict(sentence, trigram_vec, trigram_index_to_word, gram = 'tri')\n",
    "\n",
    "print('input : ', sentence)\n",
    "print('predicted output : ',result)\n",
    "print('actual output :', trigram_train['output'].values[10])\n",
    "\n",
    "attention_plot = attention_plot[:len(list(result)), :len(list(sentence))]\n",
    "plot_attention(attention_plot, list(sentence), list(result))"
   ]
  },
  {
   "cell_type": "code",
   "execution_count": null,
   "metadata": {},
   "outputs": [],
   "source": [
    "val_bleu = 0\n",
    "for i in tqdm(range(trigram_val.shape[0])):\n",
    "    inp = trigram_val['input'].values[i]\n",
    "    out = trigram_val['output'].values[i]\n",
    "    pred, _ = predict(inp, trigram_vec, trigram_index_to_word, gram = 'tri')\n",
    "    val_bleu += sentence_bleu([out], pred)\n",
    "\n",
    "train_bleu = 0\n",
    "for i in tqdm(range(trigram_train.shape[0])):\n",
    "    inp = trigram_train['input'].values[i];\n",
    "    out = trigram_train['output'].values[i]\n",
    "    pred, _ = predict(inp, trigram_vec, trigram_index_to_word, gram = 'tri')\n",
    "    train_bleu += sentence_bleu([out], pred)\n",
    "\n",
    "test_bleu = 0\n",
    "for i in tqdm(range(trigram_test.shape[0])):\n",
    "    inp = trigram_test['input'].values[i]\n",
    "    out = trigram_test['output'].values[i]\n",
    "    pred, _ = predict(inp, trigram_vec, trigram_index_to_word, gram = 'tri')\n",
    "    test_bleu += sentence_bleu([out], pred)\n",
    "    \n",
    "print('BLEU Score on train: ',train_bleu/trigram_train.shape[0])\n",
    "print('BLEU Score on val: ',val_bleu/trigram_val.shape[0])\n",
    "print('BLEU Score on test: ',test_bleu/trigram_test.shape[0])"
   ]
  },
  {
   "cell_type": "markdown",
   "metadata": {},
   "source": [
    "# Conclusion"
   ]
  },
  {
   "cell_type": "code",
   "execution_count": 48,
   "metadata": {},
   "outputs": [
    {
     "name": "stdout",
     "output_type": "stream",
     "text": [
      "+-------------------------------------------------+------------------+----------------+-----------------+\n",
      "|                    Model Name                   | Train BLEU Score | Val BLEU Score | Test BLEU Score |\n",
      "+-------------------------------------------------+------------------+----------------+-----------------+\n",
      "|                     Seq2Seq                     |      0.834       |     0.746      |      0.684      |\n",
      "|         Seq2Seq with Attention Mechanism        |      0.869       |     0.792      |      0.707      |\n",
      "| Bi-directional Seq2Seq with Attention Mechanism |      0.855       |     0.802      |      0.712      |\n",
      "+-------------------------------------------------+------------------+----------------+-----------------+\n"
     ]
    }
   ],
   "source": [
    "from prettytable import PrettyTable \n",
    "\n",
    "myTable = PrettyTable([\"n-gram\", \"Model Name\", \"Train BLEU Score\", \"Val BLEU Score\", \"Test BLEU Score\"])\n",
    "myTable.add_row([\"1-gram\", \"Seq2Seq\", \"0.834\", \"0.746\", \"0.684\"]) \n",
    "myTable.add_row([\"2-gram\", \"Seq2Seq\", \"0.834\", \"0.746\", \"0.684\"]) \n",
    "myTable.add_row([\"3-gram\", \"Seq2Seq\", \"0.834\", \"0.746\", \"0.684\"]) \n",
    "\n",
    "myTable.add_row([\"1-gram\", \"Seq2Seq with Attention Mechanism\", \"0.869\", \"0.792\", \"0.707\"]) \n",
    "myTable.add_row([\"2-gram\", \"Seq2Seq with Attention Mechanism\", \"0.869\", \"0.792\", \"0.707\"]) \n",
    "myTable.add_row([\"3-gram\", \"Seq2Seq with Attention Mechanism\", \"0.869\", \"0.792\", \"0.707\"]) \n",
    "\n",
    "myTable.add_row([\"1-gram\", \"Bi-directional Seq2Seq with Attention Mechanism\", \"0.855\", \"0.802\", \"0.712\"]) \n",
    "myTable.add_row([\"2-gram\", \"Bi-directional Seq2Seq with Attention Mechanism\", \"0.855\", \"0.802\", \"0.712\"]) \n",
    "myTable.add_row([\"3-gram\", \"Bi-directional Seq2Seq with Attention Mechanism\", \"0.855\", \"0.802\", \"0.712\"]) \n",
    "\n",
    "print(myTable)"
   ]
  }
 ],
 "metadata": {
  "kernelspec": {
   "display_name": "Python 3",
   "language": "python",
   "name": "python3"
  },
  "language_info": {
   "codemirror_mode": {
    "name": "ipython",
    "version": 3
   },
   "file_extension": ".py",
   "mimetype": "text/x-python",
   "name": "python",
   "nbconvert_exporter": "python",
   "pygments_lexer": "ipython3",
   "version": "3.7.6"
  }
 },
 "nbformat": 4,
 "nbformat_minor": 4
}
